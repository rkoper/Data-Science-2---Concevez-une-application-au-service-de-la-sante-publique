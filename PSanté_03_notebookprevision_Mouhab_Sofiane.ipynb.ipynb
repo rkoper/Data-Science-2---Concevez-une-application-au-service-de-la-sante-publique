{
 "cells": [
  {
   "cell_type": "code",
   "execution_count": 1,
   "metadata": {},
   "outputs": [],
   "source": [
    "import pandas as pd\n",
    "import matplotlib.pyplot as plt\n",
    "import seaborn as sns\n",
    "import numpy as np\n",
    "import seaborn as sns"
   ]
  },
  {
   "cell_type": "code",
   "execution_count": 2,
   "metadata": {},
   "outputs": [
    {
     "data": {
      "text/plain": [
       "(412537, 15)"
      ]
     },
     "execution_count": 2,
     "metadata": {},
     "output_type": "execute_result"
    }
   ],
   "source": [
    "%store -r data\n",
    "data.shape"
   ]
  },
  {
   "cell_type": "code",
   "execution_count": 3,
   "metadata": {},
   "outputs": [],
   "source": [
    "def mEmptyGraph(d,str):\n",
    "    d_1 = {'': [d, 100-d]}\n",
    "    d_2 = pd.DataFrame(data=d_1)\n",
    "    d_2.index = ['Cellules pleines', 'Full Cell'] \n",
    "    plot = d_2.plot.pie(subplots=True, figsize=(6,6), fontsize=9)\n",
    "    plt.title(str, fontsize=15)\n",
    "    return plot   \n"
   ]
  },
  {
   "cell_type": "code",
   "execution_count": 4,
   "metadata": {},
   "outputs": [],
   "source": [
    "#Fonction Utile #1\n",
    "def mEmptyCell(data):\n",
    "    all_empty_cell = round((sum(data.isnull().sum()))*100/(len(data)*len(data.columns)))\n",
    "    return all_empty_cell "
   ]
  },
  {
   "cell_type": "code",
   "execution_count": null,
   "metadata": {},
   "outputs": [],
   "source": []
  },
  {
   "cell_type": "code",
   "execution_count": null,
   "metadata": {},
   "outputs": [],
   "source": []
  },
  {
   "cell_type": "code",
   "execution_count": 5,
   "metadata": {},
   "outputs": [
    {
     "name": "stdout",
     "output_type": "stream",
     "text": [
      "<class 'pandas.core.frame.DataFrame'>\n",
      "Index: 412537 entries, 0 to Total\n",
      "Data columns (total 15 columns):\n",
      " #   Column                   Non-Null Count   Dtype \n",
      "---  ------                   --------------   ----- \n",
      " 0   code                     412537 non-null  object\n",
      " 1   product_name             411350 non-null  object\n",
      " 2   brands                   305391 non-null  object\n",
      " 3   categories_en            252720 non-null  object\n",
      " 4   energy-kcal_100g         375772 non-null  object\n",
      " 5   energy_100g              412440 non-null  object\n",
      " 6   fat_100g                 410143 non-null  object\n",
      " 7   saturated-fat_100g       412102 non-null  object\n",
      " 8   carbohydrates_100g       410055 non-null  object\n",
      " 9   sugars_100g              412139 non-null  object\n",
      " 10  proteins_100g            412379 non-null  object\n",
      " 11  salt_100g                409485 non-null  object\n",
      " 12  sodium_100g              409485 non-null  object\n",
      " 13  nutrition-score-fr_100g  235876 non-null  object\n",
      " 14  fiber_100g               131845 non-null  object\n",
      "dtypes: object(15)\n",
      "memory usage: 50.4+ MB\n"
     ]
    },
    {
     "data": {
      "text/html": [
       "<div>\n",
       "<style scoped>\n",
       "    .dataframe tbody tr th:only-of-type {\n",
       "        vertical-align: middle;\n",
       "    }\n",
       "\n",
       "    .dataframe tbody tr th {\n",
       "        vertical-align: top;\n",
       "    }\n",
       "\n",
       "    .dataframe thead th {\n",
       "        text-align: right;\n",
       "    }\n",
       "</style>\n",
       "<table border=\"1\" class=\"dataframe\">\n",
       "  <thead>\n",
       "    <tr style=\"text-align: right;\">\n",
       "      <th></th>\n",
       "      <th>Code</th>\n",
       "      <th>Nom_du_produit</th>\n",
       "      <th>Marque</th>\n",
       "      <th>Categories</th>\n",
       "      <th>Calorie_Kcal</th>\n",
       "      <th>Energie_J</th>\n",
       "      <th>Graisses</th>\n",
       "      <th>Graisses_saturés</th>\n",
       "      <th>Glucides</th>\n",
       "      <th>Sucres</th>\n",
       "      <th>Proteines</th>\n",
       "      <th>Sel</th>\n",
       "      <th>Sodium</th>\n",
       "      <th>Score</th>\n",
       "      <th>Fibres</th>\n",
       "    </tr>\n",
       "  </thead>\n",
       "  <tbody>\n",
       "    <tr>\n",
       "      <th>0</th>\n",
       "      <td>0000000000017</td>\n",
       "      <td>Vitória crackers</td>\n",
       "      <td>NaN</td>\n",
       "      <td>NaN</td>\n",
       "      <td>375</td>\n",
       "      <td>1569</td>\n",
       "      <td>7</td>\n",
       "      <td>3.08</td>\n",
       "      <td>70.1</td>\n",
       "      <td>15</td>\n",
       "      <td>7.8</td>\n",
       "      <td>1.4</td>\n",
       "      <td>0.56</td>\n",
       "      <td>NaN</td>\n",
       "      <td>NaN</td>\n",
       "    </tr>\n",
       "  </tbody>\n",
       "</table>\n",
       "</div>"
      ],
      "text/plain": [
       "            Code    Nom_du_produit Marque Categories Calorie_Kcal Energie_J  \\\n",
       "0  0000000000017  Vitória crackers    NaN        NaN          375      1569   \n",
       "\n",
       "  Graisses Graisses_saturés Glucides Sucres Proteines  Sel Sodium Score Fibres  \n",
       "0        7             3.08     70.1     15       7.8  1.4   0.56   NaN    NaN  "
      ]
     },
     "execution_count": 5,
     "metadata": {},
     "output_type": "execute_result"
    }
   ],
   "source": [
    "data.info()\n",
    "\n",
    "#d_03 = data[[\"product_name\",'nutrition-score-fr_100g',\"saturated-fat_100g\",\"fat_100g\",\"sugars_100g\", \"energy_100g\",\"sodium_100g\",'nutriscore_grade'].copy()]\n",
    "d_03 = data.rename(columns={\n",
    "    'code': 'Code' ,              \n",
    "'product_name': 'Nom_du_produit'     ,  \n",
    "'brands':    'Marque'   ,        \n",
    "'categories_en':   'Categories'    ,   \n",
    "'labels':   'Label'       ,  \n",
    "'energy-kcal_100g':'Calorie_Kcal' ,\n",
    "'energy_100g':  'Energie_J' ,\n",
    "'fat_100g':     'Graisses' ,\n",
    "'saturated-fat_100g':'Graisses_saturés' ,\n",
    "'carbohydrates_100g':'Glucides' ,\n",
    "'sugars_100g': 'Sucres'   ,\n",
    "'proteins_100g': 'Proteines' ,\n",
    "'salt_100g' :     'Sel'  ,\n",
    "'sodium_100g':       'Sodium' ,\n",
    "'nutrition-score-fr_100g' : 'Score',\n",
    "'fiber_100g' : 'Fibres'\n",
    "})\n",
    "d_03.head(1)\n",
    "\n",
    "#Carbohydrates = sucres\n",
    "#sodium = salt\n",
    "\n",
    "#d_7.drop(d_7.columns[-1],axis=1,inplace=True)\n"
   ]
  },
  {
   "cell_type": "code",
   "execution_count": 6,
   "metadata": {},
   "outputs": [
    {
     "data": {
      "text/plain": [
       "(412537, 15)"
      ]
     },
     "execution_count": 6,
     "metadata": {},
     "output_type": "execute_result"
    }
   ],
   "source": [
    "d_03.shape"
   ]
  },
  {
   "cell_type": "code",
   "execution_count": 7,
   "metadata": {},
   "outputs": [
    {
     "name": "stdout",
     "output_type": "stream",
     "text": [
      "//////////////////////\n",
      "Cellules pleines  13 %\n",
      "//////////////////////\n"
     ]
    },
    {
     "data": {
      "image/png": "[encoded data removed]",
      "text/plain": [
       "<Figure size 432x432 with 1 Axes>"
      ]
     },
     "metadata": {},
     "output_type": "display_data"
    }
   ],
   "source": [
    "mEmptyCell_data = mEmptyCell(d_03)\n",
    "print(\"//////////////////////\")\n",
    "print('Cellules pleines ', mEmptyCell_data ,\"%\")\n",
    "print(\"//////////////////////\")\n",
    "str = 'Cellules pleines'\n",
    "str = \"Schema 15  - Verification / Cellules Pleines : 88% / Cellules Vides : 12%\"\n",
    "a = mEmptyGraph(mEmptyCell_data,str)\n"
   ]
  },
  {
   "cell_type": "code",
   "execution_count": 8,
   "metadata": {},
   "outputs": [
    {
     "data": {
      "text/html": [
       "<div>\n",
       "<style scoped>\n",
       "    .dataframe tbody tr th:only-of-type {\n",
       "        vertical-align: middle;\n",
       "    }\n",
       "\n",
       "    .dataframe tbody tr th {\n",
       "        vertical-align: top;\n",
       "    }\n",
       "\n",
       "    .dataframe thead th {\n",
       "        text-align: right;\n",
       "    }\n",
       "</style>\n",
       "<table border=\"1\" class=\"dataframe\">\n",
       "  <thead>\n",
       "    <tr style=\"text-align: right;\">\n",
       "      <th></th>\n",
       "      <th>Code</th>\n",
       "      <th>Nom_du_produit</th>\n",
       "      <th>Marque</th>\n",
       "      <th>Categories</th>\n",
       "      <th>Calorie_Kcal</th>\n",
       "      <th>Energie_J</th>\n",
       "      <th>Graisses</th>\n",
       "      <th>Graisses_saturés</th>\n",
       "      <th>Glucides</th>\n",
       "      <th>Sucres</th>\n",
       "      <th>Proteines</th>\n",
       "      <th>Sel</th>\n",
       "      <th>Sodium</th>\n",
       "      <th>Score</th>\n",
       "      <th>Fibres</th>\n",
       "    </tr>\n",
       "  </thead>\n",
       "  <tbody>\n",
       "    <tr>\n",
       "      <th>21</th>\n",
       "      <td>0000000001281</td>\n",
       "      <td>Tarte noix de coco</td>\n",
       "      <td>Crous Resto',Crous</td>\n",
       "      <td>Pies,Sweet pies,Coconut pies</td>\n",
       "      <td>381</td>\n",
       "      <td>1594</td>\n",
       "      <td>22</td>\n",
       "      <td>15.5</td>\n",
       "      <td>27.3</td>\n",
       "      <td>21.9</td>\n",
       "      <td>4.6</td>\n",
       "      <td>0.1</td>\n",
       "      <td>0.04</td>\n",
       "      <td>14</td>\n",
       "      <td>4.4</td>\n",
       "    </tr>\n",
       "    <tr>\n",
       "      <th>31</th>\n",
       "      <td>0000000001885</td>\n",
       "      <td>Compote de poire</td>\n",
       "      <td>Crous</td>\n",
       "      <td>Plant-based foods and beverages,Plant-based fo...</td>\n",
       "      <td>157</td>\n",
       "      <td>657</td>\n",
       "      <td>0</td>\n",
       "      <td>0</td>\n",
       "      <td>36</td>\n",
       "      <td>27</td>\n",
       "      <td>0.6</td>\n",
       "      <td>0</td>\n",
       "      <td>0</td>\n",
       "      <td>-2</td>\n",
       "      <td>3.6</td>\n",
       "    </tr>\n",
       "    <tr>\n",
       "      <th>66</th>\n",
       "      <td>0000000005470</td>\n",
       "      <td>BAguette bressan</td>\n",
       "      <td>Crousresto'</td>\n",
       "      <td>Plant-based foods and beverages,Plant-based fo...</td>\n",
       "      <td>160</td>\n",
       "      <td>669</td>\n",
       "      <td>2.2</td>\n",
       "      <td>0.5</td>\n",
       "      <td>25.2</td>\n",
       "      <td>0.6</td>\n",
       "      <td>9.5</td>\n",
       "      <td>0.358</td>\n",
       "      <td>0.1432</td>\n",
       "      <td>-4</td>\n",
       "      <td>1.6</td>\n",
       "    </tr>\n",
       "    <tr>\n",
       "      <th>384</th>\n",
       "      <td>0000005016</td>\n",
       "      <td>Pesto à La Roquette Bio Kazidomi</td>\n",
       "      <td>Kazidomi</td>\n",
       "      <td>Groceries,Sauces,Pestos</td>\n",
       "      <td>561</td>\n",
       "      <td>2318</td>\n",
       "      <td>53.2</td>\n",
       "      <td>9.6</td>\n",
       "      <td>11.7</td>\n",
       "      <td>0.5</td>\n",
       "      <td>8.2</td>\n",
       "      <td>2.7</td>\n",
       "      <td>1.08</td>\n",
       "      <td>23</td>\n",
       "      <td>1.3</td>\n",
       "    </tr>\n",
       "    <tr>\n",
       "      <th>385</th>\n",
       "      <td>0000005018</td>\n",
       "      <td>Crème d'Artichaut Bio Kazidomi</td>\n",
       "      <td>Kazidomi</td>\n",
       "      <td>Spreads,Salted spreads,Artichoke spreads</td>\n",
       "      <td>268</td>\n",
       "      <td>1104</td>\n",
       "      <td>27.4</td>\n",
       "      <td>3.9</td>\n",
       "      <td>1.8</td>\n",
       "      <td>0</td>\n",
       "      <td>1.9</td>\n",
       "      <td>2.7</td>\n",
       "      <td>1.08</td>\n",
       "      <td>11</td>\n",
       "      <td>3.5</td>\n",
       "    </tr>\n",
       "    <tr>\n",
       "      <th>394</th>\n",
       "      <td>0000007020254</td>\n",
       "      <td>Root Beer</td>\n",
       "      <td>A&amp;W</td>\n",
       "      <td>Beverages,Carbonated drinks,Sodas,Sweetened be...</td>\n",
       "      <td>51</td>\n",
       "      <td>213</td>\n",
       "      <td>0</td>\n",
       "      <td>0</td>\n",
       "      <td>14</td>\n",
       "      <td>0</td>\n",
       "      <td>0</td>\n",
       "      <td>1</td>\n",
       "      <td>0.4</td>\n",
       "      <td>12</td>\n",
       "      <td>0</td>\n",
       "    </tr>\n",
       "    <tr>\n",
       "      <th>440</th>\n",
       "      <td>0000010206515</td>\n",
       "      <td>Pâte à Sucre</td>\n",
       "      <td>Alice Délice</td>\n",
       "      <td>Snacks,Sweet snacks,Confectioneries,Cooking he...</td>\n",
       "      <td>411</td>\n",
       "      <td>1720</td>\n",
       "      <td>6.42</td>\n",
       "      <td>3.53</td>\n",
       "      <td>87.86</td>\n",
       "      <td>81.67</td>\n",
       "      <td>0.03</td>\n",
       "      <td>0.1</td>\n",
       "      <td>0.04</td>\n",
       "      <td>18</td>\n",
       "      <td>0</td>\n",
       "    </tr>\n",
       "    <tr>\n",
       "      <th>558</th>\n",
       "      <td>0000030053014</td>\n",
       "      <td>Pastille Vichy</td>\n",
       "      <td>Vichy</td>\n",
       "      <td>Snacks,Sweet snacks,Confectioneries,Candies,fr...</td>\n",
       "      <td>250</td>\n",
       "      <td>1046</td>\n",
       "      <td>0</td>\n",
       "      <td>0</td>\n",
       "      <td>95</td>\n",
       "      <td>0</td>\n",
       "      <td>0</td>\n",
       "      <td>0</td>\n",
       "      <td>0</td>\n",
       "      <td>3</td>\n",
       "      <td>0</td>\n",
       "    </tr>\n",
       "    <tr>\n",
       "      <th>577</th>\n",
       "      <td>0000040144078</td>\n",
       "      <td>M&amp;M's Peanut Butter</td>\n",
       "      <td>M&amp;M's,Mars,Mars Chocolat</td>\n",
       "      <td>Snacks,Sweet snacks,Confectioneries,Chocolate ...</td>\n",
       "      <td>563</td>\n",
       "      <td>2360</td>\n",
       "      <td>30.5</td>\n",
       "      <td>18.8</td>\n",
       "      <td>51.6</td>\n",
       "      <td>51.6</td>\n",
       "      <td>0</td>\n",
       "      <td>2.23</td>\n",
       "      <td>0.892</td>\n",
       "      <td>36</td>\n",
       "      <td>0</td>\n",
       "    </tr>\n",
       "    <tr>\n",
       "      <th>598</th>\n",
       "      <td>0000050457540</td>\n",
       "      <td>Heinz Burger Sauce 220Ml</td>\n",
       "      <td>Heinz</td>\n",
       "      <td>Groceries,Sauces,Burger sauces</td>\n",
       "      <td>408</td>\n",
       "      <td>1707</td>\n",
       "      <td>37</td>\n",
       "      <td>4</td>\n",
       "      <td>17</td>\n",
       "      <td>12</td>\n",
       "      <td>1.7</td>\n",
       "      <td>2.2</td>\n",
       "      <td>0.88</td>\n",
       "      <td>19</td>\n",
       "      <td>0.2</td>\n",
       "    </tr>\n",
       "  </tbody>\n",
       "</table>\n",
       "</div>"
      ],
      "text/plain": [
       "              Code                    Nom_du_produit  \\\n",
       "21   0000000001281                Tarte noix de coco   \n",
       "31   0000000001885                  Compote de poire   \n",
       "66   0000000005470                  BAguette bressan   \n",
       "384     0000005016  Pesto à La Roquette Bio Kazidomi   \n",
       "385     0000005018    Crème d'Artichaut Bio Kazidomi   \n",
       "394  0000007020254                         Root Beer   \n",
       "440  0000010206515                      Pâte à Sucre   \n",
       "558  0000030053014                    Pastille Vichy   \n",
       "577  0000040144078               M&M's Peanut Butter   \n",
       "598  0000050457540          Heinz Burger Sauce 220Ml   \n",
       "\n",
       "                       Marque  \\\n",
       "21         Crous Resto',Crous   \n",
       "31                      Crous   \n",
       "66                Crousresto'   \n",
       "384                  Kazidomi   \n",
       "385                  Kazidomi   \n",
       "394                       A&W   \n",
       "440              Alice Délice   \n",
       "558                     Vichy   \n",
       "577  M&M's,Mars,Mars Chocolat   \n",
       "598                     Heinz   \n",
       "\n",
       "                                            Categories Calorie_Kcal Energie_J  \\\n",
       "21                        Pies,Sweet pies,Coconut pies          381      1594   \n",
       "31   Plant-based foods and beverages,Plant-based fo...          157       657   \n",
       "66   Plant-based foods and beverages,Plant-based fo...          160       669   \n",
       "384                            Groceries,Sauces,Pestos          561      2318   \n",
       "385           Spreads,Salted spreads,Artichoke spreads          268      1104   \n",
       "394  Beverages,Carbonated drinks,Sodas,Sweetened be...           51       213   \n",
       "440  Snacks,Sweet snacks,Confectioneries,Cooking he...          411      1720   \n",
       "558  Snacks,Sweet snacks,Confectioneries,Candies,fr...          250      1046   \n",
       "577  Snacks,Sweet snacks,Confectioneries,Chocolate ...          563      2360   \n",
       "598                     Groceries,Sauces,Burger sauces          408      1707   \n",
       "\n",
       "    Graisses Graisses_saturés Glucides Sucres Proteines    Sel  Sodium Score  \\\n",
       "21        22             15.5     27.3   21.9       4.6    0.1    0.04    14   \n",
       "31         0                0       36     27       0.6      0       0    -2   \n",
       "66       2.2              0.5     25.2    0.6       9.5  0.358  0.1432    -4   \n",
       "384     53.2              9.6     11.7    0.5       8.2    2.7    1.08    23   \n",
       "385     27.4              3.9      1.8      0       1.9    2.7    1.08    11   \n",
       "394        0                0       14      0         0      1     0.4    12   \n",
       "440     6.42             3.53    87.86  81.67      0.03    0.1    0.04    18   \n",
       "558        0                0       95      0         0      0       0     3   \n",
       "577     30.5             18.8     51.6   51.6         0   2.23   0.892    36   \n",
       "598       37                4       17     12       1.7    2.2    0.88    19   \n",
       "\n",
       "    Fibres  \n",
       "21     4.4  \n",
       "31     3.6  \n",
       "66     1.6  \n",
       "384    1.3  \n",
       "385    3.5  \n",
       "394      0  \n",
       "440      0  \n",
       "558      0  \n",
       "577      0  \n",
       "598    0.2  "
      ]
     },
     "execution_count": 8,
     "metadata": {},
     "output_type": "execute_result"
    }
   ],
   "source": [
    "\n",
    "d_04 = d_03.dropna()\n",
    "d_04.head(10)"
   ]
  },
  {
   "cell_type": "code",
   "execution_count": 9,
   "metadata": {},
   "outputs": [
    {
     "name": "stdout",
     "output_type": "stream",
     "text": [
      "              Score\n",
      "count  74054.000000\n",
      "mean       7.216207\n",
      "std        8.819116\n",
      "min      -15.000000\n",
      "25%        0.000000\n",
      "50%        6.000000\n",
      "75%       14.000000\n",
      "max       40.000000\n",
      "==================================================\n",
      "       Graisses_saturés\n",
      "count      74054.000000\n",
      "mean           4.429632\n",
      "std            8.071498\n",
      "min            0.000000\n",
      "25%            0.000000\n",
      "50%            1.000000\n",
      "75%            6.000000\n",
      "max          120.000000\n",
      "==================================================\n",
      "           Graisses\n",
      "count  74054.000000\n",
      "mean      13.096484\n",
      "std       17.958305\n",
      "min        0.000000\n",
      "25%        0.000000\n",
      "50%        6.000000\n",
      "75%       20.000000\n",
      "max      100.000000\n",
      "==================================================\n",
      "             Sucres\n",
      "count  74054.000000\n",
      "mean      12.868515\n",
      "std       18.106210\n",
      "min        0.000000\n",
      "25%        1.000000\n",
      "50%        4.000000\n",
      "75%       19.000000\n",
      "max      100.000000\n",
      "==================================================\n",
      "          Energie_J\n",
      "count  74054.000000\n",
      "mean    1157.626637\n",
      "std      880.121065\n",
      "min        0.000000\n",
      "25%      423.000000\n",
      "50%     1084.000000\n",
      "75%     1715.000000\n",
      "max    86200.000000\n",
      "==================================================\n",
      "           Glucides\n",
      "count  74054.000000\n",
      "mean      29.853755\n",
      "std       27.291796\n",
      "min        0.000000\n",
      "25%        5.000000\n",
      "50%       18.000000\n",
      "75%       56.000000\n",
      "max      198.000000\n",
      "==================================================\n",
      "       Calorie_Kcal\n",
      "count  74054.000000\n",
      "mean     277.164326\n",
      "std      211.617727\n",
      "min        0.000000\n",
      "25%      101.000000\n",
      "50%      259.000000\n",
      "75%      410.000000\n",
      "max    20600.000000\n",
      "==================================================\n",
      "                Sel\n",
      "count  74054.000000\n",
      "mean       0.575472\n",
      "std        2.745119\n",
      "min        0.000000\n",
      "25%        0.000000\n",
      "50%        0.000000\n",
      "75%        1.000000\n",
      "max      310.000000\n",
      "==================================================\n",
      "          Proteines\n",
      "count  74054.000000\n",
      "mean       7.251006\n",
      "std        8.329643\n",
      "min        0.000000\n",
      "25%        1.000000\n",
      "50%        5.000000\n",
      "75%       10.000000\n",
      "max      110.000000\n",
      "==================================================\n",
      "             Fibres\n",
      "count  74054.000000\n",
      "mean       2.607341\n",
      "std        4.511914\n",
      "min        0.000000\n",
      "25%        0.000000\n",
      "50%        1.000000\n",
      "75%        3.000000\n",
      "max      100.000000\n",
      "==================================================\n"
     ]
    }
   ],
   "source": [
    "print((d_04.filter(['Score'], axis=1)).astype(int).describe())\n",
    "print(\"==================================================\")\n",
    "print((d_04.filter(['Graisses_saturés'], axis=1)).astype(int).describe())\n",
    "print(\"==================================================\")\n",
    "print((d_04.filter(['Graisses'], axis=1)).astype(int).describe())\n",
    "print(\"==================================================\")\n",
    "print((d_04.filter(['Sucres'], axis=1)).astype(int).describe())\n",
    "print(\"==================================================\")\n",
    "print((d_04.filter(['Energie_J'], axis=1)).astype(int).describe())\n",
    "print(\"==================================================\")\n",
    "print((d_04.filter(['Glucides'], axis=1)).astype(int).describe())\n",
    "print(\"==================================================\")\n",
    "print((d_04.filter(['Calorie_Kcal'], axis=1)).astype(int).describe())\n",
    "print(\"==================================================\")\n",
    "print((d_04.filter(['Sel'], axis=1)).astype(int).describe())\n",
    "print(\"==================================================\")\n",
    "print((d_04.filter(['Proteines'], axis=1)).astype(int).describe())\n",
    "print(\"==================================================\")\n",
    "print((d_04.filter(['Fibres'], axis=1)).astype(int).describe())\n",
    "print(\"==================================================\")"
   ]
  },
  {
   "cell_type": "markdown",
   "metadata": {},
   "source": [
    "# 1 -----SCORE 1"
   ]
  },
  {
   "cell_type": "code",
   "execution_count": 10,
   "metadata": {},
   "outputs": [
    {
     "data": {
      "text/html": [
       "<div>\n",
       "<style scoped>\n",
       "    .dataframe tbody tr th:only-of-type {\n",
       "        vertical-align: middle;\n",
       "    }\n",
       "\n",
       "    .dataframe tbody tr th {\n",
       "        vertical-align: top;\n",
       "    }\n",
       "\n",
       "    .dataframe thead th {\n",
       "        text-align: right;\n",
       "    }\n",
       "</style>\n",
       "<table border=\"1\" class=\"dataframe\">\n",
       "  <thead>\n",
       "    <tr style=\"text-align: right;\">\n",
       "      <th></th>\n",
       "      <th>Score</th>\n",
       "    </tr>\n",
       "  </thead>\n",
       "  <tbody>\n",
       "    <tr>\n",
       "      <th>count</th>\n",
       "      <td>74054.000000</td>\n",
       "    </tr>\n",
       "    <tr>\n",
       "      <th>mean</th>\n",
       "      <td>7.216214</td>\n",
       "    </tr>\n",
       "    <tr>\n",
       "      <th>std</th>\n",
       "      <td>8.819110</td>\n",
       "    </tr>\n",
       "    <tr>\n",
       "      <th>min</th>\n",
       "      <td>-15.000000</td>\n",
       "    </tr>\n",
       "    <tr>\n",
       "      <th>25%</th>\n",
       "      <td>0.000000</td>\n",
       "    </tr>\n",
       "    <tr>\n",
       "      <th>50%</th>\n",
       "      <td>6.000000</td>\n",
       "    </tr>\n",
       "    <tr>\n",
       "      <th>75%</th>\n",
       "      <td>14.000000</td>\n",
       "    </tr>\n",
       "    <tr>\n",
       "      <th>max</th>\n",
       "      <td>40.000000</td>\n",
       "    </tr>\n",
       "  </tbody>\n",
       "</table>\n",
       "</div>"
      ],
      "text/plain": [
       "              Score\n",
       "count  74054.000000\n",
       "mean       7.216214\n",
       "std        8.819110\n",
       "min      -15.000000\n",
       "25%        0.000000\n",
       "50%        6.000000\n",
       "75%       14.000000\n",
       "max       40.000000"
      ]
     },
     "execution_count": 10,
     "metadata": {},
     "output_type": "execute_result"
    },
    {
     "data": {
      "image/png": "[encoded data removed]",
      "text/plain": [
       "<Figure size 216x504 with 1 Axes>"
      ]
     },
     "metadata": {
      "needs_background": "light"
     },
     "output_type": "display_data"
    }
   ],
   "source": [
    "d_04_Score = d_04.filter(['Score'], axis=1)\n",
    "d_04_Score['Score'] = pd.to_numeric(d_04_Score['Score'])\n",
    "\n",
    "#boxplot Avant\n",
    "plt.figure(figsize=(3, 7))\n",
    "boxplot_Score = d_04_Score.boxplot(column=['Score'])\n",
    "plt.title('Schema 16 -  Boxplot score avant Filtre', fontsize=15)\n",
    "d_04_Score.describe()"
   ]
  },
  {
   "cell_type": "code",
   "execution_count": 11,
   "metadata": {},
   "outputs": [
    {
     "name": "stdout",
     "output_type": "stream",
     "text": [
      "//////////////////////\n",
      "Cellules pleines :  Score 0 %\n",
      "//////////////////////\n"
     ]
    },
    {
     "data": {
      "image/png": "[encoded data removed]",
      "text/plain": [
       "<Figure size 432x432 with 1 Axes>"
      ]
     },
     "metadata": {},
     "output_type": "display_data"
    }
   ],
   "source": [
    "mEmptyCell_data = mEmptyCell(d_04_Score)\n",
    "print(\"//////////////////////\")\n",
    "print('Cellules pleines :  Score', mEmptyCell_data ,\"%\")\n",
    "print(\"//////////////////////\")\n",
    "str = 'Schema 17 / Cellules pleines :  Score'\n",
    "\n",
    "\n",
    "a = mEmptyGraph(mEmptyCell_data,str)"
   ]
  },
  {
   "cell_type": "code",
   "execution_count": 12,
   "metadata": {
    "scrolled": true
   },
   "outputs": [
    {
     "name": "stdout",
     "output_type": "stream",
     "text": [
      "Score 2----               Score\n",
      "count  74054.000000\n",
      "mean       7.216214\n",
      "std        8.819110\n",
      "min      -15.000000\n",
      "25%        0.000000\n",
      "50%        6.000000\n",
      "75%       14.000000\n",
      "max       40.000000\n",
      "Score 3---- (74054, 1)\n"
     ]
    }
   ],
   "source": [
    "#-----SCORE 1 : Drop NA -------\n",
    "d_041_score = d_04_Score.dropna()\n",
    "print(\"Score 2----\", d_041_score.describe())\n",
    "#-----SCORE 2 : Filtre 25 / 75 -------\n",
    "print(\"Score 3----\", d_041_score.shape)\n",
    "d_042_score_filter = d_041_score.drop(d_041_score[d_041_score.Score < 0].index)\n",
    "d_043_score_filter = d_042_score_filter.drop(d_041_score[d_041_score.Score > 14].index)\n",
    "d_score_filter = d_043_score_filter.sort_values(by=['Score'], ascending=False)\n"
   ]
  },
  {
   "cell_type": "code",
   "execution_count": 13,
   "metadata": {},
   "outputs": [
    {
     "data": {
      "text/html": [
       "<div>\n",
       "<style scoped>\n",
       "    .dataframe tbody tr th:only-of-type {\n",
       "        vertical-align: middle;\n",
       "    }\n",
       "\n",
       "    .dataframe tbody tr th {\n",
       "        vertical-align: top;\n",
       "    }\n",
       "\n",
       "    .dataframe thead th {\n",
       "        text-align: right;\n",
       "    }\n",
       "</style>\n",
       "<table border=\"1\" class=\"dataframe\">\n",
       "  <thead>\n",
       "    <tr style=\"text-align: right;\">\n",
       "      <th></th>\n",
       "      <th>Score</th>\n",
       "    </tr>\n",
       "  </thead>\n",
       "  <tbody>\n",
       "    <tr>\n",
       "      <th>count</th>\n",
       "      <td>74054.000000</td>\n",
       "    </tr>\n",
       "    <tr>\n",
       "      <th>mean</th>\n",
       "      <td>7.216214</td>\n",
       "    </tr>\n",
       "    <tr>\n",
       "      <th>std</th>\n",
       "      <td>8.819110</td>\n",
       "    </tr>\n",
       "    <tr>\n",
       "      <th>min</th>\n",
       "      <td>-15.000000</td>\n",
       "    </tr>\n",
       "    <tr>\n",
       "      <th>25%</th>\n",
       "      <td>0.000000</td>\n",
       "    </tr>\n",
       "    <tr>\n",
       "      <th>50%</th>\n",
       "      <td>6.000000</td>\n",
       "    </tr>\n",
       "    <tr>\n",
       "      <th>75%</th>\n",
       "      <td>14.000000</td>\n",
       "    </tr>\n",
       "    <tr>\n",
       "      <th>max</th>\n",
       "      <td>40.000000</td>\n",
       "    </tr>\n",
       "  </tbody>\n",
       "</table>\n",
       "</div>"
      ],
      "text/plain": [
       "              Score\n",
       "count  74054.000000\n",
       "mean       7.216214\n",
       "std        8.819110\n",
       "min      -15.000000\n",
       "25%        0.000000\n",
       "50%        6.000000\n",
       "75%       14.000000\n",
       "max       40.000000"
      ]
     },
     "execution_count": 13,
     "metadata": {},
     "output_type": "execute_result"
    },
    {
     "data": {
      "image/png": "[encoded data removed]",
      "text/plain": [
       "<Figure size 504x504 with 1 Axes>"
      ]
     },
     "metadata": {
      "needs_background": "light"
     },
     "output_type": "display_data"
    }
   ],
   "source": [
    "#boxplot Aprés\n",
    "plt.figure(figsize=(7, 7))\n",
    "boxplot_Score = d_score_filter.boxplot(column=['Score'])\n",
    "plt.title('Schema 18 -  Boxplot score aprés Filtre', fontsize=15)\n",
    "d_04_Score.describe()"
   ]
  },
  {
   "cell_type": "code",
   "execution_count": 14,
   "metadata": {},
   "outputs": [],
   "source": [
    "\n",
    "\n",
    "############################ GRAPH 1 ############################\n",
    "\n",
    "\n",
    "#plt.figure(figsize=(7, 7))\n",
    "#sns.set(font_scale=1)\n",
    "#res = sns.lineplot(x=d_score_filter.index, y='Score', data=d_score_filter) \n",
    "#res.set(xlim=(0,1),xticks=[0,78360],yticks=[]) \n",
    "#plt.xticks(rotation=65)\n",
    "#plt.title(\"Score\", fontsize=15)\n"
   ]
  },
  {
   "cell_type": "code",
   "execution_count": 15,
   "metadata": {},
   "outputs": [],
   "source": [
    "# ----------------------- A faire Tourner\n",
    "#sns.set_theme(style=\"whitegrid\")\n",
    "#ax = sns.barplot(x=d_score_filter.index, y=\"Score\", data=d_score_filter)"
   ]
  },
  {
   "cell_type": "markdown",
   "metadata": {},
   "source": [
    "# 2 -----sat_fat "
   ]
  },
  {
   "cell_type": "code",
   "execution_count": 16,
   "metadata": {},
   "outputs": [
    {
     "data": {
      "text/html": [
       "<div>\n",
       "<style scoped>\n",
       "    .dataframe tbody tr th:only-of-type {\n",
       "        vertical-align: middle;\n",
       "    }\n",
       "\n",
       "    .dataframe tbody tr th {\n",
       "        vertical-align: top;\n",
       "    }\n",
       "\n",
       "    .dataframe thead th {\n",
       "        text-align: right;\n",
       "    }\n",
       "</style>\n",
       "<table border=\"1\" class=\"dataframe\">\n",
       "  <thead>\n",
       "    <tr style=\"text-align: right;\">\n",
       "      <th></th>\n",
       "      <th>Code</th>\n",
       "      <th>Nom_du_produit</th>\n",
       "      <th>Marque</th>\n",
       "      <th>Categories</th>\n",
       "      <th>Calorie_Kcal</th>\n",
       "      <th>Energie_J</th>\n",
       "      <th>Graisses</th>\n",
       "      <th>Graisses_saturés</th>\n",
       "      <th>Glucides</th>\n",
       "      <th>Sucres</th>\n",
       "      <th>Proteines</th>\n",
       "      <th>Sel</th>\n",
       "      <th>Sodium</th>\n",
       "      <th>Score</th>\n",
       "      <th>Fibres</th>\n",
       "    </tr>\n",
       "  </thead>\n",
       "  <tbody>\n",
       "    <tr>\n",
       "      <th>21</th>\n",
       "      <td>0000000001281</td>\n",
       "      <td>Tarte noix de coco</td>\n",
       "      <td>Crous Resto',Crous</td>\n",
       "      <td>Pies,Sweet pies,Coconut pies</td>\n",
       "      <td>381</td>\n",
       "      <td>1594</td>\n",
       "      <td>22</td>\n",
       "      <td>15.5</td>\n",
       "      <td>27.3</td>\n",
       "      <td>21.9</td>\n",
       "      <td>4.6</td>\n",
       "      <td>0.1</td>\n",
       "      <td>0.04</td>\n",
       "      <td>14</td>\n",
       "      <td>4.4</td>\n",
       "    </tr>\n",
       "    <tr>\n",
       "      <th>31</th>\n",
       "      <td>0000000001885</td>\n",
       "      <td>Compote de poire</td>\n",
       "      <td>Crous</td>\n",
       "      <td>Plant-based foods and beverages,Plant-based fo...</td>\n",
       "      <td>157</td>\n",
       "      <td>657</td>\n",
       "      <td>0</td>\n",
       "      <td>0</td>\n",
       "      <td>36</td>\n",
       "      <td>27</td>\n",
       "      <td>0.6</td>\n",
       "      <td>0</td>\n",
       "      <td>0</td>\n",
       "      <td>-2</td>\n",
       "      <td>3.6</td>\n",
       "    </tr>\n",
       "    <tr>\n",
       "      <th>66</th>\n",
       "      <td>0000000005470</td>\n",
       "      <td>BAguette bressan</td>\n",
       "      <td>Crousresto'</td>\n",
       "      <td>Plant-based foods and beverages,Plant-based fo...</td>\n",
       "      <td>160</td>\n",
       "      <td>669</td>\n",
       "      <td>2.2</td>\n",
       "      <td>0.5</td>\n",
       "      <td>25.2</td>\n",
       "      <td>0.6</td>\n",
       "      <td>9.5</td>\n",
       "      <td>0.358</td>\n",
       "      <td>0.1432</td>\n",
       "      <td>-4</td>\n",
       "      <td>1.6</td>\n",
       "    </tr>\n",
       "    <tr>\n",
       "      <th>384</th>\n",
       "      <td>0000005016</td>\n",
       "      <td>Pesto à La Roquette Bio Kazidomi</td>\n",
       "      <td>Kazidomi</td>\n",
       "      <td>Groceries,Sauces,Pestos</td>\n",
       "      <td>561</td>\n",
       "      <td>2318</td>\n",
       "      <td>53.2</td>\n",
       "      <td>9.6</td>\n",
       "      <td>11.7</td>\n",
       "      <td>0.5</td>\n",
       "      <td>8.2</td>\n",
       "      <td>2.7</td>\n",
       "      <td>1.08</td>\n",
       "      <td>23</td>\n",
       "      <td>1.3</td>\n",
       "    </tr>\n",
       "    <tr>\n",
       "      <th>385</th>\n",
       "      <td>0000005018</td>\n",
       "      <td>Crème d'Artichaut Bio Kazidomi</td>\n",
       "      <td>Kazidomi</td>\n",
       "      <td>Spreads,Salted spreads,Artichoke spreads</td>\n",
       "      <td>268</td>\n",
       "      <td>1104</td>\n",
       "      <td>27.4</td>\n",
       "      <td>3.9</td>\n",
       "      <td>1.8</td>\n",
       "      <td>0</td>\n",
       "      <td>1.9</td>\n",
       "      <td>2.7</td>\n",
       "      <td>1.08</td>\n",
       "      <td>11</td>\n",
       "      <td>3.5</td>\n",
       "    </tr>\n",
       "    <tr>\n",
       "      <th>...</th>\n",
       "      <td>...</td>\n",
       "      <td>...</td>\n",
       "      <td>...</td>\n",
       "      <td>...</td>\n",
       "      <td>...</td>\n",
       "      <td>...</td>\n",
       "      <td>...</td>\n",
       "      <td>...</td>\n",
       "      <td>...</td>\n",
       "      <td>...</td>\n",
       "      <td>...</td>\n",
       "      <td>...</td>\n",
       "      <td>...</td>\n",
       "      <td>...</td>\n",
       "      <td>...</td>\n",
       "    </tr>\n",
       "    <tr>\n",
       "      <th>1555145</th>\n",
       "      <td>990530101017343401</td>\n",
       "      <td>Barre bio</td>\n",
       "      <td>Good Gout</td>\n",
       "      <td>Plant-based foods and beverages,Plant-based fo...</td>\n",
       "      <td>509</td>\n",
       "      <td>2130</td>\n",
       "      <td>32.1</td>\n",
       "      <td>2.8</td>\n",
       "      <td>37.8</td>\n",
       "      <td>29.2</td>\n",
       "      <td>14</td>\n",
       "      <td>0.1</td>\n",
       "      <td>0.04</td>\n",
       "      <td>9</td>\n",
       "      <td>6.4</td>\n",
       "    </tr>\n",
       "    <tr>\n",
       "      <th>1555172</th>\n",
       "      <td>990530101029435828</td>\n",
       "      <td>Bio cookies</td>\n",
       "      <td>Griesson</td>\n",
       "      <td>Snacks,Sweet snacks,Biscuits and cakes,Biscuit...</td>\n",
       "      <td>477</td>\n",
       "      <td>1996</td>\n",
       "      <td>20</td>\n",
       "      <td>8.4</td>\n",
       "      <td>66</td>\n",
       "      <td>33</td>\n",
       "      <td>6.6</td>\n",
       "      <td>0.6</td>\n",
       "      <td>0.24</td>\n",
       "      <td>19</td>\n",
       "      <td>3.3</td>\n",
       "    </tr>\n",
       "    <tr>\n",
       "      <th>1555265</th>\n",
       "      <td>9938809161503</td>\n",
       "      <td>Jus de fruit Innocent pomme ,peche et poire</td>\n",
       "      <td>Innocent</td>\n",
       "      <td>fr:jus-de-pomme-poire</td>\n",
       "      <td>45</td>\n",
       "      <td>188</td>\n",
       "      <td>0.1</td>\n",
       "      <td>0.1</td>\n",
       "      <td>9.9</td>\n",
       "      <td>9.3</td>\n",
       "      <td>0.4</td>\n",
       "      <td>0.01</td>\n",
       "      <td>0.004</td>\n",
       "      <td>1</td>\n",
       "      <td>1.2</td>\n",
       "    </tr>\n",
       "    <tr>\n",
       "      <th>1555307</th>\n",
       "      <td>9950014911001</td>\n",
       "      <td>Oignons jaunes 40/60</td>\n",
       "      <td>Ferme De L'artois</td>\n",
       "      <td>Plant-based foods and beverages,Plant-based fo...</td>\n",
       "      <td>0</td>\n",
       "      <td>0</td>\n",
       "      <td>5</td>\n",
       "      <td>5</td>\n",
       "      <td>2</td>\n",
       "      <td>0.5</td>\n",
       "      <td>32</td>\n",
       "      <td>0.2</td>\n",
       "      <td>0.08</td>\n",
       "      <td>-11</td>\n",
       "      <td>25</td>\n",
       "    </tr>\n",
       "    <tr>\n",
       "      <th>Total</th>\n",
       "      <td>0</td>\n",
       "      <td>0.0346904</td>\n",
       "      <td>0.302957</td>\n",
       "      <td>0.421298</td>\n",
       "      <td>0.2428</td>\n",
       "      <td>0.168235</td>\n",
       "      <td>0.174449</td>\n",
       "      <td>0.173235</td>\n",
       "      <td>0.174946</td>\n",
       "      <td>0.17268</td>\n",
       "      <td>0.17054</td>\n",
       "      <td>0.194266</td>\n",
       "      <td>0.194268</td>\n",
       "      <td>0.537193</td>\n",
       "      <td>0.741382</td>\n",
       "    </tr>\n",
       "  </tbody>\n",
       "</table>\n",
       "<p>74054 rows × 15 columns</p>\n",
       "</div>"
      ],
      "text/plain": [
       "                       Code                               Nom_du_produit  \\\n",
       "21            0000000001281                           Tarte noix de coco   \n",
       "31            0000000001885                             Compote de poire   \n",
       "66            0000000005470                             BAguette bressan   \n",
       "384              0000005016             Pesto à La Roquette Bio Kazidomi   \n",
       "385              0000005018               Crème d'Artichaut Bio Kazidomi   \n",
       "...                     ...                                          ...   \n",
       "1555145  990530101017343401                                    Barre bio   \n",
       "1555172  990530101029435828                                  Bio cookies   \n",
       "1555265       9938809161503  Jus de fruit Innocent pomme ,peche et poire   \n",
       "1555307       9950014911001                         Oignons jaunes 40/60   \n",
       "Total                     0                                    0.0346904   \n",
       "\n",
       "                     Marque  \\\n",
       "21       Crous Resto',Crous   \n",
       "31                    Crous   \n",
       "66              Crousresto'   \n",
       "384                Kazidomi   \n",
       "385                Kazidomi   \n",
       "...                     ...   \n",
       "1555145           Good Gout   \n",
       "1555172            Griesson   \n",
       "1555265            Innocent   \n",
       "1555307   Ferme De L'artois   \n",
       "Total              0.302957   \n",
       "\n",
       "                                                Categories Calorie_Kcal  \\\n",
       "21                            Pies,Sweet pies,Coconut pies          381   \n",
       "31       Plant-based foods and beverages,Plant-based fo...          157   \n",
       "66       Plant-based foods and beverages,Plant-based fo...          160   \n",
       "384                                Groceries,Sauces,Pestos          561   \n",
       "385               Spreads,Salted spreads,Artichoke spreads          268   \n",
       "...                                                    ...          ...   \n",
       "1555145  Plant-based foods and beverages,Plant-based fo...          509   \n",
       "1555172  Snacks,Sweet snacks,Biscuits and cakes,Biscuit...          477   \n",
       "1555265                              fr:jus-de-pomme-poire           45   \n",
       "1555307  Plant-based foods and beverages,Plant-based fo...            0   \n",
       "Total                                             0.421298       0.2428   \n",
       "\n",
       "        Energie_J  Graisses Graisses_saturés  Glucides   Sucres Proteines  \\\n",
       "21           1594        22             15.5      27.3     21.9       4.6   \n",
       "31            657         0                0        36       27       0.6   \n",
       "66            669       2.2              0.5      25.2      0.6       9.5   \n",
       "384          2318      53.2              9.6      11.7      0.5       8.2   \n",
       "385          1104      27.4              3.9       1.8        0       1.9   \n",
       "...           ...       ...              ...       ...      ...       ...   \n",
       "1555145      2130      32.1              2.8      37.8     29.2        14   \n",
       "1555172      1996        20              8.4        66       33       6.6   \n",
       "1555265       188       0.1              0.1       9.9      9.3       0.4   \n",
       "1555307         0         5                5         2      0.5        32   \n",
       "Total    0.168235  0.174449         0.173235  0.174946  0.17268   0.17054   \n",
       "\n",
       "              Sel    Sodium     Score    Fibres  \n",
       "21            0.1      0.04        14       4.4  \n",
       "31              0         0        -2       3.6  \n",
       "66          0.358    0.1432        -4       1.6  \n",
       "384           2.7      1.08        23       1.3  \n",
       "385           2.7      1.08        11       3.5  \n",
       "...           ...       ...       ...       ...  \n",
       "1555145       0.1      0.04         9       6.4  \n",
       "1555172       0.6      0.24        19       3.3  \n",
       "1555265      0.01     0.004         1       1.2  \n",
       "1555307       0.2      0.08       -11        25  \n",
       "Total    0.194266  0.194268  0.537193  0.741382  \n",
       "\n",
       "[74054 rows x 15 columns]"
      ]
     },
     "execution_count": 16,
     "metadata": {},
     "output_type": "execute_result"
    }
   ],
   "source": [
    "d_04"
   ]
  },
  {
   "cell_type": "code",
   "execution_count": 17,
   "metadata": {
    "scrolled": true
   },
   "outputs": [],
   "source": [
    "d_04_SatFat = d_04.filter(['Graisses_saturés'], axis=1)\n",
    "d_04_SatFat['Graisses_saturés'] = pd.to_numeric(d_04_SatFat['Graisses_saturés'])\n",
    "\n",
    "\n"
   ]
  },
  {
   "cell_type": "code",
   "execution_count": 18,
   "metadata": {},
   "outputs": [
    {
     "data": {
      "text/html": [
       "<div>\n",
       "<style scoped>\n",
       "    .dataframe tbody tr th:only-of-type {\n",
       "        vertical-align: middle;\n",
       "    }\n",
       "\n",
       "    .dataframe tbody tr th {\n",
       "        vertical-align: top;\n",
       "    }\n",
       "\n",
       "    .dataframe thead th {\n",
       "        text-align: right;\n",
       "    }\n",
       "</style>\n",
       "<table border=\"1\" class=\"dataframe\">\n",
       "  <thead>\n",
       "    <tr style=\"text-align: right;\">\n",
       "      <th></th>\n",
       "      <th>Graisses_saturés</th>\n",
       "    </tr>\n",
       "  </thead>\n",
       "  <tbody>\n",
       "    <tr>\n",
       "      <th>count</th>\n",
       "      <td>74054.000000</td>\n",
       "    </tr>\n",
       "    <tr>\n",
       "      <th>mean</th>\n",
       "      <td>4.716282</td>\n",
       "    </tr>\n",
       "    <tr>\n",
       "      <th>std</th>\n",
       "      <td>8.043385</td>\n",
       "    </tr>\n",
       "    <tr>\n",
       "      <th>min</th>\n",
       "      <td>0.000000</td>\n",
       "    </tr>\n",
       "    <tr>\n",
       "      <th>25%</th>\n",
       "      <td>0.200000</td>\n",
       "    </tr>\n",
       "    <tr>\n",
       "      <th>50%</th>\n",
       "      <td>1.500000</td>\n",
       "    </tr>\n",
       "    <tr>\n",
       "      <th>75%</th>\n",
       "      <td>6.000000</td>\n",
       "    </tr>\n",
       "    <tr>\n",
       "      <th>max</th>\n",
       "      <td>120.000000</td>\n",
       "    </tr>\n",
       "  </tbody>\n",
       "</table>\n",
       "</div>"
      ],
      "text/plain": [
       "       Graisses_saturés\n",
       "count      74054.000000\n",
       "mean           4.716282\n",
       "std            8.043385\n",
       "min            0.000000\n",
       "25%            0.200000\n",
       "50%            1.500000\n",
       "75%            6.000000\n",
       "max          120.000000"
      ]
     },
     "execution_count": 18,
     "metadata": {},
     "output_type": "execute_result"
    },
    {
     "data": {
      "image/png": "[encoded data removed]",
      "text/plain": [
       "<Figure size 216x504 with 1 Axes>"
      ]
     },
     "metadata": {
      "needs_background": "light"
     },
     "output_type": "display_data"
    }
   ],
   "source": [
    "\n",
    "#boxplot Avant\n",
    "plt.figure(figsize=(3, 7))\n",
    "boxplot_SatFat = d_04_SatFat.boxplot(column=['Graisses_saturés'])\n",
    "plt.title('Schema 19 -  Boxplot Graisses_saturés avant Filtre', fontsize=15)\n",
    "d_04_SatFat.describe()"
   ]
  },
  {
   "cell_type": "code",
   "execution_count": 19,
   "metadata": {},
   "outputs": [
    {
     "name": "stdout",
     "output_type": "stream",
     "text": [
      "//////////////////////\n",
      "Cellules pleines : Graisses_saturés 0 %\n",
      "//////////////////////\n"
     ]
    },
    {
     "data": {
      "image/png": "[encoded data removed]",
      "text/plain": [
       "<Figure size 432x432 with 1 Axes>"
      ]
     },
     "metadata": {},
     "output_type": "display_data"
    }
   ],
   "source": [
    "mEmptyCell_data = mEmptyCell(d_04_SatFat)\n",
    "print(\"//////////////////////\")\n",
    "print('Cellules pleines : Graisses_saturés', mEmptyCell_data ,\"%\")\n",
    "print(\"//////////////////////\")\n",
    "str = 'Schema 20 - Cellules pleines : Graisses_saturés'\n",
    "a = mEmptyGraph(mEmptyCell_data,str)"
   ]
  },
  {
   "cell_type": "code",
   "execution_count": 20,
   "metadata": {
    "scrolled": true
   },
   "outputs": [
    {
     "name": "stdout",
     "output_type": "stream",
     "text": [
      "sat_fat 2----        Graisses_saturés\n",
      "count      74054.000000\n",
      "mean           4.716282\n",
      "std            8.043385\n",
      "min            0.000000\n",
      "25%            0.200000\n",
      "50%            1.500000\n",
      "75%            6.000000\n",
      "max          120.000000\n",
      "         Graisses_saturés\n",
      "21              15.500000\n",
      "31               0.000000\n",
      "66               0.500000\n",
      "384              9.600000\n",
      "385              3.900000\n",
      "...                   ...\n",
      "1555145          2.800000\n",
      "1555172          8.400000\n",
      "1555265          0.100000\n",
      "1555307          5.000000\n",
      "Total            0.173235\n",
      "\n",
      "[74054 rows x 1 columns]\n",
      "sat_fat 3---- (74054, 1)\n",
      " sat_fat 4---- (55814, 1)\n"
     ]
    }
   ],
   "source": [
    "#-----sat_fat 1 : Drop NA -------\n",
    "d_041_sat_fat = d_04_SatFat.dropna()\n",
    "print(\"sat_fat 2----\", d_041_sat_fat.describe())\n",
    "#-----Sat_fat 2 : Filtre 25 / 75 -------\n",
    "print(d_041_sat_fat)\n",
    "print(\"sat_fat 3----\", d_041_sat_fat.shape)\n",
    "d_042_sat_fat_filter = d_041_sat_fat.drop(d_041_sat_fat[d_041_sat_fat.Graisses_saturés < 0].index)\n",
    "d_043_sat_fat_filter = d_042_sat_fat_filter.drop(d_041_sat_fat[d_041_sat_fat.Graisses_saturés >  6].index)\n",
    "d_Sat_fat_filter = d_043_sat_fat_filter.sort_values(by=['Graisses_saturés'], ascending=False)\n",
    "print(\" sat_fat 4----\", d_Sat_fat_filter.shape)\n",
    "\n"
   ]
  },
  {
   "cell_type": "code",
   "execution_count": 21,
   "metadata": {},
   "outputs": [
    {
     "data": {
      "text/html": [
       "<div>\n",
       "<style scoped>\n",
       "    .dataframe tbody tr th:only-of-type {\n",
       "        vertical-align: middle;\n",
       "    }\n",
       "\n",
       "    .dataframe tbody tr th {\n",
       "        vertical-align: top;\n",
       "    }\n",
       "\n",
       "    .dataframe thead th {\n",
       "        text-align: right;\n",
       "    }\n",
       "</style>\n",
       "<table border=\"1\" class=\"dataframe\">\n",
       "  <thead>\n",
       "    <tr style=\"text-align: right;\">\n",
       "      <th></th>\n",
       "      <th>Graisses_saturés</th>\n",
       "    </tr>\n",
       "  </thead>\n",
       "  <tbody>\n",
       "    <tr>\n",
       "      <th>count</th>\n",
       "      <td>74054.000000</td>\n",
       "    </tr>\n",
       "    <tr>\n",
       "      <th>mean</th>\n",
       "      <td>4.716282</td>\n",
       "    </tr>\n",
       "    <tr>\n",
       "      <th>std</th>\n",
       "      <td>8.043385</td>\n",
       "    </tr>\n",
       "    <tr>\n",
       "      <th>min</th>\n",
       "      <td>0.000000</td>\n",
       "    </tr>\n",
       "    <tr>\n",
       "      <th>25%</th>\n",
       "      <td>0.200000</td>\n",
       "    </tr>\n",
       "    <tr>\n",
       "      <th>50%</th>\n",
       "      <td>1.500000</td>\n",
       "    </tr>\n",
       "    <tr>\n",
       "      <th>75%</th>\n",
       "      <td>6.000000</td>\n",
       "    </tr>\n",
       "    <tr>\n",
       "      <th>max</th>\n",
       "      <td>120.000000</td>\n",
       "    </tr>\n",
       "  </tbody>\n",
       "</table>\n",
       "</div>"
      ],
      "text/plain": [
       "       Graisses_saturés\n",
       "count      74054.000000\n",
       "mean           4.716282\n",
       "std            8.043385\n",
       "min            0.000000\n",
       "25%            0.200000\n",
       "50%            1.500000\n",
       "75%            6.000000\n",
       "max          120.000000"
      ]
     },
     "execution_count": 21,
     "metadata": {},
     "output_type": "execute_result"
    },
    {
     "data": {
      "image/png": "[encoded data removed]",
      "text/plain": [
       "<Figure size 216x504 with 1 Axes>"
      ]
     },
     "metadata": {
      "needs_background": "light"
     },
     "output_type": "display_data"
    }
   ],
   "source": [
    "#boxplot Aprés\n",
    "plt.figure(figsize=(3, 7))\n",
    "boxplot_SatFat = d_Sat_fat_filter.boxplot(column=['Graisses_saturés'])\n",
    "plt.title('Schema 21 -  Boxplot Graisses_saturés aprés Filtre', fontsize=15)\n",
    "d_04_SatFat.describe()"
   ]
  },
  {
   "cell_type": "code",
   "execution_count": 22,
   "metadata": {},
   "outputs": [],
   "source": [
    "# ----------------------- A faire Tourner\n",
    "#sns.set_theme(style=\"whitegrid\")\n",
    "#ax = sns.barplot(x=d_Sat_fat_filter.index, y=\"SatFat\", data=d_Sat_fat_filter)"
   ]
  },
  {
   "cell_type": "markdown",
   "metadata": {},
   "source": [
    "# 3 -----Fat "
   ]
  },
  {
   "cell_type": "code",
   "execution_count": 23,
   "metadata": {},
   "outputs": [
    {
     "data": {
      "text/html": [
       "<div>\n",
       "<style scoped>\n",
       "    .dataframe tbody tr th:only-of-type {\n",
       "        vertical-align: middle;\n",
       "    }\n",
       "\n",
       "    .dataframe tbody tr th {\n",
       "        vertical-align: top;\n",
       "    }\n",
       "\n",
       "    .dataframe thead th {\n",
       "        text-align: right;\n",
       "    }\n",
       "</style>\n",
       "<table border=\"1\" class=\"dataframe\">\n",
       "  <thead>\n",
       "    <tr style=\"text-align: right;\">\n",
       "      <th></th>\n",
       "      <th>Graisses</th>\n",
       "    </tr>\n",
       "  </thead>\n",
       "  <tbody>\n",
       "    <tr>\n",
       "      <th>count</th>\n",
       "      <td>74054.000000</td>\n",
       "    </tr>\n",
       "    <tr>\n",
       "      <th>mean</th>\n",
       "      <td>13.358031</td>\n",
       "    </tr>\n",
       "    <tr>\n",
       "      <th>std</th>\n",
       "      <td>17.898355</td>\n",
       "    </tr>\n",
       "    <tr>\n",
       "      <th>min</th>\n",
       "      <td>0.000000</td>\n",
       "    </tr>\n",
       "    <tr>\n",
       "      <th>25%</th>\n",
       "      <td>0.900000</td>\n",
       "    </tr>\n",
       "    <tr>\n",
       "      <th>50%</th>\n",
       "      <td>6.300000</td>\n",
       "    </tr>\n",
       "    <tr>\n",
       "      <th>75%</th>\n",
       "      <td>20.000000</td>\n",
       "    </tr>\n",
       "    <tr>\n",
       "      <th>max</th>\n",
       "      <td>100.000000</td>\n",
       "    </tr>\n",
       "  </tbody>\n",
       "</table>\n",
       "</div>"
      ],
      "text/plain": [
       "           Graisses\n",
       "count  74054.000000\n",
       "mean      13.358031\n",
       "std       17.898355\n",
       "min        0.000000\n",
       "25%        0.900000\n",
       "50%        6.300000\n",
       "75%       20.000000\n",
       "max      100.000000"
      ]
     },
     "execution_count": 23,
     "metadata": {},
     "output_type": "execute_result"
    },
    {
     "data": {
      "image/png": "[encoded data removed]",
      "text/plain": [
       "<Figure size 216x504 with 1 Axes>"
      ]
     },
     "metadata": {
      "needs_background": "light"
     },
     "output_type": "display_data"
    }
   ],
   "source": [
    "d_04_fat = d_04.filter(['Graisses'], axis=1)\n",
    "d_04_fat['Graisses'] = pd.to_numeric(d_04_fat['Graisses'])\n",
    "#BoxPlot Avant\n",
    "plt.figure(figsize=(3, 7))\n",
    "\n",
    "boxplot_Fat = d_04_fat.boxplot(column=['Graisses'])\n",
    "plt.title('Schema 22 -  Boxplot Fat avant Filtre', fontsize=15)\n",
    "d_04_fat.describe()"
   ]
  },
  {
   "cell_type": "code",
   "execution_count": 24,
   "metadata": {},
   "outputs": [
    {
     "name": "stdout",
     "output_type": "stream",
     "text": [
      "//////////////////////\n",
      "Cellules pleines :  Graisses 0 %\n",
      "//////////////////////\n"
     ]
    },
    {
     "data": {
      "image/png": "[encoded data removed]",
      "text/plain": [
       "<Figure size 432x432 with 1 Axes>"
      ]
     },
     "metadata": {},
     "output_type": "display_data"
    }
   ],
   "source": [
    "mEmptyCell_data = mEmptyCell(d_04_fat)\n",
    "print(\"//////////////////////\")\n",
    "print('Cellules pleines :  Graisses', mEmptyCell_data ,\"%\")\n",
    "print(\"//////////////////////\")\n",
    "str = 'Schema 23 - Cellules Pleines :  Graisses'\n",
    "a = mEmptyGraph(mEmptyCell_data,str)"
   ]
  },
  {
   "cell_type": "code",
   "execution_count": 25,
   "metadata": {
    "scrolled": false
   },
   "outputs": [
    {
     "name": "stdout",
     "output_type": "stream",
     "text": [
      "_fat 2----            Graisses\n",
      "count  74054.000000\n",
      "mean      13.358031\n",
      "std       17.898355\n",
      "min        0.000000\n",
      "25%        0.900000\n",
      "50%        6.300000\n",
      "75%       20.000000\n",
      "max      100.000000\n",
      "_fat 3---- (74054, 1)\n",
      " _fat 4---- (7007, 1)\n"
     ]
    }
   ],
   "source": [
    "#-----_fat 1 : Drop NA -------\n",
    "d_041_fat = d_04_fat.dropna()\n",
    "print(\"_fat 2----\", d_041_fat.describe())\n",
    "#-----_fat 2 : Filtre 25 / 75 -------\n",
    "print(\"_fat 3----\", d_041_fat.shape)\n",
    "d_042_fat_filter = d_041_fat.drop(d_041_fat[d_041_fat.Graisses < 0.9].index)\n",
    "d_043_fat_filter = d_042_fat_filter.drop(d_041_fat[d_041_fat.Graisses >  2].index)\n",
    "d_Fat_filter = d_043_fat_filter.sort_values(by=['Graisses'], ascending=False)\n",
    "print(\" _fat 4----\", d_Fat_filter.shape)\n"
   ]
  },
  {
   "cell_type": "code",
   "execution_count": 26,
   "metadata": {},
   "outputs": [
    {
     "data": {
      "text/html": [
       "<div>\n",
       "<style scoped>\n",
       "    .dataframe tbody tr th:only-of-type {\n",
       "        vertical-align: middle;\n",
       "    }\n",
       "\n",
       "    .dataframe tbody tr th {\n",
       "        vertical-align: top;\n",
       "    }\n",
       "\n",
       "    .dataframe thead th {\n",
       "        text-align: right;\n",
       "    }\n",
       "</style>\n",
       "<table border=\"1\" class=\"dataframe\">\n",
       "  <thead>\n",
       "    <tr style=\"text-align: right;\">\n",
       "      <th></th>\n",
       "      <th>Graisses</th>\n",
       "    </tr>\n",
       "  </thead>\n",
       "  <tbody>\n",
       "    <tr>\n",
       "      <th>21</th>\n",
       "      <td>22.000000</td>\n",
       "    </tr>\n",
       "    <tr>\n",
       "      <th>31</th>\n",
       "      <td>0.000000</td>\n",
       "    </tr>\n",
       "    <tr>\n",
       "      <th>66</th>\n",
       "      <td>2.200000</td>\n",
       "    </tr>\n",
       "    <tr>\n",
       "      <th>384</th>\n",
       "      <td>53.200000</td>\n",
       "    </tr>\n",
       "    <tr>\n",
       "      <th>385</th>\n",
       "      <td>27.400000</td>\n",
       "    </tr>\n",
       "    <tr>\n",
       "      <th>...</th>\n",
       "      <td>...</td>\n",
       "    </tr>\n",
       "    <tr>\n",
       "      <th>1555145</th>\n",
       "      <td>32.100000</td>\n",
       "    </tr>\n",
       "    <tr>\n",
       "      <th>1555172</th>\n",
       "      <td>20.000000</td>\n",
       "    </tr>\n",
       "    <tr>\n",
       "      <th>1555265</th>\n",
       "      <td>0.100000</td>\n",
       "    </tr>\n",
       "    <tr>\n",
       "      <th>1555307</th>\n",
       "      <td>5.000000</td>\n",
       "    </tr>\n",
       "    <tr>\n",
       "      <th>Total</th>\n",
       "      <td>0.174449</td>\n",
       "    </tr>\n",
       "  </tbody>\n",
       "</table>\n",
       "<p>74054 rows × 1 columns</p>\n",
       "</div>"
      ],
      "text/plain": [
       "          Graisses\n",
       "21       22.000000\n",
       "31        0.000000\n",
       "66        2.200000\n",
       "384      53.200000\n",
       "385      27.400000\n",
       "...            ...\n",
       "1555145  32.100000\n",
       "1555172  20.000000\n",
       "1555265   0.100000\n",
       "1555307   5.000000\n",
       "Total     0.174449\n",
       "\n",
       "[74054 rows x 1 columns]"
      ]
     },
     "execution_count": 26,
     "metadata": {},
     "output_type": "execute_result"
    },
    {
     "data": {
      "image/png": "[encoded data removed]",
      "text/plain": [
       "<Figure size 216x504 with 1 Axes>"
      ]
     },
     "metadata": {
      "needs_background": "light"
     },
     "output_type": "display_data"
    }
   ],
   "source": [
    "#boxplot Aprés\n",
    "plt.figure(figsize=(3, 7))\n",
    "boxplot_Fat = d_Fat_filter.boxplot(column=['Graisses'])\n",
    "plt.title('Schema 24 - Boxplot Fat après Filtre')\n",
    "d_04_fat"
   ]
  },
  {
   "cell_type": "code",
   "execution_count": 27,
   "metadata": {},
   "outputs": [],
   "source": [
    "# ----------------------- A faire Tourner\n",
    "#sns.set_theme(style=\"whitegrid\")\n",
    "#ax = sns.barplot(x=d_Fat_filter.index, y=\"Fat\", data=d_Fat_filter)"
   ]
  },
  {
   "cell_type": "markdown",
   "metadata": {},
   "source": [
    "# 4 ----- _sug"
   ]
  },
  {
   "cell_type": "code",
   "execution_count": null,
   "metadata": {},
   "outputs": [],
   "source": []
  },
  {
   "cell_type": "code",
   "execution_count": 28,
   "metadata": {},
   "outputs": [
    {
     "data": {
      "text/plain": [
       "Text(0.5, 1.0, 'Schema 25 - Boxplot Sucres avant Filtre')"
      ]
     },
     "execution_count": 28,
     "metadata": {},
     "output_type": "execute_result"
    },
    {
     "data": {
      "image/png": "[encoded data removed]",
      "text/plain": [
       "<Figure size 216x504 with 1 Axes>"
      ]
     },
     "metadata": {
      "needs_background": "light"
     },
     "output_type": "display_data"
    }
   ],
   "source": [
    "d_04_sug = d_04.filter(['Sucres'], axis=1)\n",
    "d_04_sug['Sucres'] = pd.to_numeric(d_04_sug['Sucres'])\n",
    "#BoxPlot Avant\n",
    "plt.figure(figsize=(3, 7))\n",
    "\n",
    "boxplot_Sugar = d_04_sug.boxplot(column=['Sucres'])\n",
    "plt.title('Schema 25 - Boxplot Sucres avant Filtre')"
   ]
  },
  {
   "cell_type": "code",
   "execution_count": 29,
   "metadata": {},
   "outputs": [
    {
     "name": "stdout",
     "output_type": "stream",
     "text": [
      "//////////////////////\n",
      "Cellules pleines :  Sucres 0 %\n",
      "//////////////////////\n"
     ]
    },
    {
     "data": {
      "image/png": "[encoded data removed]",
      "text/plain": [
       "<Figure size 432x432 with 1 Axes>"
      ]
     },
     "metadata": {},
     "output_type": "display_data"
    }
   ],
   "source": [
    "mEmptyCell_data = mEmptyCell(d_04_sug)\n",
    "print(\"//////////////////////\")\n",
    "print('Cellules pleines :  Sucres', mEmptyCell_data ,\"%\")\n",
    "print(\"//////////////////////\")\n",
    "str = 'Schema 26 - Cellules pleines : Sucres'\n",
    "\n",
    "a = mEmptyGraph(mEmptyCell_data,str)"
   ]
  },
  {
   "cell_type": "code",
   "execution_count": 30,
   "metadata": {
    "scrolled": true
   },
   "outputs": [
    {
     "name": "stdout",
     "output_type": "stream",
     "text": [
      "_sug 2----              Sucres\n",
      "count  74054.000000\n",
      "mean      13.167977\n",
      "std       18.032106\n",
      "min        0.000000\n",
      "25%        1.100000\n",
      "50%        4.400000\n",
      "75%       19.000000\n",
      "max      100.000000\n",
      "_sug 3---- (74054, 1)\n",
      " _sug 4---- (37748, 1)\n"
     ]
    }
   ],
   "source": [
    "#-----_sug 1 : Drop NA -------\n",
    "d_041_sug = d_04_sug.dropna()\n",
    "print(\"_sug 2----\", d_041_sug.describe())\n",
    "#-----_sug 2 : Filtre 25 / 75 -------\n",
    "print(\"_sug 3----\", d_041_sug.shape)\n",
    "d_042_sug_filter = d_041_sug.drop(d_041_sug[d_041_sug.Sucres < 1.1].index)\n",
    "d_043_sug_filter = d_042_sug_filter.drop(d_041_sug[d_041_sug.Sucres >  19].index)\n",
    "d_Sugar_filter = d_043_sug_filter.sort_values(by=['Sucres'], ascending=False)\n",
    "print(\" _sug 4----\", d_Sugar_filter.shape)\n"
   ]
  },
  {
   "cell_type": "code",
   "execution_count": 31,
   "metadata": {},
   "outputs": [
    {
     "data": {
      "text/plain": [
       "Text(0.5, 1.0, 'Schema 27 - Boxplot Sucres après Filtre')"
      ]
     },
     "execution_count": 31,
     "metadata": {},
     "output_type": "execute_result"
    },
    {
     "data": {
      "image/png": "[encoded data removed]",
      "text/plain": [
       "<Figure size 216x504 with 1 Axes>"
      ]
     },
     "metadata": {
      "needs_background": "light"
     },
     "output_type": "display_data"
    }
   ],
   "source": [
    "#BoxPlot Aprés\n",
    "plt.figure(figsize=(3, 7))\n",
    "boxplot_Sugar = d_Sugar_filter.boxplot(column=['Sucres'])\n",
    "plt.title('Schema 27 - Boxplot Sucres après Filtre')"
   ]
  },
  {
   "cell_type": "code",
   "execution_count": 32,
   "metadata": {},
   "outputs": [],
   "source": [
    "# ----------------------- A faire Tourner\n",
    "#sns.set_theme(style=\"whitegrid\")\n",
    "#ax = sns.barplot(x=d_Sugar_filter.index, y=\"Sugar\", data=d_Sugar_filter)"
   ]
  },
  {
   "cell_type": "markdown",
   "metadata": {},
   "source": [
    "# 5 ----- _Energy"
   ]
  },
  {
   "cell_type": "code",
   "execution_count": 33,
   "metadata": {},
   "outputs": [
    {
     "data": {
      "text/plain": [
       "Text(0.5, 1.0, 'Schema 28 - Boxplot Energy avant Filtre')"
      ]
     },
     "execution_count": 33,
     "metadata": {},
     "output_type": "execute_result"
    },
    {
     "data": {
      "image/png": "[encoded data removed]",
      "text/plain": [
       "<Figure size 216x504 with 1 Axes>"
      ]
     },
     "metadata": {
      "needs_background": "light"
     },
     "output_type": "display_data"
    }
   ],
   "source": [
    "d_04_enr = d_04.filter(['Energie_J'], axis=1)\n",
    "d_04_enr['Energie_J'] = pd.to_numeric(d_04_enr['Energie_J'])\n",
    "#BoxPlot Avant\n",
    "plt.figure(figsize=(3, 7))\n",
    "\n",
    "boxplot_Energy = d_04_enr.boxplot(column=['Energie_J'])\n",
    "plt.title('Schema 28 - Boxplot Energy avant Filtre')"
   ]
  },
  {
   "cell_type": "code",
   "execution_count": 34,
   "metadata": {},
   "outputs": [
    {
     "name": "stdout",
     "output_type": "stream",
     "text": [
      "//////////////////////\n",
      "Cellules pleines :  Energie_J 0 %\n",
      "//////////////////////\n"
     ]
    },
    {
     "data": {
      "image/png": "[encoded data removed]",
      "text/plain": [
       "<Figure size 432x432 with 1 Axes>"
      ]
     },
     "metadata": {},
     "output_type": "display_data"
    }
   ],
   "source": [
    "mEmptyCell_data = mEmptyCell(d_04_enr)\n",
    "print(\"//////////////////////\")\n",
    "print('Cellules pleines :  Energie_J', mEmptyCell_data ,\"%\")\n",
    "print(\"//////////////////////\")\n",
    "str = 'Schema 29 - Cellules pleines :  Energie_J'\n",
    "a = mEmptyGraph(mEmptyCell_data,str)"
   ]
  },
  {
   "cell_type": "code",
   "execution_count": 35,
   "metadata": {
    "scrolled": true
   },
   "outputs": [
    {
     "name": "stdout",
     "output_type": "stream",
     "text": [
      "_Energy 2----           Energie_J\n",
      "count  74054.000000\n",
      "mean    1157.627432\n",
      "std      880.120584\n",
      "min        0.000000\n",
      "25%      423.000000\n",
      "50%     1084.000000\n",
      "75%     1715.000000\n",
      "max    86200.000000\n",
      "_Energy 3---- (74054, 1)\n",
      " _Energy 4---- (37142, 1)\n"
     ]
    }
   ],
   "source": [
    "#-----_Energy 1 : Drop NA -------\n",
    "d_041_Energy = d_04_enr.dropna()\n",
    "print(\"_Energy 2----\", d_041_Energy.describe())\n",
    "#-----_Energy 2 : Filtre 25 / 75 -------\n",
    "print(\"_Energy 3----\", d_041_Energy.shape)\n",
    "d_042_Energy_filter = d_041_Energy.drop(d_041_Energy[d_041_Energy.Energie_J < 423].index)\n",
    "d_043_Energy_filter = d_042_Energy_filter.drop(d_041_Energy[d_041_Energy.Energie_J >  1715].index)\n",
    "d_Energy_filter = d_043_Energy_filter.sort_values(by=['Energie_J'], ascending=False)\n",
    "print(\" _Energy 4----\", d_Energy_filter.shape)\n"
   ]
  },
  {
   "cell_type": "code",
   "execution_count": 36,
   "metadata": {},
   "outputs": [
    {
     "data": {
      "text/plain": [
       "Text(0.5, 1.0, 'Schema 30 - Boxplot Energy après Filtre')"
      ]
     },
     "execution_count": 36,
     "metadata": {},
     "output_type": "execute_result"
    },
    {
     "data": {
      "image/png": "[encoded data removed]",
      "text/plain": [
       "<Figure size 216x504 with 1 Axes>"
      ]
     },
     "metadata": {
      "needs_background": "light"
     },
     "output_type": "display_data"
    }
   ],
   "source": [
    "#BoxPlot Aprés\n",
    "plt.figure(figsize=(3, 7))\n",
    "boxplot_Energy = d_Energy_filter.boxplot(column=['Energie_J'])\n",
    "plt.title('Schema 30 - Boxplot Energy après Filtre')"
   ]
  },
  {
   "cell_type": "code",
   "execution_count": 37,
   "metadata": {},
   "outputs": [],
   "source": [
    "# ----------------------- A faire Tourner\n",
    "#sns.set_theme(style=\"whitegrid\")\n",
    "#ax = sns.barplot(x=d_Energy_filter.index, y=\"Energy\", data=d_Energy_filter)"
   ]
  },
  {
   "cell_type": "markdown",
   "metadata": {},
   "source": [
    "# 6 ----- _Sodium"
   ]
  },
  {
   "cell_type": "code",
   "execution_count": 38,
   "metadata": {},
   "outputs": [
    {
     "data": {
      "text/plain": [
       "Text(0.5, 1.0, 'Schema 31 - Boxplot Sodium avant Filtre')"
      ]
     },
     "execution_count": 38,
     "metadata": {},
     "output_type": "execute_result"
    },
    {
     "data": {
      "image/png": "[encoded data removed]",
      "text/plain": [
       "<Figure size 216x504 with 1 Axes>"
      ]
     },
     "metadata": {
      "needs_background": "light"
     },
     "output_type": "display_data"
    }
   ],
   "source": [
    "d_04_sodium = d_04.filter(['Sodium'], axis=1)\n",
    "d_04_sodium['Sodium'] = pd.to_numeric(d_04_sodium['Sodium'])\n",
    "#BoxPlot Avant\n",
    "plt.figure(figsize=(3, 7))\n",
    "\n",
    "boxplot_Soduim = d_04_sodium.boxplot(column=['Sodium'])\n",
    "plt.title('Schema 31 - Boxplot Sodium avant Filtre')"
   ]
  },
  {
   "cell_type": "code",
   "execution_count": 39,
   "metadata": {},
   "outputs": [
    {
     "name": "stdout",
     "output_type": "stream",
     "text": [
      "//////////////////////\n",
      "Cellules pleines:  Sodium 0 %\n",
      "//////////////////////\n"
     ]
    },
    {
     "data": {
      "image/png": "[encoded data removed]",
      "text/plain": [
       "<Figure size 432x432 with 1 Axes>"
      ]
     },
     "metadata": {},
     "output_type": "display_data"
    }
   ],
   "source": [
    "mEmptyCell_data = mEmptyCell(d_04_sodium)\n",
    "print(\"//////////////////////\")\n",
    "print('Cellules pleines:  Sodium', mEmptyCell_data ,\"%\")\n",
    "print(\"//////////////////////\")\n",
    "str = 'Schema 32 - Cellules pleines :  Sodium'\n",
    "a = mEmptyGraph(mEmptyCell_data,str)"
   ]
  },
  {
   "cell_type": "code",
   "execution_count": 40,
   "metadata": {
    "scrolled": true
   },
   "outputs": [
    {
     "name": "stdout",
     "output_type": "stream",
     "text": [
      "_Sodium 2----              Sodium\n",
      "count  74054.000000\n",
      "mean       0.346165\n",
      "std        1.107828\n",
      "min        0.000000\n",
      "25%        0.012000\n",
      "50%        0.160000\n",
      "75%        0.404000\n",
      "max      124.000000\n",
      "_Sodium 3---- (74054, 1)\n",
      " _Sodium 4---- (21614, 1)\n"
     ]
    }
   ],
   "source": [
    "#-----_Sodium 1 : Drop NA -------\n",
    "d_041_Sodium = d_04_sodium.dropna()\n",
    "print(\"_Sodium 2----\", d_041_Sodium.describe())\n",
    "#-----_Sodium 2 : Filtre 25 / 75 -------\n",
    "print(\"_Sodium 3----\", d_041_Sodium.shape)\n",
    "d_042_Sodium_filter = d_041_Sodium.drop(d_041_Sodium[d_041_Sodium.Sodium < 0.12].index)\n",
    "d_043_Sodium_filter = d_042_Sodium_filter.drop(d_041_Sodium[d_041_Sodium.Sodium > 0.4].index)\n",
    "d_Sodium_filter = d_043_Sodium_filter.sort_values(by=['Sodium'], ascending=False)\n",
    "print(\" _Sodium 4----\", d_Sodium_filter.shape)\n"
   ]
  },
  {
   "cell_type": "code",
   "execution_count": 41,
   "metadata": {},
   "outputs": [
    {
     "data": {
      "text/plain": [
       "Text(0.5, 1.0, 'Schema 33 - Boxplot Sodium après Filtre')"
      ]
     },
     "execution_count": 41,
     "metadata": {},
     "output_type": "execute_result"
    },
    {
     "data": {
      "image/png": "[encoded data removed]",
      "text/plain": [
       "<Figure size 216x504 with 1 Axes>"
      ]
     },
     "metadata": {
      "needs_background": "light"
     },
     "output_type": "display_data"
    }
   ],
   "source": [
    "#BoxPlot Aprés\n",
    "plt.figure(figsize=(3, 7))\n",
    "boxplot_Soduim = d_Sodium_filter.boxplot(column=['Sodium'])\n",
    "plt.title('Schema 33 - Boxplot Sodium après Filtre')"
   ]
  },
  {
   "cell_type": "code",
   "execution_count": 42,
   "metadata": {},
   "outputs": [],
   "source": [
    "# ----------------------- A faire Tourner\n",
    "#sns.set_theme(style=\"whitegrid\")\n",
    "#ax = sns.barplot(x=d_Sodium_filter.index, y=\"Sodium\", data=d_Sodium_filter)"
   ]
  },
  {
   "cell_type": "markdown",
   "metadata": {},
   "source": [
    "# 7 ----- carbohydrates_100g"
   ]
  },
  {
   "cell_type": "code",
   "execution_count": 43,
   "metadata": {},
   "outputs": [
    {
     "data": {
      "text/plain": [
       "Text(0.5, 1.0, 'Schema 34 - Boxplot Glucides avant Filtre')"
      ]
     },
     "execution_count": 43,
     "metadata": {},
     "output_type": "execute_result"
    },
    {
     "data": {
      "image/png": "[encoded data removed]",
      "text/plain": [
       "<Figure size 216x504 with 1 Axes>"
      ]
     },
     "metadata": {
      "needs_background": "light"
     },
     "output_type": "display_data"
    }
   ],
   "source": [
    "d_04_Carbo = d_04.filter(['Glucides'], axis=1)\n",
    "d_04_Carbo['Glucides'] = pd.to_numeric(d_04_Carbo['Glucides'])\n",
    "#BoxPlot Avant\n",
    "plt.figure(figsize=(3, 7))\n",
    "\n",
    "boxplot_Carbo = d_04_Carbo.boxplot(column=['Glucides'])\n",
    "plt.title('Schema 34 - Boxplot Glucides avant Filtre')"
   ]
  },
  {
   "cell_type": "code",
   "execution_count": 44,
   "metadata": {},
   "outputs": [
    {
     "name": "stdout",
     "output_type": "stream",
     "text": [
      "//////////////////////\n",
      "Cellules pleines :  Glucides 0 %\n",
      "//////////////////////\n"
     ]
    },
    {
     "data": {
      "image/png": "[encoded data removed]",
      "text/plain": [
       "<Figure size 432x432 with 1 Axes>"
      ]
     },
     "metadata": {},
     "output_type": "display_data"
    }
   ],
   "source": [
    "mEmptyCell_data = mEmptyCell(d_04_Carbo)\n",
    "print(\"//////////////////////\")\n",
    "print('Cellules pleines :  Glucides', mEmptyCell_data ,\"%\")\n",
    "print(\"//////////////////////\")\n",
    "str = 'Schema 35 - Cellules pleines :  Glucides'\n",
    "a = mEmptyGraph(mEmptyCell_data,str)"
   ]
  },
  {
   "cell_type": "code",
   "execution_count": 45,
   "metadata": {
    "scrolled": true
   },
   "outputs": [
    {
     "name": "stdout",
     "output_type": "stream",
     "text": [
      "Carbo 2----            Glucides\n",
      "count  74054.000000\n",
      "mean      30.093113\n",
      "std       27.226316\n",
      "min        0.000000\n",
      "25%        5.500000\n",
      "50%       18.800000\n",
      "75%       56.000000\n",
      "max      198.000000\n",
      "Carbo 3---- (74054, 1)\n",
      " _Carbo 4---- (36390, 1)\n"
     ]
    }
   ],
   "source": [
    "#-----Carbo 1 : Drop NA -------\n",
    "d_041_Carbo = d_04_Carbo.dropna()\n",
    "print(\"Carbo 2----\", d_041_Carbo.describe())\n",
    "#-----Carbo 2 : Filtre 25 / 75 -------\n",
    "print(\"Carbo 3----\", d_041_Carbo.shape)\n",
    "d_042_Carbo_filter = d_041_Carbo.drop(d_041_Carbo[d_041_Carbo.Glucides < 5].index)\n",
    "d_043_Carbo_filter = d_042_Carbo_filter.drop(d_041_Carbo[d_041_Carbo.Glucides > 53].index)\n",
    "d_Carbo_filter = d_043_Carbo_filter.sort_values(by=['Glucides'], ascending=False)\n",
    "print(\" _Carbo 4----\", d_Carbo_filter.shape)\n",
    "\n"
   ]
  },
  {
   "cell_type": "code",
   "execution_count": 46,
   "metadata": {},
   "outputs": [
    {
     "data": {
      "text/plain": [
       "Text(0.5, 1.0, 'Schema 36 - Boxplot Glucides après Filtre')"
      ]
     },
     "execution_count": 46,
     "metadata": {},
     "output_type": "execute_result"
    },
    {
     "data": {
      "image/png": "[encoded data removed]",
      "text/plain": [
       "<Figure size 216x504 with 1 Axes>"
      ]
     },
     "metadata": {
      "needs_background": "light"
     },
     "output_type": "display_data"
    }
   ],
   "source": [
    "#BoxPlot Aprés\n",
    "plt.figure(figsize=(3, 7))\n",
    "boxplot_Carbo = d_Carbo_filter.boxplot(column=['Glucides'])\n",
    "plt.title('Schema 36 - Boxplot Glucides après Filtre')"
   ]
  },
  {
   "cell_type": "code",
   "execution_count": 47,
   "metadata": {},
   "outputs": [],
   "source": [
    "# ----------------------- A faire Tourner\n",
    "#sns.set_theme(style=\"whitegrid\")\n",
    "#ax = sns.barplot(x=d_Carbo_filter.index, y=\"Carbo\", data=d_Carbo_filter)"
   ]
  },
  {
   "cell_type": "markdown",
   "metadata": {},
   "source": [
    "# 8  ----- Energy_Kcal"
   ]
  },
  {
   "cell_type": "code",
   "execution_count": 48,
   "metadata": {},
   "outputs": [
    {
     "data": {
      "text/plain": [
       "Text(0.5, 1.0, 'Schema 37 - Boxplot Calorie_Kcal avant Filtre')"
      ]
     },
     "execution_count": 48,
     "metadata": {},
     "output_type": "execute_result"
    },
    {
     "data": {
      "image/png": "[encoded data removed]",
      "text/plain": [
       "<Figure size 216x504 with 1 Axes>"
      ]
     },
     "metadata": {
      "needs_background": "light"
     },
     "output_type": "display_data"
    }
   ],
   "source": [
    "d_04_Energy_Kcal = d_04.filter(['Calorie_Kcal'], axis=1)\n",
    "d_04_Energy_Kcal['Calorie_Kcal'] = pd.to_numeric(d_04_Energy_Kcal['Calorie_Kcal'])\n",
    "\n",
    "#BoxPlot Avant\n",
    "plt.figure(figsize=(3, 7))\n",
    "\n",
    "boxplot_Energy_Kcal = d_04_Energy_Kcal.boxplot(column=['Calorie_Kcal'])\n",
    "plt.title('Schema 37 - Boxplot Calorie_Kcal avant Filtre')"
   ]
  },
  {
   "cell_type": "code",
   "execution_count": 49,
   "metadata": {},
   "outputs": [
    {
     "name": "stdout",
     "output_type": "stream",
     "text": [
      "//////////////////////\n",
      "Cellules pleines :  Calorie_Kcal 0 %\n",
      "//////////////////////\n"
     ]
    },
    {
     "data": {
      "image/png": "[encoded data removed]",
      "text/plain": [
       "<Figure size 432x432 with 1 Axes>"
      ]
     },
     "metadata": {},
     "output_type": "display_data"
    }
   ],
   "source": [
    "mEmptyCell_data = mEmptyCell(d_04_Energy_Kcal)\n",
    "print(\"//////////////////////\")\n",
    "print('Cellules pleines :  Calorie_Kcal', mEmptyCell_data ,\"%\")\n",
    "print(\"//////////////////////\")\n",
    "str = 'Schema 38 - Cellules pleines :  Calorie_Kcal'\n",
    "a = mEmptyGraph(mEmptyCell_data,str)"
   ]
  },
  {
   "cell_type": "code",
   "execution_count": 50,
   "metadata": {
    "scrolled": true
   },
   "outputs": [
    {
     "name": "stdout",
     "output_type": "stream",
     "text": [
      "Energy_Kcal 2----        Calorie_Kcal\n",
      "count  74054.000000\n",
      "mean     277.168517\n",
      "std      211.615891\n",
      "min        0.000000\n",
      "25%      101.000000\n",
      "50%      259.000000\n",
      "75%      410.000000\n",
      "max    20600.000000\n",
      "Energy_Kcal 3---- (74054, 1)\n",
      " _Energy_Kcal 4---- (37155, 1)\n"
     ]
    }
   ],
   "source": [
    "#-----Energy_Kcal 1 : Drop NA -------\n",
    "d_041_Energy_Kcal = d_04_Energy_Kcal.dropna()\n",
    "print(\"Energy_Kcal 2----\", d_041_Energy_Kcal.describe())\n",
    "#-----Energy_Kcal 2 : Filtre 25 / 75 -------\n",
    "print(\"Energy_Kcal 3----\", d_041_Energy_Kcal.shape)\n",
    "d_042_Energy_Kcal_filter = d_041_Energy_Kcal.drop(d_041_Energy_Kcal[d_041_Energy_Kcal.Calorie_Kcal < 101].index)\n",
    "d_043_Energy_Kcal_filter = d_042_Energy_Kcal_filter.drop(d_041_Energy_Kcal[d_041_Energy_Kcal.Calorie_Kcal > 410].index)\n",
    "d_Energy_Kcal_filter = d_043_Energy_Kcal_filter.sort_values(by=['Calorie_Kcal'], ascending=False)\n",
    "print(\" _Energy_Kcal 4----\", d_Energy_Kcal_filter.shape)\n"
   ]
  },
  {
   "cell_type": "code",
   "execution_count": 51,
   "metadata": {},
   "outputs": [
    {
     "data": {
      "text/plain": [
       "Text(0.5, 1.0, 'Schema 39 - Boxplot Calorie_Kcal après Filtre')"
      ]
     },
     "execution_count": 51,
     "metadata": {},
     "output_type": "execute_result"
    },
    {
     "data": {
      "image/png": "[encoded data removed]",
      "text/plain": [
       "<Figure size 216x504 with 1 Axes>"
      ]
     },
     "metadata": {
      "needs_background": "light"
     },
     "output_type": "display_data"
    }
   ],
   "source": [
    "#BoxPlot Aprés\n",
    "plt.figure(figsize=(3, 7))\n",
    "boxplot_Energy_Kcal = d_Energy_Kcal_filter.boxplot(column=['Calorie_Kcal'])\n",
    "plt.title('Schema 39 - Boxplot Calorie_Kcal après Filtre')"
   ]
  },
  {
   "cell_type": "code",
   "execution_count": 52,
   "metadata": {},
   "outputs": [],
   "source": [
    "# ----------------------- A faire Tourner\n",
    "#sns.set_theme(style=\"whitegrid\")\n",
    "#ax = sns.barplot(x=d_Energy_Kcal_filter.index, y=\"Energy_Kcal\", data=d_Energy_Kcal_filter)"
   ]
  },
  {
   "cell_type": "markdown",
   "metadata": {},
   "source": [
    "# 9 ----- salt_100g"
   ]
  },
  {
   "cell_type": "code",
   "execution_count": 53,
   "metadata": {
    "scrolled": true
   },
   "outputs": [
    {
     "data": {
      "text/plain": [
       "Text(0.5, 1.0, 'Schema 40 - Boxplot Sel avant Filtre')"
      ]
     },
     "execution_count": 53,
     "metadata": {},
     "output_type": "execute_result"
    },
    {
     "data": {
      "image/png": "[encoded data removed]",
      "text/plain": [
       "<Figure size 216x504 with 1 Axes>"
      ]
     },
     "metadata": {
      "needs_background": "light"
     },
     "output_type": "display_data"
    }
   ],
   "source": [
    "d_04_Salt = d_04.filter(['Sel'], axis=1)\n",
    "d_04_Salt['Sel'] = pd.to_numeric(d_04_Salt['Sel'])\n",
    "#BoxPlot Avant\n",
    "plt.figure(figsize=(3, 7))\n",
    "\n",
    "boxplot_Salt = d_04_Salt.boxplot(column=['Sel'])\n",
    "plt.title('Schema 40 - Boxplot Sel avant Filtre')"
   ]
  },
  {
   "cell_type": "code",
   "execution_count": 54,
   "metadata": {},
   "outputs": [
    {
     "name": "stdout",
     "output_type": "stream",
     "text": [
      "//////////////////////\n",
      "Cellules pleines :  Sel 0 %\n",
      "//////////////////////\n"
     ]
    },
    {
     "data": {
      "image/png": "[encoded data removed]",
      "text/plain": [
       "<Figure size 432x432 with 1 Axes>"
      ]
     },
     "metadata": {},
     "output_type": "display_data"
    }
   ],
   "source": [
    "\n",
    "mEmptyCell_data = mEmptyCell(d_04_Salt)\n",
    "print(\"//////////////////////\")\n",
    "print('Cellules pleines :  Sel', mEmptyCell_data ,\"%\")\n",
    "print(\"//////////////////////\")\n",
    "str = 'Schema 41 - Cellules pleines :  Sel'\n",
    "a = mEmptyGraph(mEmptyCell_data,str)"
   ]
  },
  {
   "cell_type": "code",
   "execution_count": 55,
   "metadata": {
    "scrolled": true
   },
   "outputs": [
    {
     "name": "stdout",
     "output_type": "stream",
     "text": [
      "Salt 2----                 Sel\n",
      "count  74054.000000\n",
      "mean       0.865277\n",
      "std        2.769424\n",
      "min        0.000000\n",
      "25%        0.030000\n",
      "50%        0.400000\n",
      "75%        1.010000\n",
      "max      310.000000\n",
      "Salt 3---- (74054, 1)\n",
      " _Salt 4---- (37685, 1)\n"
     ]
    }
   ],
   "source": [
    "\n",
    "#-----Salt 1 : Drop NA -------\n",
    "d_041_Salt = d_04_Salt.dropna()\n",
    "print(\"Salt 2----\", d_041_Salt.describe())\n",
    "#-----Salt 2 : Filtre 25 / 75 -------\n",
    "print(\"Salt 3----\", d_041_Salt.shape)\n",
    "d_042_Salt_filter = d_041_Salt.drop(d_041_Salt[d_041_Salt.Sel < 0.03].index)\n",
    "d_043_Salt_filter = d_042_Salt_filter.drop(d_041_Salt[d_041_Salt.Sel > 1.01].index)\n",
    "d_Salt_filter = d_043_Salt_filter.sort_values(by=['Sel'], ascending=False)\n",
    "print(\" _Salt 4----\", d_Salt_filter.shape)\n"
   ]
  },
  {
   "cell_type": "code",
   "execution_count": 56,
   "metadata": {},
   "outputs": [
    {
     "data": {
      "text/plain": [
       "Text(0.5, 1.0, 'Schema 42 - Boxplot Sel après Filtre')"
      ]
     },
     "execution_count": 56,
     "metadata": {},
     "output_type": "execute_result"
    },
    {
     "data": {
      "image/png": "[encoded data removed]",
      "text/plain": [
       "<Figure size 216x504 with 1 Axes>"
      ]
     },
     "metadata": {
      "needs_background": "light"
     },
     "output_type": "display_data"
    }
   ],
   "source": [
    "\n",
    "#BoxPlot Aprés\n",
    "plt.figure(figsize=(3, 7))\n",
    "boxplot_Salt = d_Salt_filter.boxplot(column=['Sel'])\n",
    "plt.title('Schema 42 - Boxplot Sel après Filtre')"
   ]
  },
  {
   "cell_type": "code",
   "execution_count": 57,
   "metadata": {},
   "outputs": [],
   "source": [
    "# ----------------------- A faire Tourner\n",
    "# sns.set_theme(style=\"whitegrid\")\n",
    "# ax = sns.barplot(x=d_Salt_filter.index, y=\"Salt\", data=d_Salt_filter)"
   ]
  },
  {
   "cell_type": "markdown",
   "metadata": {},
   "source": [
    "# 10 ----- proteins_100g"
   ]
  },
  {
   "cell_type": "code",
   "execution_count": 58,
   "metadata": {},
   "outputs": [
    {
     "data": {
      "text/plain": [
       "Text(0.5, 1.0, 'Schema 43 - Boxplot Proteines avant Filtre')"
      ]
     },
     "execution_count": 58,
     "metadata": {},
     "output_type": "execute_result"
    },
    {
     "data": {
      "image/png": "[encoded data removed]",
      "text/plain": [
       "<Figure size 216x504 with 1 Axes>"
      ]
     },
     "metadata": {
      "needs_background": "light"
     },
     "output_type": "display_data"
    }
   ],
   "source": [
    "d_04_Proteins = d_04.filter(['Proteines'], axis=1)\n",
    "d_04_Proteins['Proteines'] = pd.to_numeric(d_04_Proteins['Proteines'])\n",
    "#BoxPlot Avant\n",
    "plt.figure(figsize=(3, 7))\n",
    "\n",
    "boxplot_Proteins = d_04_Proteins.boxplot(column=['Proteines'])\n",
    "plt.title('Schema 43 - Boxplot Proteines avant Filtre')"
   ]
  },
  {
   "cell_type": "code",
   "execution_count": 59,
   "metadata": {},
   "outputs": [
    {
     "name": "stdout",
     "output_type": "stream",
     "text": [
      "//////////////////////\n",
      "Cellules pleines :  Proteines 0 %\n",
      "//////////////////////\n"
     ]
    },
    {
     "data": {
      "image/png": "[encoded data removed]",
      "text/plain": [
       "<Figure size 432x432 with 1 Axes>"
      ]
     },
     "metadata": {},
     "output_type": "display_data"
    }
   ],
   "source": [
    "mEmptyCell_data = mEmptyCell(d_04_Proteins)\n",
    "print(\"//////////////////////\")\n",
    "print('Cellules pleines :  Proteines', mEmptyCell_data ,\"%\")\n",
    "print(\"//////////////////////\")\n",
    "str = 'Schema 44 - Cellules pleines :  Proteines'\n",
    "a = mEmptyGraph(mEmptyCell_data,str)"
   ]
  },
  {
   "cell_type": "code",
   "execution_count": 60,
   "metadata": {
    "scrolled": true
   },
   "outputs": [
    {
     "name": "stdout",
     "output_type": "stream",
     "text": [
      "Proteins 2----           Proteines\n",
      "count  74054.000000\n",
      "mean       7.572117\n",
      "std        8.267590\n",
      "min        0.000000\n",
      "25%        1.400000\n",
      "50%        5.900000\n",
      "75%       10.000000\n",
      "max      110.000000\n",
      "Proteins 3---- (74054, 1)\n",
      " _Proteins 4---- (37486, 1)\n"
     ]
    }
   ],
   "source": [
    "#-----Proteins 1 : Drop NA -------\n",
    "d_041_Proteins = d_04_Proteins.dropna()\n",
    "print(\"Proteins 2----\", d_041_Proteins.describe())\n",
    "#-----Proteins 2 : Filtre 25 / 75 -------\n",
    "print(\"Proteins 3----\", d_041_Proteins.shape)\n",
    "d_042_Proteins_filter = d_041_Proteins.drop(d_041_Proteins[d_041_Proteins.Proteines < 1.4].index)\n",
    "d_043_Proteins_filter = d_042_Proteins_filter.drop(d_041_Proteins[d_041_Proteins.Proteines > 10].index)\n",
    "d_Proteins_filter = d_043_Proteins_filter.sort_values(by=['Proteines'], ascending=False)\n",
    "print(\" _Proteins 4----\", d_Proteins_filter.shape)\n",
    "\n"
   ]
  },
  {
   "cell_type": "code",
   "execution_count": 61,
   "metadata": {},
   "outputs": [
    {
     "data": {
      "text/plain": [
       "Text(0.5, 1.0, 'Schema 45 - Boxplot Proteines après Filtre')"
      ]
     },
     "execution_count": 61,
     "metadata": {},
     "output_type": "execute_result"
    },
    {
     "data": {
      "image/png": "[encoded data removed]",
      "text/plain": [
       "<Figure size 216x504 with 1 Axes>"
      ]
     },
     "metadata": {
      "needs_background": "light"
     },
     "output_type": "display_data"
    }
   ],
   "source": [
    "#BoxPlot Aprés\n",
    "plt.figure(figsize=(3, 7))\n",
    "boxplot_Proteins = d_Proteins_filter.boxplot(column=['Proteines'])\n",
    "plt.title('Schema 45 - Boxplot Proteines après Filtre')"
   ]
  },
  {
   "cell_type": "code",
   "execution_count": 62,
   "metadata": {},
   "outputs": [
    {
     "data": {
      "text/html": [
       "<div>\n",
       "<style scoped>\n",
       "    .dataframe tbody tr th:only-of-type {\n",
       "        vertical-align: middle;\n",
       "    }\n",
       "\n",
       "    .dataframe tbody tr th {\n",
       "        vertical-align: top;\n",
       "    }\n",
       "\n",
       "    .dataframe thead th {\n",
       "        text-align: right;\n",
       "    }\n",
       "</style>\n",
       "<table border=\"1\" class=\"dataframe\">\n",
       "  <thead>\n",
       "    <tr style=\"text-align: right;\">\n",
       "      <th></th>\n",
       "      <th>Proteines</th>\n",
       "    </tr>\n",
       "  </thead>\n",
       "  <tbody>\n",
       "    <tr>\n",
       "      <th>count</th>\n",
       "      <td>37486.000000</td>\n",
       "    </tr>\n",
       "    <tr>\n",
       "      <th>mean</th>\n",
       "      <td>5.700587</td>\n",
       "    </tr>\n",
       "    <tr>\n",
       "      <th>std</th>\n",
       "      <td>2.377703</td>\n",
       "    </tr>\n",
       "    <tr>\n",
       "      <th>min</th>\n",
       "      <td>1.400000</td>\n",
       "    </tr>\n",
       "    <tr>\n",
       "      <th>25%</th>\n",
       "      <td>3.600000</td>\n",
       "    </tr>\n",
       "    <tr>\n",
       "      <th>50%</th>\n",
       "      <td>5.900000</td>\n",
       "    </tr>\n",
       "    <tr>\n",
       "      <th>75%</th>\n",
       "      <td>7.500000</td>\n",
       "    </tr>\n",
       "    <tr>\n",
       "      <th>max</th>\n",
       "      <td>10.000000</td>\n",
       "    </tr>\n",
       "  </tbody>\n",
       "</table>\n",
       "</div>"
      ],
      "text/plain": [
       "          Proteines\n",
       "count  37486.000000\n",
       "mean       5.700587\n",
       "std        2.377703\n",
       "min        1.400000\n",
       "25%        3.600000\n",
       "50%        5.900000\n",
       "75%        7.500000\n",
       "max       10.000000"
      ]
     },
     "execution_count": 62,
     "metadata": {},
     "output_type": "execute_result"
    }
   ],
   "source": [
    "d_Proteins_filter.describe()"
   ]
  },
  {
   "cell_type": "markdown",
   "metadata": {},
   "source": [
    "# 10.1----- Fibre"
   ]
  },
  {
   "cell_type": "code",
   "execution_count": 63,
   "metadata": {},
   "outputs": [
    {
     "data": {
      "text/html": [
       "<div>\n",
       "<style scoped>\n",
       "    .dataframe tbody tr th:only-of-type {\n",
       "        vertical-align: middle;\n",
       "    }\n",
       "\n",
       "    .dataframe tbody tr th {\n",
       "        vertical-align: top;\n",
       "    }\n",
       "\n",
       "    .dataframe thead th {\n",
       "        text-align: right;\n",
       "    }\n",
       "</style>\n",
       "<table border=\"1\" class=\"dataframe\">\n",
       "  <thead>\n",
       "    <tr style=\"text-align: right;\">\n",
       "      <th></th>\n",
       "      <th>Code</th>\n",
       "      <th>Nom_du_produit</th>\n",
       "      <th>Marque</th>\n",
       "      <th>Categories</th>\n",
       "      <th>Calorie_Kcal</th>\n",
       "      <th>Energie_J</th>\n",
       "      <th>Graisses</th>\n",
       "      <th>Graisses_saturés</th>\n",
       "      <th>Glucides</th>\n",
       "      <th>Sucres</th>\n",
       "      <th>Proteines</th>\n",
       "      <th>Sel</th>\n",
       "      <th>Sodium</th>\n",
       "      <th>Score</th>\n",
       "      <th>Fibres</th>\n",
       "    </tr>\n",
       "  </thead>\n",
       "  <tbody>\n",
       "    <tr>\n",
       "      <th>21</th>\n",
       "      <td>0000000001281</td>\n",
       "      <td>Tarte noix de coco</td>\n",
       "      <td>Crous Resto',Crous</td>\n",
       "      <td>Pies,Sweet pies,Coconut pies</td>\n",
       "      <td>381</td>\n",
       "      <td>1594</td>\n",
       "      <td>22</td>\n",
       "      <td>15.5</td>\n",
       "      <td>27.3</td>\n",
       "      <td>21.9</td>\n",
       "      <td>4.6</td>\n",
       "      <td>0.1</td>\n",
       "      <td>0.04</td>\n",
       "      <td>14</td>\n",
       "      <td>4.4</td>\n",
       "    </tr>\n",
       "    <tr>\n",
       "      <th>31</th>\n",
       "      <td>0000000001885</td>\n",
       "      <td>Compote de poire</td>\n",
       "      <td>Crous</td>\n",
       "      <td>Plant-based foods and beverages,Plant-based fo...</td>\n",
       "      <td>157</td>\n",
       "      <td>657</td>\n",
       "      <td>0</td>\n",
       "      <td>0</td>\n",
       "      <td>36</td>\n",
       "      <td>27</td>\n",
       "      <td>0.6</td>\n",
       "      <td>0</td>\n",
       "      <td>0</td>\n",
       "      <td>-2</td>\n",
       "      <td>3.6</td>\n",
       "    </tr>\n",
       "    <tr>\n",
       "      <th>66</th>\n",
       "      <td>0000000005470</td>\n",
       "      <td>BAguette bressan</td>\n",
       "      <td>Crousresto'</td>\n",
       "      <td>Plant-based foods and beverages,Plant-based fo...</td>\n",
       "      <td>160</td>\n",
       "      <td>669</td>\n",
       "      <td>2.2</td>\n",
       "      <td>0.5</td>\n",
       "      <td>25.2</td>\n",
       "      <td>0.6</td>\n",
       "      <td>9.5</td>\n",
       "      <td>0.358</td>\n",
       "      <td>0.1432</td>\n",
       "      <td>-4</td>\n",
       "      <td>1.6</td>\n",
       "    </tr>\n",
       "    <tr>\n",
       "      <th>384</th>\n",
       "      <td>0000005016</td>\n",
       "      <td>Pesto à La Roquette Bio Kazidomi</td>\n",
       "      <td>Kazidomi</td>\n",
       "      <td>Groceries,Sauces,Pestos</td>\n",
       "      <td>561</td>\n",
       "      <td>2318</td>\n",
       "      <td>53.2</td>\n",
       "      <td>9.6</td>\n",
       "      <td>11.7</td>\n",
       "      <td>0.5</td>\n",
       "      <td>8.2</td>\n",
       "      <td>2.7</td>\n",
       "      <td>1.08</td>\n",
       "      <td>23</td>\n",
       "      <td>1.3</td>\n",
       "    </tr>\n",
       "    <tr>\n",
       "      <th>385</th>\n",
       "      <td>0000005018</td>\n",
       "      <td>Crème d'Artichaut Bio Kazidomi</td>\n",
       "      <td>Kazidomi</td>\n",
       "      <td>Spreads,Salted spreads,Artichoke spreads</td>\n",
       "      <td>268</td>\n",
       "      <td>1104</td>\n",
       "      <td>27.4</td>\n",
       "      <td>3.9</td>\n",
       "      <td>1.8</td>\n",
       "      <td>0</td>\n",
       "      <td>1.9</td>\n",
       "      <td>2.7</td>\n",
       "      <td>1.08</td>\n",
       "      <td>11</td>\n",
       "      <td>3.5</td>\n",
       "    </tr>\n",
       "    <tr>\n",
       "      <th>...</th>\n",
       "      <td>...</td>\n",
       "      <td>...</td>\n",
       "      <td>...</td>\n",
       "      <td>...</td>\n",
       "      <td>...</td>\n",
       "      <td>...</td>\n",
       "      <td>...</td>\n",
       "      <td>...</td>\n",
       "      <td>...</td>\n",
       "      <td>...</td>\n",
       "      <td>...</td>\n",
       "      <td>...</td>\n",
       "      <td>...</td>\n",
       "      <td>...</td>\n",
       "      <td>...</td>\n",
       "    </tr>\n",
       "    <tr>\n",
       "      <th>1555145</th>\n",
       "      <td>990530101017343401</td>\n",
       "      <td>Barre bio</td>\n",
       "      <td>Good Gout</td>\n",
       "      <td>Plant-based foods and beverages,Plant-based fo...</td>\n",
       "      <td>509</td>\n",
       "      <td>2130</td>\n",
       "      <td>32.1</td>\n",
       "      <td>2.8</td>\n",
       "      <td>37.8</td>\n",
       "      <td>29.2</td>\n",
       "      <td>14</td>\n",
       "      <td>0.1</td>\n",
       "      <td>0.04</td>\n",
       "      <td>9</td>\n",
       "      <td>6.4</td>\n",
       "    </tr>\n",
       "    <tr>\n",
       "      <th>1555172</th>\n",
       "      <td>990530101029435828</td>\n",
       "      <td>Bio cookies</td>\n",
       "      <td>Griesson</td>\n",
       "      <td>Snacks,Sweet snacks,Biscuits and cakes,Biscuit...</td>\n",
       "      <td>477</td>\n",
       "      <td>1996</td>\n",
       "      <td>20</td>\n",
       "      <td>8.4</td>\n",
       "      <td>66</td>\n",
       "      <td>33</td>\n",
       "      <td>6.6</td>\n",
       "      <td>0.6</td>\n",
       "      <td>0.24</td>\n",
       "      <td>19</td>\n",
       "      <td>3.3</td>\n",
       "    </tr>\n",
       "    <tr>\n",
       "      <th>1555265</th>\n",
       "      <td>9938809161503</td>\n",
       "      <td>Jus de fruit Innocent pomme ,peche et poire</td>\n",
       "      <td>Innocent</td>\n",
       "      <td>fr:jus-de-pomme-poire</td>\n",
       "      <td>45</td>\n",
       "      <td>188</td>\n",
       "      <td>0.1</td>\n",
       "      <td>0.1</td>\n",
       "      <td>9.9</td>\n",
       "      <td>9.3</td>\n",
       "      <td>0.4</td>\n",
       "      <td>0.01</td>\n",
       "      <td>0.004</td>\n",
       "      <td>1</td>\n",
       "      <td>1.2</td>\n",
       "    </tr>\n",
       "    <tr>\n",
       "      <th>1555307</th>\n",
       "      <td>9950014911001</td>\n",
       "      <td>Oignons jaunes 40/60</td>\n",
       "      <td>Ferme De L'artois</td>\n",
       "      <td>Plant-based foods and beverages,Plant-based fo...</td>\n",
       "      <td>0</td>\n",
       "      <td>0</td>\n",
       "      <td>5</td>\n",
       "      <td>5</td>\n",
       "      <td>2</td>\n",
       "      <td>0.5</td>\n",
       "      <td>32</td>\n",
       "      <td>0.2</td>\n",
       "      <td>0.08</td>\n",
       "      <td>-11</td>\n",
       "      <td>25</td>\n",
       "    </tr>\n",
       "    <tr>\n",
       "      <th>Total</th>\n",
       "      <td>0</td>\n",
       "      <td>0.0346904</td>\n",
       "      <td>0.302957</td>\n",
       "      <td>0.421298</td>\n",
       "      <td>0.2428</td>\n",
       "      <td>0.168235</td>\n",
       "      <td>0.174449</td>\n",
       "      <td>0.173235</td>\n",
       "      <td>0.174946</td>\n",
       "      <td>0.17268</td>\n",
       "      <td>0.17054</td>\n",
       "      <td>0.194266</td>\n",
       "      <td>0.194268</td>\n",
       "      <td>0.537193</td>\n",
       "      <td>0.741382</td>\n",
       "    </tr>\n",
       "  </tbody>\n",
       "</table>\n",
       "<p>74054 rows × 15 columns</p>\n",
       "</div>"
      ],
      "text/plain": [
       "                       Code                               Nom_du_produit  \\\n",
       "21            0000000001281                           Tarte noix de coco   \n",
       "31            0000000001885                             Compote de poire   \n",
       "66            0000000005470                             BAguette bressan   \n",
       "384              0000005016             Pesto à La Roquette Bio Kazidomi   \n",
       "385              0000005018               Crème d'Artichaut Bio Kazidomi   \n",
       "...                     ...                                          ...   \n",
       "1555145  990530101017343401                                    Barre bio   \n",
       "1555172  990530101029435828                                  Bio cookies   \n",
       "1555265       9938809161503  Jus de fruit Innocent pomme ,peche et poire   \n",
       "1555307       9950014911001                         Oignons jaunes 40/60   \n",
       "Total                     0                                    0.0346904   \n",
       "\n",
       "                     Marque  \\\n",
       "21       Crous Resto',Crous   \n",
       "31                    Crous   \n",
       "66              Crousresto'   \n",
       "384                Kazidomi   \n",
       "385                Kazidomi   \n",
       "...                     ...   \n",
       "1555145           Good Gout   \n",
       "1555172            Griesson   \n",
       "1555265            Innocent   \n",
       "1555307   Ferme De L'artois   \n",
       "Total              0.302957   \n",
       "\n",
       "                                                Categories Calorie_Kcal  \\\n",
       "21                            Pies,Sweet pies,Coconut pies          381   \n",
       "31       Plant-based foods and beverages,Plant-based fo...          157   \n",
       "66       Plant-based foods and beverages,Plant-based fo...          160   \n",
       "384                                Groceries,Sauces,Pestos          561   \n",
       "385               Spreads,Salted spreads,Artichoke spreads          268   \n",
       "...                                                    ...          ...   \n",
       "1555145  Plant-based foods and beverages,Plant-based fo...          509   \n",
       "1555172  Snacks,Sweet snacks,Biscuits and cakes,Biscuit...          477   \n",
       "1555265                              fr:jus-de-pomme-poire           45   \n",
       "1555307  Plant-based foods and beverages,Plant-based fo...            0   \n",
       "Total                                             0.421298       0.2428   \n",
       "\n",
       "        Energie_J  Graisses Graisses_saturés  Glucides   Sucres Proteines  \\\n",
       "21           1594        22             15.5      27.3     21.9       4.6   \n",
       "31            657         0                0        36       27       0.6   \n",
       "66            669       2.2              0.5      25.2      0.6       9.5   \n",
       "384          2318      53.2              9.6      11.7      0.5       8.2   \n",
       "385          1104      27.4              3.9       1.8        0       1.9   \n",
       "...           ...       ...              ...       ...      ...       ...   \n",
       "1555145      2130      32.1              2.8      37.8     29.2        14   \n",
       "1555172      1996        20              8.4        66       33       6.6   \n",
       "1555265       188       0.1              0.1       9.9      9.3       0.4   \n",
       "1555307         0         5                5         2      0.5        32   \n",
       "Total    0.168235  0.174449         0.173235  0.174946  0.17268   0.17054   \n",
       "\n",
       "              Sel    Sodium     Score    Fibres  \n",
       "21            0.1      0.04        14       4.4  \n",
       "31              0         0        -2       3.6  \n",
       "66          0.358    0.1432        -4       1.6  \n",
       "384           2.7      1.08        23       1.3  \n",
       "385           2.7      1.08        11       3.5  \n",
       "...           ...       ...       ...       ...  \n",
       "1555145       0.1      0.04         9       6.4  \n",
       "1555172       0.6      0.24        19       3.3  \n",
       "1555265      0.01     0.004         1       1.2  \n",
       "1555307       0.2      0.08       -11        25  \n",
       "Total    0.194266  0.194268  0.537193  0.741382  \n",
       "\n",
       "[74054 rows x 15 columns]"
      ]
     },
     "execution_count": 63,
     "metadata": {},
     "output_type": "execute_result"
    }
   ],
   "source": [
    "d_04"
   ]
  },
  {
   "cell_type": "code",
   "execution_count": 64,
   "metadata": {},
   "outputs": [],
   "source": [
    "d_04_Fiber = d_04.filter(['Fibres'], axis=1)\n",
    "d_04_Fiber['Fibres'] = pd.to_numeric(d_04_Fiber['Fibres'])\n"
   ]
  },
  {
   "cell_type": "code",
   "execution_count": 65,
   "metadata": {},
   "outputs": [
    {
     "data": {
      "text/plain": [
       "Text(0.5, 1.0, 'Schema 46 -Boxplot Fibres avant Filtre')"
      ]
     },
     "execution_count": 65,
     "metadata": {},
     "output_type": "execute_result"
    },
    {
     "data": {
      "image/png": "[encoded data removed]",
      "text/plain": [
       "<Figure size 216x504 with 1 Axes>"
      ]
     },
     "metadata": {
      "needs_background": "light"
     },
     "output_type": "display_data"
    }
   ],
   "source": [
    "\n",
    "#BoxPlot Avant\n",
    "plt.figure(figsize=(3, 7))\n",
    "\n",
    "boxplot_Fiber = d_04_Fiber.boxplot(column=['Fibres'])\n",
    "plt.title('Schema 46 -Boxplot Fibres avant Filtre')\n"
   ]
  },
  {
   "cell_type": "code",
   "execution_count": 66,
   "metadata": {},
   "outputs": [
    {
     "name": "stdout",
     "output_type": "stream",
     "text": [
      "//////////////////////\n",
      "Cellules pleines :  Fibres 0 %\n",
      "//////////////////////\n"
     ]
    },
    {
     "data": {
      "image/png": "[encoded data removed]",
      "text/plain": [
       "<Figure size 432x432 with 1 Axes>"
      ]
     },
     "metadata": {},
     "output_type": "display_data"
    }
   ],
   "source": [
    "mEmptyCell_data = mEmptyCell(d_04_Fiber)\n",
    "print(\"//////////////////////\")\n",
    "print('Cellules pleines :  Fibres', mEmptyCell_data ,\"%\")\n",
    "print(\"//////////////////////\")\n",
    "str = 'Schema 47 - Cellules pleines :  Fibres'\n",
    "a = mEmptyGraph(mEmptyCell_data,str)\n",
    "\n"
   ]
  },
  {
   "cell_type": "code",
   "execution_count": 67,
   "metadata": {},
   "outputs": [
    {
     "name": "stdout",
     "output_type": "stream",
     "text": [
      "Fiber 2----              Fibres\n",
      "count  74054.000000\n",
      "mean       2.901959\n",
      "std        4.536685\n",
      "min        0.000000\n",
      "25%        0.000000\n",
      "50%        1.600000\n",
      "75%        3.700000\n",
      "max      100.000000\n",
      "Fiber 3---- (74054, 1)\n",
      " _Fiber 4---- (55718, 1)\n"
     ]
    }
   ],
   "source": [
    "#-----Fiber 1 : Drop NA -------\n",
    "d_041_Fiber = d_04_Fiber.dropna()\n",
    "print(\"Fiber 2----\", d_041_Fiber.describe())\n",
    "#-----Fiber 2 : Filtre 25 / 75 -------\n",
    "print(\"Fiber 3----\", d_041_Fiber.shape)\n",
    "d_042_Fiber_filter = d_041_Fiber.drop(d_041_Fiber[d_041_Fiber.Fibres < 0].index)\n",
    "d_043_Fiber_filter = d_042_Fiber_filter.drop(d_041_Fiber[d_041_Fiber.Fibres > 3.7].index)\n",
    "d_Fiber_filter = d_043_Fiber_filter.sort_values(by=['Fibres'], ascending=False)\n",
    "print(\" _Fiber 4----\", d_Fiber_filter.shape)\n",
    "\n"
   ]
  },
  {
   "cell_type": "code",
   "execution_count": 68,
   "metadata": {
    "scrolled": true
   },
   "outputs": [
    {
     "data": {
      "text/plain": [
       "Text(0.5, 1.0, 'Schema 48 - Boxplot Fibres après Filtre')"
      ]
     },
     "execution_count": 68,
     "metadata": {},
     "output_type": "execute_result"
    },
    {
     "data": {
      "image/png": "[encoded data removed]",
      "text/plain": [
       "<Figure size 216x504 with 1 Axes>"
      ]
     },
     "metadata": {
      "needs_background": "light"
     },
     "output_type": "display_data"
    }
   ],
   "source": [
    "\n",
    "#BoxPlot Aprés\n",
    "plt.figure(figsize=(3, 7))\n",
    "boxplot_Fiber = d_Fiber_filter.boxplot(column=['Fibres'])\n",
    "plt.title('Schema 48 - Boxplot Fibres après Filtre')\n"
   ]
  },
  {
   "cell_type": "code",
   "execution_count": 69,
   "metadata": {},
   "outputs": [
    {
     "name": "stdout",
     "output_type": "stream",
     "text": [
      "          Energie_J\n",
      "count  74054.000000\n",
      "mean    1157.627432\n",
      "std      880.120584\n",
      "min        0.000000\n",
      "25%      423.000000\n",
      "50%     1084.000000\n",
      "75%     1715.000000\n",
      "max    86200.000000\n",
      "          Energie_J\n",
      "count  37142.000000\n",
      "mean    1089.525503\n",
      "std      395.177468\n",
      "min      423.000000\n",
      "25%      728.000000\n",
      "50%     1084.000000\n",
      "75%     1473.000000\n",
      "max     1715.000000\n",
      "              Score\n",
      "count  74054.000000\n",
      "mean       7.216214\n",
      "std        8.819110\n",
      "min      -15.000000\n",
      "25%        0.000000\n",
      "50%        6.000000\n",
      "75%       14.000000\n",
      "max       40.000000\n",
      "              Score\n",
      "count  40773.000000\n",
      "mean       6.595849\n",
      "std        4.683979\n",
      "min        0.000000\n",
      "25%        2.000000\n",
      "50%        6.000000\n",
      "75%       11.000000\n",
      "max       14.000000\n",
      "       Graisses_saturés\n",
      "count      74054.000000\n",
      "mean           4.716282\n",
      "std            8.043385\n",
      "min            0.000000\n",
      "25%            0.200000\n",
      "50%            1.500000\n",
      "75%            6.000000\n",
      "max          120.000000\n",
      "       Graisses_saturés\n",
      "count      55814.000000\n",
      "mean           1.338769\n",
      "std            1.592894\n",
      "min            0.000000\n",
      "25%            0.100000\n",
      "50%            0.600000\n",
      "75%            2.200000\n",
      "max            6.000000\n",
      "           Graisses\n",
      "count  74054.000000\n",
      "mean      13.358031\n",
      "std       17.898355\n",
      "min        0.000000\n",
      "25%        0.900000\n",
      "50%        6.300000\n",
      "75%       20.000000\n",
      "max      100.000000\n",
      "          Graisses\n",
      "count  7007.000000\n",
      "mean      1.465046\n",
      "std       0.357877\n",
      "min       0.900000\n",
      "25%       1.130000\n",
      "50%       1.500000\n",
      "75%       1.800000\n",
      "max       2.000000\n",
      "             Sucres\n",
      "count  74054.000000\n",
      "mean      13.167977\n",
      "std       18.032106\n",
      "min        0.000000\n",
      "25%        1.100000\n",
      "50%        4.400000\n",
      "75%       19.000000\n",
      "max      100.000000\n",
      "             Sucres\n",
      "count  37748.000000\n",
      "mean       6.145590\n",
      "std        4.658638\n",
      "min        1.100000\n",
      "25%        2.500000\n",
      "50%        4.400000\n",
      "75%        9.400000\n",
      "max       19.000000\n",
      "             Sodium\n",
      "count  74054.000000\n",
      "mean       0.346165\n",
      "std        1.107828\n",
      "min        0.000000\n",
      "25%        0.012000\n",
      "50%        0.160000\n",
      "75%        0.404000\n",
      "max      124.000000\n",
      "             Sodium\n",
      "count  21614.000000\n",
      "mean       0.270176\n",
      "std        0.084401\n",
      "min        0.120000\n",
      "25%        0.200000\n",
      "50%        0.280000\n",
      "75%        0.340000\n",
      "max        0.400000\n",
      "           Glucides\n",
      "count  74054.000000\n",
      "mean      30.093113\n",
      "std       27.226316\n",
      "min        0.000000\n",
      "25%        5.500000\n",
      "50%       18.800000\n",
      "75%       56.000000\n",
      "max      198.000000\n",
      "           Glucides\n",
      "count  36390.000000\n",
      "mean      22.710272\n",
      "std       15.204498\n",
      "min        5.000000\n",
      "25%       10.400000\n",
      "50%       16.500000\n",
      "75%       35.000000\n",
      "max       53.000000\n",
      "       Calorie_Kcal\n",
      "count  74054.000000\n",
      "mean     277.168517\n",
      "std      211.615891\n",
      "min        0.000000\n",
      "25%      101.000000\n",
      "50%      259.000000\n",
      "75%      410.000000\n",
      "max    20600.000000\n",
      "       Calorie_Kcal\n",
      "count  37155.000000\n",
      "mean     260.380889\n",
      "std       94.391498\n",
      "min      101.000000\n",
      "25%      174.000000\n",
      "50%      259.000000\n",
      "75%      352.000000\n",
      "max      410.000000\n",
      "                Sel\n",
      "count  74054.000000\n",
      "mean       0.865277\n",
      "std        2.769424\n",
      "min        0.000000\n",
      "25%        0.030000\n",
      "50%        0.400000\n",
      "75%        1.010000\n",
      "max      310.000000\n",
      "                Sel\n",
      "count  37685.000000\n",
      "mean       0.440036\n",
      "std        0.322077\n",
      "min        0.030000\n",
      "25%        0.110000\n",
      "50%        0.400000\n",
      "75%        0.720000\n",
      "max        1.010000\n",
      "          Proteines\n",
      "count  74054.000000\n",
      "mean       7.572117\n",
      "std        8.267590\n",
      "min        0.000000\n",
      "25%        1.400000\n",
      "50%        5.900000\n",
      "75%       10.000000\n",
      "max      110.000000\n",
      "          Proteines\n",
      "count  37486.000000\n",
      "mean       5.700587\n",
      "std        2.377703\n",
      "min        1.400000\n",
      "25%        3.600000\n",
      "50%        5.900000\n",
      "75%        7.500000\n",
      "max       10.000000\n",
      "             Fibres\n",
      "count  74054.000000\n",
      "mean       2.901959\n",
      "std        4.536685\n",
      "min        0.000000\n",
      "25%        0.000000\n",
      "50%        1.600000\n",
      "75%        3.700000\n",
      "max      100.000000\n",
      "             Fibres\n",
      "count  55718.000000\n",
      "mean       1.142904\n",
      "std        1.154857\n",
      "min        0.000000\n",
      "25%        0.000000\n",
      "50%        0.900000\n",
      "75%        2.000000\n",
      "max        3.700000\n"
     ]
    }
   ],
   "source": [
    "print(d_04_enr.describe())\n",
    "print(d_Energy_filter.describe())\n",
    "\n",
    "print(d_04_Score.describe())\n",
    "print(d_score_filter.describe())\n",
    "print(d_04_SatFat.describe())\n",
    "print(d_Sat_fat_filter.describe())\n",
    "print(d_04_fat.describe())\n",
    "print(d_Fat_filter.describe())\n",
    "print(d_04_sug.describe())\n",
    "print(d_Sugar_filter.describe())\n",
    "print(d_04_sodium.describe())\n",
    "print(d_Sodium_filter.describe())\n",
    "print(d_04_Carbo.describe())\n",
    "print(d_Carbo_filter.describe())\n",
    "print(d_04_Energy_Kcal.describe())\n",
    "print(d_Energy_Kcal_filter.describe())\n",
    "print(d_04_Salt.describe())\n",
    "print(d_Salt_filter.describe())\n",
    "print(d_04_Proteins.describe())\n",
    "print(d_Proteins_filter.describe())\n",
    "print(d_04_Fiber.describe())\n",
    "print(d_Fiber_filter.describe())"
   ]
  },
  {
   "cell_type": "code",
   "execution_count": 70,
   "metadata": {},
   "outputs": [
    {
     "data": {
      "text/html": [
       "<div>\n",
       "<style scoped>\n",
       "    .dataframe tbody tr th:only-of-type {\n",
       "        vertical-align: middle;\n",
       "    }\n",
       "\n",
       "    .dataframe tbody tr th {\n",
       "        vertical-align: top;\n",
       "    }\n",
       "\n",
       "    .dataframe thead th {\n",
       "        text-align: right;\n",
       "    }\n",
       "</style>\n",
       "<table border=\"1\" class=\"dataframe\">\n",
       "  <thead>\n",
       "    <tr style=\"text-align: right;\">\n",
       "      <th></th>\n",
       "      <th>Fibres</th>\n",
       "    </tr>\n",
       "  </thead>\n",
       "  <tbody>\n",
       "    <tr>\n",
       "      <th>973610</th>\n",
       "      <td>3.7</td>\n",
       "    </tr>\n",
       "    <tr>\n",
       "      <th>1132299</th>\n",
       "      <td>3.7</td>\n",
       "    </tr>\n",
       "    <tr>\n",
       "      <th>621355</th>\n",
       "      <td>3.7</td>\n",
       "    </tr>\n",
       "    <tr>\n",
       "      <th>621089</th>\n",
       "      <td>3.7</td>\n",
       "    </tr>\n",
       "    <tr>\n",
       "      <th>620757</th>\n",
       "      <td>3.7</td>\n",
       "    </tr>\n",
       "    <tr>\n",
       "      <th>...</th>\n",
       "      <td>...</td>\n",
       "    </tr>\n",
       "    <tr>\n",
       "      <th>934534</th>\n",
       "      <td>0.0</td>\n",
       "    </tr>\n",
       "    <tr>\n",
       "      <th>934509</th>\n",
       "      <td>0.0</td>\n",
       "    </tr>\n",
       "    <tr>\n",
       "      <th>934508</th>\n",
       "      <td>0.0</td>\n",
       "    </tr>\n",
       "    <tr>\n",
       "      <th>934427</th>\n",
       "      <td>0.0</td>\n",
       "    </tr>\n",
       "    <tr>\n",
       "      <th>748931</th>\n",
       "      <td>0.0</td>\n",
       "    </tr>\n",
       "  </tbody>\n",
       "</table>\n",
       "<p>55718 rows × 1 columns</p>\n",
       "</div>"
      ],
      "text/plain": [
       "         Fibres\n",
       "973610      3.7\n",
       "1132299     3.7\n",
       "621355      3.7\n",
       "621089      3.7\n",
       "620757      3.7\n",
       "...         ...\n",
       "934534      0.0\n",
       "934509      0.0\n",
       "934508      0.0\n",
       "934427      0.0\n",
       "748931      0.0\n",
       "\n",
       "[55718 rows x 1 columns]"
      ]
     },
     "execution_count": 70,
     "metadata": {},
     "output_type": "execute_result"
    }
   ],
   "source": [
    "d_score_filter\n",
    "d_Sat_fat_filter\n",
    "d_Fat_filter\n",
    "d_Sugar_filter\n",
    "d_Energy_filter\n",
    "d_Carbo_filter\n",
    "d_Energy_Kcal_filter\n",
    "d_Salt_filter\n",
    "d_Proteins_filter\n",
    "d_Fiber_filter"
   ]
  },
  {
   "cell_type": "markdown",
   "metadata": {},
   "source": [
    "# 11----- brands"
   ]
  },
  {
   "cell_type": "code",
   "execution_count": null,
   "metadata": {},
   "outputs": [],
   "source": []
  },
  {
   "cell_type": "code",
   "execution_count": 71,
   "metadata": {},
   "outputs": [
    {
     "data": {
      "text/html": [
       "<div>\n",
       "<style scoped>\n",
       "    .dataframe tbody tr th:only-of-type {\n",
       "        vertical-align: middle;\n",
       "    }\n",
       "\n",
       "    .dataframe tbody tr th {\n",
       "        vertical-align: top;\n",
       "    }\n",
       "\n",
       "    .dataframe thead th {\n",
       "        text-align: right;\n",
       "    }\n",
       "</style>\n",
       "<table border=\"1\" class=\"dataframe\">\n",
       "  <thead>\n",
       "    <tr style=\"text-align: right;\">\n",
       "      <th></th>\n",
       "      <th>Marque</th>\n",
       "      <th>Iteration</th>\n",
       "    </tr>\n",
       "  </thead>\n",
       "  <tbody>\n",
       "    <tr>\n",
       "      <th>0</th>\n",
       "      <td>U</td>\n",
       "      <td>3241</td>\n",
       "    </tr>\n",
       "    <tr>\n",
       "      <th>1</th>\n",
       "      <td>Auchan</td>\n",
       "      <td>2376</td>\n",
       "    </tr>\n",
       "    <tr>\n",
       "      <th>2</th>\n",
       "      <td>Carrefour</td>\n",
       "      <td>1731</td>\n",
       "    </tr>\n",
       "    <tr>\n",
       "      <th>3</th>\n",
       "      <td>Casino</td>\n",
       "      <td>1552</td>\n",
       "    </tr>\n",
       "    <tr>\n",
       "      <th>4</th>\n",
       "      <td>Picard</td>\n",
       "      <td>1351</td>\n",
       "    </tr>\n",
       "    <tr>\n",
       "      <th>5</th>\n",
       "      <td>Cora</td>\n",
       "      <td>1018</td>\n",
       "    </tr>\n",
       "    <tr>\n",
       "      <th>6</th>\n",
       "      <td>Leader Price</td>\n",
       "      <td>879</td>\n",
       "    </tr>\n",
       "    <tr>\n",
       "      <th>7</th>\n",
       "      <td>Nestlé</td>\n",
       "      <td>579</td>\n",
       "    </tr>\n",
       "    <tr>\n",
       "      <th>8</th>\n",
       "      <td>Thiriet</td>\n",
       "      <td>552</td>\n",
       "    </tr>\n",
       "    <tr>\n",
       "      <th>9</th>\n",
       "      <td>La Vie Claire</td>\n",
       "      <td>509</td>\n",
       "    </tr>\n",
       "    <tr>\n",
       "      <th>10</th>\n",
       "      <td>Marks &amp; Spencer</td>\n",
       "      <td>509</td>\n",
       "    </tr>\n",
       "    <tr>\n",
       "      <th>11</th>\n",
       "      <td>Monoprix</td>\n",
       "      <td>461</td>\n",
       "    </tr>\n",
       "    <tr>\n",
       "      <th>12</th>\n",
       "      <td>Belle France</td>\n",
       "      <td>439</td>\n",
       "    </tr>\n",
       "    <tr>\n",
       "      <th>13</th>\n",
       "      <td>U Bio</td>\n",
       "      <td>366</td>\n",
       "    </tr>\n",
       "    <tr>\n",
       "      <th>14</th>\n",
       "      <td>U Saveurs</td>\n",
       "      <td>364</td>\n",
       "    </tr>\n",
       "    <tr>\n",
       "      <th>15</th>\n",
       "      <td>Franprix</td>\n",
       "      <td>357</td>\n",
       "    </tr>\n",
       "    <tr>\n",
       "      <th>16</th>\n",
       "      <td>Kellogg's</td>\n",
       "      <td>329</td>\n",
       "    </tr>\n",
       "    <tr>\n",
       "      <th>17</th>\n",
       "      <td>Knorr</td>\n",
       "      <td>327</td>\n",
       "    </tr>\n",
       "    <tr>\n",
       "      <th>18</th>\n",
       "      <td>Bonduelle</td>\n",
       "      <td>305</td>\n",
       "    </tr>\n",
       "    <tr>\n",
       "      <th>19</th>\n",
       "      <td>Delhaize</td>\n",
       "      <td>304</td>\n",
       "    </tr>\n",
       "    <tr>\n",
       "      <th>20</th>\n",
       "      <td>Bjorg</td>\n",
       "      <td>296</td>\n",
       "    </tr>\n",
       "    <tr>\n",
       "      <th>21</th>\n",
       "      <td>Andros</td>\n",
       "      <td>265</td>\n",
       "    </tr>\n",
       "    <tr>\n",
       "      <th>22</th>\n",
       "      <td>Casino Bio</td>\n",
       "      <td>256</td>\n",
       "    </tr>\n",
       "    <tr>\n",
       "      <th>23</th>\n",
       "      <td>Barilla</td>\n",
       "      <td>254</td>\n",
       "    </tr>\n",
       "    <tr>\n",
       "      <th>24</th>\n",
       "      <td>Jardin Bio</td>\n",
       "      <td>236</td>\n",
       "    </tr>\n",
       "    <tr>\n",
       "      <th>25</th>\n",
       "      <td>Milka</td>\n",
       "      <td>222</td>\n",
       "    </tr>\n",
       "    <tr>\n",
       "      <th>26</th>\n",
       "      <td>Herta</td>\n",
       "      <td>220</td>\n",
       "    </tr>\n",
       "    <tr>\n",
       "      <th>27</th>\n",
       "      <td>Bonne Maman</td>\n",
       "      <td>212</td>\n",
       "    </tr>\n",
       "    <tr>\n",
       "      <th>28</th>\n",
       "      <td>Yoplait</td>\n",
       "      <td>208</td>\n",
       "    </tr>\n",
       "    <tr>\n",
       "      <th>29</th>\n",
       "      <td>M&amp;S</td>\n",
       "      <td>208</td>\n",
       "    </tr>\n",
       "  </tbody>\n",
       "</table>\n",
       "</div>"
      ],
      "text/plain": [
       "             Marque  Iteration\n",
       "0                 U       3241\n",
       "1            Auchan       2376\n",
       "2         Carrefour       1731\n",
       "3            Casino       1552\n",
       "4            Picard       1351\n",
       "5              Cora       1018\n",
       "6      Leader Price        879\n",
       "7            Nestlé        579\n",
       "8           Thiriet        552\n",
       "9     La Vie Claire        509\n",
       "10  Marks & Spencer        509\n",
       "11         Monoprix        461\n",
       "12     Belle France        439\n",
       "13            U Bio        366\n",
       "14        U Saveurs        364\n",
       "15         Franprix        357\n",
       "16        Kellogg's        329\n",
       "17            Knorr        327\n",
       "18        Bonduelle        305\n",
       "19         Delhaize        304\n",
       "20            Bjorg        296\n",
       "21           Andros        265\n",
       "22       Casino Bio        256\n",
       "23          Barilla        254\n",
       "24       Jardin Bio        236\n",
       "25            Milka        222\n",
       "26            Herta        220\n",
       "27      Bonne Maman        212\n",
       "28          Yoplait        208\n",
       "29              M&S        208"
      ]
     },
     "execution_count": 71,
     "metadata": {},
     "output_type": "execute_result"
    }
   ],
   "source": [
    "d_04_Brands = d_04.filter(['Marque'], axis=1)\n",
    "d_04_Brands_1 = d_04_Brands['Marque'].value_counts()\n",
    "d_04_Brands_2 = d_04_Brands_1.head(20)\n",
    "d_04_Brands_4 = pd.DataFrame(data=d_04_Brands_2)\n",
    "d_04_Brands_01 = d_04.filter(['Marque'], axis=1)\n",
    "d_04_Brands_02 =  pd.Series(d_04_Brands_01['Marque'].values, index=d_04_Brands_01.index)\n",
    "d_04_Brands_03 = d_04_Brands_02.dropna()\n",
    "d_04_Brands_04 = d_04_Brands_03.str.split(',', expand=True)\n",
    "d_04_Brands_04.drop(1, inplace=True, axis=1)\n",
    "d_04_Brands_04.drop(2, inplace=True, axis=1)\n",
    "d_04_Brands_04.drop(3, inplace=True, axis=1)\n",
    "d_04_Brands_04.drop(4, inplace=True, axis=1)\n",
    "d_04_Brands_04.drop(5, inplace=True, axis=1)\n",
    "d_04_Brands_04.drop(6, inplace=True, axis=1)\n",
    "d_04_Brands_05 = d_04_Brands_04.rename(columns={0: 'Marque'}) \n",
    "d_04_Brands_06 = d_04_Brands_05.drop(['Total'])\n",
    "d_04_Brands_07 = d_04_Brands_06['Marque'].value_counts()\n",
    "d_04_Brands_08 = pd.DataFrame(data=d_04_Brands_07)\n",
    "d_04_Brands_09 = d_04_Brands_08.head(30)\n",
    "d_04_Brands_10 = d_04_Brands_09.reset_index()\n",
    "d_04_Brands_4 = d_04_Brands_10.rename(columns={'index': 'Marque', \"Marque\":'Iteration'}) \n",
    "d_04_Brands_4"
   ]
  },
  {
   "cell_type": "code",
   "execution_count": 72,
   "metadata": {},
   "outputs": [
    {
     "data": {
      "text/plain": [
       "Text(0.5, 1.0, ' Schema 49 - Marque : Top 30')"
      ]
     },
     "execution_count": 72,
     "metadata": {},
     "output_type": "execute_result"
    },
    {
     "data": {
      "image/png": "[encoded data removed]",
      "text/plain": [
       "<Figure size 936x576 with 1 Axes>"
      ]
     },
     "metadata": {
      "needs_background": "light"
     },
     "output_type": "display_data"
    }
   ],
   "source": [
    "\n",
    "plt.figure(figsize=(13, 8))\n",
    "sns.set_theme(style=\"whitegrid\")\n",
    "sns.set(font_scale=1.5)\n",
    "ax = sns.barplot(x=\"Iteration\", y=\"Marque\", data=d_04_Brands_4, orient='h', saturation=0.7)\n",
    "plt.xticks(rotation=80)\n",
    "plt.title(\" Schema 49 - Marque : Top 30\", fontsize=25)"
   ]
  },
  {
   "cell_type": "code",
   "execution_count": 73,
   "metadata": {},
   "outputs": [
    {
     "name": "stdout",
     "output_type": "stream",
     "text": [
      "//////////////////////\n",
      "Cellules pleines :  Marques 0 %\n",
      "//////////////////////\n"
     ]
    },
    {
     "data": {
      "image/png": "[encoded data removed]",
      "text/plain": [
       "<Figure size 432x432 with 1 Axes>"
      ]
     },
     "metadata": {},
     "output_type": "display_data"
    }
   ],
   "source": [
    "mEmptyCell_data = mEmptyCell(d_04_Brands)\n",
    "print(\"//////////////////////\")\n",
    "print('Cellules pleines :  Marques', mEmptyCell_data ,\"%\")\n",
    "print(\"//////////////////////\")\n",
    "str = 'Schema 50 - Cellules pleines :  Marques'\n",
    "a = mEmptyGraph(mEmptyCell_data,str)"
   ]
  },
  {
   "cell_type": "markdown",
   "metadata": {},
   "source": [
    "# 12 ----- categories"
   ]
  },
  {
   "cell_type": "code",
   "execution_count": 74,
   "metadata": {},
   "outputs": [],
   "source": [
    "%store -r data"
   ]
  },
  {
   "cell_type": "code",
   "execution_count": 75,
   "metadata": {},
   "outputs": [
    {
     "name": "stderr",
     "output_type": "stream",
     "text": [
      "<ipython-input-75-fbda2b0666ea>:15: SettingWithCopyWarning: \n",
      "A value is trying to be set on a copy of a slice from a DataFrame.\n",
      "Try using .loc[row_indexer,col_indexer] = value instead\n",
      "\n",
      "See the caveats in the documentation: https://pandas.pydata.org/pandas-docs/stable/user_guide/indexing.html#returning-a-view-versus-a-copy\n",
      "  d_t15['Categories'] = d_t15['Categorie'].replace({'Plant-based foods and beverages':'Aliments et boissons à base de plantes',\n",
      "/Users/rogerrabbit/opt/anaconda3/lib/python3.8/site-packages/pandas/core/frame.py:4163: SettingWithCopyWarning: \n",
      "A value is trying to be set on a copy of a slice from a DataFrame\n",
      "\n",
      "See the caveats in the documentation: https://pandas.pydata.org/pandas-docs/stable/user_guide/indexing.html#returning-a-view-versus-a-copy\n",
      "  return super().drop(\n"
     ]
    }
   ],
   "source": [
    "d_t4 = data['categories_en']\n",
    "d_t5= d_t4.dropna()\n",
    "d_t6 = d_t5.str.split(',', expand=True)\n",
    "d_t7 = d_t6[0]\n",
    "d_t8 = pd.DataFrame(data=d_t7)\n",
    "d_t8.dropna()\n",
    "d_t9 = d_t8.rename(columns={0: 'Categorie'}) \n",
    "d_t10 = d_t9.drop(['Total'])\n",
    "d_t11 = d_t10['Categorie'].value_counts()\n",
    "d_t12 = pd.DataFrame(data=d_t11)\n",
    "d_t13 = d_t12.reset_index()\n",
    "d_t14 = d_t13.rename(columns={'index': 'Categorie', \"Categorie\":'Iteration'}) \n",
    "d_t15 = d_t14.head(20)\n",
    "\n",
    "d_t15['Categories'] = d_t15['Categorie'].replace({'Plant-based foods and beverages':'Aliments et boissons à base de plantes',\n",
    "                                    'Snacks':'Snacks',\n",
    "                                    'Dairies':'Laiteries', \n",
    "                                    'Meats':'Viandes', \n",
    "                                    'Meals':'Plats préparées', \n",
    "                                    'Beverages':'Breuvages', \n",
    "                                    'Groceries':' Epicerie',\n",
    "                                    'Seafood':'Fruit de mer',\n",
    "                                    'Desserts':'Desserts', \n",
    "                                    'Canned foods':'Aliments en conserve', \n",
    "                                    'Spreads':'Pate à tartiner', \n",
    "                                    'Frozen foods':'Plat surgelée', \n",
    "                                    'Biscuits and cakes':'Biscuits et gâteaux', \n",
    "                                    'Fish and meat and eggs':'Poisson et viande et œufs', \n",
    "                                    'Sandwiches':'Sandwichs', \n",
    "                                    'Sweeteners':'Édulcorants', \n",
    "                                    'Dietary supplements':'Compléments alimentaires', \n",
    "                                    'Baby foods':'Aliments pour bébés', \n",
    "                                    'Fats':'Graisses', \n",
    "                                    'Pies':'Tartes', }) \n",
    "\n",
    "\n",
    "\n",
    "\n",
    "d_t15.drop('Categorie', inplace=True, axis=1)\n"
   ]
  },
  {
   "cell_type": "code",
   "execution_count": 76,
   "metadata": {},
   "outputs": [
    {
     "data": {
      "text/plain": [
       "Text(0.5, 1.01, 'Schema 51 - Catégories : Top 15')"
      ]
     },
     "execution_count": 76,
     "metadata": {},
     "output_type": "execute_result"
    },
    {
     "data": {
      "image/png": "[encoded data removed]",
      "text/plain": [
       "<Figure size 936x576 with 1 Axes>"
      ]
     },
     "metadata": {},
     "output_type": "display_data"
    }
   ],
   "source": [
    "plt.figure(figsize=(13, 8))\n",
    "sns.set_theme(style=\"whitegrid\")\n",
    "sns.set(font_scale=2)\n",
    "ax = sns.barplot(x=\"Iteration\", y=\"Categories\", data=d_t15, orient='h', saturation=0.7)\n",
    "ax.axes.set_title(\"Schema 51 - Catégories : Top 15\", fontsize=20, y=1.01)\n"
   ]
  },
  {
   "cell_type": "code",
   "execution_count": 78,
   "metadata": {},
   "outputs": [
    {
     "name": "stdout",
     "output_type": "stream",
     "text": [
      "//////////////////////\n",
      "Cellules pleines :  Catégories 0 %\n",
      "//////////////////////\n"
     ]
    },
    {
     "data": {
      "image/png": "[encoded data removed]",
      "text/plain": [
       "<Figure size 432x432 with 1 Axes>"
      ]
     },
     "metadata": {},
     "output_type": "display_data"
    }
   ],
   "source": [
    "d_04_Cat_1 = d_04.filter(['Categories'], axis=1)\n",
    "mEmptyCell_data = mEmptyCell(d_04_Cat_1)\n",
    "print(\"//////////////////////\")\n",
    "print('Cellules pleines :  Catégories', mEmptyCell_data ,\"%\")\n",
    "print(\"//////////////////////\")\n",
    "str = 'Schema 52 - Cellules pleines :  Catégories'\n",
    "a = mEmptyGraph(mEmptyCell_data,str)"
   ]
  },
  {
   "cell_type": "markdown",
   "metadata": {},
   "source": [
    "# 13 ----- product_name"
   ]
  },
  {
   "cell_type": "code",
   "execution_count": 79,
   "metadata": {},
   "outputs": [
    {
     "data": {
      "text/html": [
       "<div>\n",
       "<style scoped>\n",
       "    .dataframe tbody tr th:only-of-type {\n",
       "        vertical-align: middle;\n",
       "    }\n",
       "\n",
       "    .dataframe tbody tr th {\n",
       "        vertical-align: top;\n",
       "    }\n",
       "\n",
       "    .dataframe thead th {\n",
       "        text-align: right;\n",
       "    }\n",
       "</style>\n",
       "<table border=\"1\" class=\"dataframe\">\n",
       "  <thead>\n",
       "    <tr style=\"text-align: right;\">\n",
       "      <th></th>\n",
       "      <th>Nom_du_produit</th>\n",
       "      <th>Iteration</th>\n",
       "    </tr>\n",
       "  </thead>\n",
       "  <tbody>\n",
       "    <tr>\n",
       "      <th>0</th>\n",
       "      <td>Comté</td>\n",
       "      <td>477</td>\n",
       "    </tr>\n",
       "    <tr>\n",
       "      <th>1</th>\n",
       "      <td>Emmental</td>\n",
       "      <td>369</td>\n",
       "    </tr>\n",
       "    <tr>\n",
       "      <th>2</th>\n",
       "      <td>Huile d'olive vierge extra</td>\n",
       "      <td>295</td>\n",
       "    </tr>\n",
       "    <tr>\n",
       "      <th>3</th>\n",
       "      <td>Filet de poulet</td>\n",
       "      <td>285</td>\n",
       "    </tr>\n",
       "    <tr>\n",
       "      <th>4</th>\n",
       "      <td>Mayonnaise</td>\n",
       "      <td>271</td>\n",
       "    </tr>\n",
       "    <tr>\n",
       "      <th>5</th>\n",
       "      <td>Huile d'olive</td>\n",
       "      <td>245</td>\n",
       "    </tr>\n",
       "    <tr>\n",
       "      <th>6</th>\n",
       "      <td>Chocolat</td>\n",
       "      <td>230</td>\n",
       "    </tr>\n",
       "    <tr>\n",
       "      <th>7</th>\n",
       "      <td>Jus de pomme</td>\n",
       "      <td>227</td>\n",
       "    </tr>\n",
       "    <tr>\n",
       "      <th>8</th>\n",
       "      <td>Spaghetti</td>\n",
       "      <td>184</td>\n",
       "    </tr>\n",
       "    <tr>\n",
       "      <th>9</th>\n",
       "      <td>Saucisson sec</td>\n",
       "      <td>167</td>\n",
       "    </tr>\n",
       "    <tr>\n",
       "      <th>10</th>\n",
       "      <td>Chocolat noir</td>\n",
       "      <td>162</td>\n",
       "    </tr>\n",
       "    <tr>\n",
       "      <th>11</th>\n",
       "      <td>Bloc de foie gras de canard</td>\n",
       "      <td>162</td>\n",
       "    </tr>\n",
       "    <tr>\n",
       "      <th>12</th>\n",
       "      <td>Jus d'orange</td>\n",
       "      <td>162</td>\n",
       "    </tr>\n",
       "    <tr>\n",
       "      <th>13</th>\n",
       "      <td>Foie gras de canard entier</td>\n",
       "      <td>160</td>\n",
       "    </tr>\n",
       "    <tr>\n",
       "      <th>14</th>\n",
       "      <td>Filets de poulet</td>\n",
       "      <td>155</td>\n",
       "    </tr>\n",
       "    <tr>\n",
       "      <th>15</th>\n",
       "      <td>Poulet</td>\n",
       "      <td>154</td>\n",
       "    </tr>\n",
       "    <tr>\n",
       "      <th>16</th>\n",
       "      <td>Emmental français</td>\n",
       "      <td>152</td>\n",
       "    </tr>\n",
       "    <tr>\n",
       "      <th>17</th>\n",
       "      <td>Pois chiches</td>\n",
       "      <td>150</td>\n",
       "    </tr>\n",
       "    <tr>\n",
       "      <th>18</th>\n",
       "      <td>Mozzarella</td>\n",
       "      <td>147</td>\n",
       "    </tr>\n",
       "    <tr>\n",
       "      <th>19</th>\n",
       "      <td>Lait de coco</td>\n",
       "      <td>146</td>\n",
       "    </tr>\n",
       "  </tbody>\n",
       "</table>\n",
       "</div>"
      ],
      "text/plain": [
       "                 Nom_du_produit  Iteration\n",
       "0                         Comté        477\n",
       "1                      Emmental        369\n",
       "2    Huile d'olive vierge extra        295\n",
       "3               Filet de poulet        285\n",
       "4                    Mayonnaise        271\n",
       "5                 Huile d'olive        245\n",
       "6                      Chocolat        230\n",
       "7                  Jus de pomme        227\n",
       "8                     Spaghetti        184\n",
       "9                 Saucisson sec        167\n",
       "10                Chocolat noir        162\n",
       "11  Bloc de foie gras de canard        162\n",
       "12                 Jus d'orange        162\n",
       "13   Foie gras de canard entier        160\n",
       "14             Filets de poulet        155\n",
       "15                       Poulet        154\n",
       "16            Emmental français        152\n",
       "17                 Pois chiches        150\n",
       "18                   Mozzarella        147\n",
       "19                 Lait de coco        146"
      ]
     },
     "execution_count": 79,
     "metadata": {},
     "output_type": "execute_result"
    }
   ],
   "source": [
    "%store -r data\n",
    "d_t4 = data['product_name']\n",
    "d_t5= d_t4.dropna()\n",
    "d_t6 = d_t5.str.split(',', expand=True)\n",
    "d_t7 = d_t6[0]\n",
    "d_t8 = pd.DataFrame(data=d_t7)\n",
    "d_t8.dropna()\n",
    "d_t9 = d_t8.rename(columns={0: 'Nom_du_produit'}) \n",
    "d_t10 = d_t9.drop(['Total'])\n",
    "d_t11 = d_t10['Nom_du_produit'].value_counts()\n",
    "d_t12 = pd.DataFrame(data=d_t11)\n",
    "d_t13 = d_t12.reset_index()\n",
    "d_t14 = d_t13.rename(columns={'index': 'Nom_du_produit', \"Nom_du_produit\":'Iteration'}) \n",
    "d_t15 = d_t14.head(20)\n",
    "\n",
    "\n",
    "d_t15"
   ]
  },
  {
   "cell_type": "code",
   "execution_count": 80,
   "metadata": {},
   "outputs": [
    {
     "data": {
      "text/plain": [
       "Text(0.5, 1.01, 'Schema 53 - Produit : Top 20')"
      ]
     },
     "execution_count": 80,
     "metadata": {},
     "output_type": "execute_result"
    },
    {
     "data": {
      "image/png": "[encoded data removed]",
      "text/plain": [
       "<Figure size 936x576 with 1 Axes>"
      ]
     },
     "metadata": {},
     "output_type": "display_data"
    }
   ],
   "source": [
    "\n",
    "plt.figure(figsize=(13, 8))\n",
    "sns.set_theme(style=\"whitegrid\")\n",
    "sns.set(font_scale=2)\n",
    "ax = sns.barplot(x=\"Iteration\", y='Nom_du_produit', data=d_t15, orient='h', saturation=0.7)\n",
    "ax.axes.set_title(\"Schema 53 - Produit : Top 20\", fontsize=20, y=1.01)"
   ]
  },
  {
   "cell_type": "markdown",
   "metadata": {},
   "source": [
    "# 14 ----- Code"
   ]
  },
  {
   "cell_type": "code",
   "execution_count": 81,
   "metadata": {
    "scrolled": true
   },
   "outputs": [
    {
     "name": "stdout",
     "output_type": "stream",
     "text": [
      "//////////////////////\n",
      "Cellules pleines :  Nom_du_produit 0 %\n",
      "//////////////////////\n"
     ]
    },
    {
     "data": {
      "image/png": "[encoded data removed]",
      "text/plain": [
       "<Figure size 432x432 with 1 Axes>"
      ]
     },
     "metadata": {},
     "output_type": "display_data"
    }
   ],
   "source": []
  },
  {
   "cell_type": "code",
   "execution_count": 83,
   "metadata": {},
   "outputs": [
    {
     "data": {
      "text/html": [
       "<div>\n",
       "<style scoped>\n",
       "    .dataframe tbody tr th:only-of-type {\n",
       "        vertical-align: middle;\n",
       "    }\n",
       "\n",
       "    .dataframe tbody tr th {\n",
       "        vertical-align: top;\n",
       "    }\n",
       "\n",
       "    .dataframe thead th {\n",
       "        text-align: right;\n",
       "    }\n",
       "</style>\n",
       "<table border=\"1\" class=\"dataframe\">\n",
       "  <thead>\n",
       "    <tr style=\"text-align: right;\">\n",
       "      <th></th>\n",
       "      <th>Code</th>\n",
       "      <th>Nom_du_produit</th>\n",
       "      <th>Marque</th>\n",
       "      <th>Categories</th>\n",
       "      <th>Calorie_Kcal</th>\n",
       "      <th>Energie_J</th>\n",
       "      <th>Graisses</th>\n",
       "      <th>Graisses_saturés</th>\n",
       "      <th>Glucides</th>\n",
       "      <th>Sucres</th>\n",
       "      <th>Proteines</th>\n",
       "      <th>Sel</th>\n",
       "      <th>Sodium</th>\n",
       "      <th>Score</th>\n",
       "      <th>Fibres</th>\n",
       "    </tr>\n",
       "  </thead>\n",
       "  <tbody>\n",
       "    <tr>\n",
       "      <th>21</th>\n",
       "      <td>0000000001281</td>\n",
       "      <td>Tarte noix de coco</td>\n",
       "      <td>Crous Resto',Crous</td>\n",
       "      <td>Pies,Sweet pies,Coconut pies</td>\n",
       "      <td>381</td>\n",
       "      <td>1594</td>\n",
       "      <td>22</td>\n",
       "      <td>15.5</td>\n",
       "      <td>27.3</td>\n",
       "      <td>21.9</td>\n",
       "      <td>4.6</td>\n",
       "      <td>0.1</td>\n",
       "      <td>0.04</td>\n",
       "      <td>14</td>\n",
       "      <td>4.4</td>\n",
       "    </tr>\n",
       "    <tr>\n",
       "      <th>31</th>\n",
       "      <td>0000000001885</td>\n",
       "      <td>Compote de poire</td>\n",
       "      <td>Crous</td>\n",
       "      <td>Plant-based foods and beverages,Plant-based fo...</td>\n",
       "      <td>157</td>\n",
       "      <td>657</td>\n",
       "      <td>0</td>\n",
       "      <td>0</td>\n",
       "      <td>36</td>\n",
       "      <td>27</td>\n",
       "      <td>0.6</td>\n",
       "      <td>0</td>\n",
       "      <td>0</td>\n",
       "      <td>-2</td>\n",
       "      <td>3.6</td>\n",
       "    </tr>\n",
       "    <tr>\n",
       "      <th>66</th>\n",
       "      <td>0000000005470</td>\n",
       "      <td>BAguette bressan</td>\n",
       "      <td>Crousresto'</td>\n",
       "      <td>Plant-based foods and beverages,Plant-based fo...</td>\n",
       "      <td>160</td>\n",
       "      <td>669</td>\n",
       "      <td>2.2</td>\n",
       "      <td>0.5</td>\n",
       "      <td>25.2</td>\n",
       "      <td>0.6</td>\n",
       "      <td>9.5</td>\n",
       "      <td>0.358</td>\n",
       "      <td>0.1432</td>\n",
       "      <td>-4</td>\n",
       "      <td>1.6</td>\n",
       "    </tr>\n",
       "    <tr>\n",
       "      <th>384</th>\n",
       "      <td>0000005016</td>\n",
       "      <td>Pesto à La Roquette Bio Kazidomi</td>\n",
       "      <td>Kazidomi</td>\n",
       "      <td>Groceries,Sauces,Pestos</td>\n",
       "      <td>561</td>\n",
       "      <td>2318</td>\n",
       "      <td>53.2</td>\n",
       "      <td>9.6</td>\n",
       "      <td>11.7</td>\n",
       "      <td>0.5</td>\n",
       "      <td>8.2</td>\n",
       "      <td>2.7</td>\n",
       "      <td>1.08</td>\n",
       "      <td>23</td>\n",
       "      <td>1.3</td>\n",
       "    </tr>\n",
       "    <tr>\n",
       "      <th>385</th>\n",
       "      <td>0000005018</td>\n",
       "      <td>Crème d'Artichaut Bio Kazidomi</td>\n",
       "      <td>Kazidomi</td>\n",
       "      <td>Spreads,Salted spreads,Artichoke spreads</td>\n",
       "      <td>268</td>\n",
       "      <td>1104</td>\n",
       "      <td>27.4</td>\n",
       "      <td>3.9</td>\n",
       "      <td>1.8</td>\n",
       "      <td>0</td>\n",
       "      <td>1.9</td>\n",
       "      <td>2.7</td>\n",
       "      <td>1.08</td>\n",
       "      <td>11</td>\n",
       "      <td>3.5</td>\n",
       "    </tr>\n",
       "    <tr>\n",
       "      <th>...</th>\n",
       "      <td>...</td>\n",
       "      <td>...</td>\n",
       "      <td>...</td>\n",
       "      <td>...</td>\n",
       "      <td>...</td>\n",
       "      <td>...</td>\n",
       "      <td>...</td>\n",
       "      <td>...</td>\n",
       "      <td>...</td>\n",
       "      <td>...</td>\n",
       "      <td>...</td>\n",
       "      <td>...</td>\n",
       "      <td>...</td>\n",
       "      <td>...</td>\n",
       "      <td>...</td>\n",
       "    </tr>\n",
       "    <tr>\n",
       "      <th>1555145</th>\n",
       "      <td>990530101017343401</td>\n",
       "      <td>Barre bio</td>\n",
       "      <td>Good Gout</td>\n",
       "      <td>Plant-based foods and beverages,Plant-based fo...</td>\n",
       "      <td>509</td>\n",
       "      <td>2130</td>\n",
       "      <td>32.1</td>\n",
       "      <td>2.8</td>\n",
       "      <td>37.8</td>\n",
       "      <td>29.2</td>\n",
       "      <td>14</td>\n",
       "      <td>0.1</td>\n",
       "      <td>0.04</td>\n",
       "      <td>9</td>\n",
       "      <td>6.4</td>\n",
       "    </tr>\n",
       "    <tr>\n",
       "      <th>1555172</th>\n",
       "      <td>990530101029435828</td>\n",
       "      <td>Bio cookies</td>\n",
       "      <td>Griesson</td>\n",
       "      <td>Snacks,Sweet snacks,Biscuits and cakes,Biscuit...</td>\n",
       "      <td>477</td>\n",
       "      <td>1996</td>\n",
       "      <td>20</td>\n",
       "      <td>8.4</td>\n",
       "      <td>66</td>\n",
       "      <td>33</td>\n",
       "      <td>6.6</td>\n",
       "      <td>0.6</td>\n",
       "      <td>0.24</td>\n",
       "      <td>19</td>\n",
       "      <td>3.3</td>\n",
       "    </tr>\n",
       "    <tr>\n",
       "      <th>1555265</th>\n",
       "      <td>9938809161503</td>\n",
       "      <td>Jus de fruit Innocent pomme ,peche et poire</td>\n",
       "      <td>Innocent</td>\n",
       "      <td>fr:jus-de-pomme-poire</td>\n",
       "      <td>45</td>\n",
       "      <td>188</td>\n",
       "      <td>0.1</td>\n",
       "      <td>0.1</td>\n",
       "      <td>9.9</td>\n",
       "      <td>9.3</td>\n",
       "      <td>0.4</td>\n",
       "      <td>0.01</td>\n",
       "      <td>0.004</td>\n",
       "      <td>1</td>\n",
       "      <td>1.2</td>\n",
       "    </tr>\n",
       "    <tr>\n",
       "      <th>1555307</th>\n",
       "      <td>9950014911001</td>\n",
       "      <td>Oignons jaunes 40/60</td>\n",
       "      <td>Ferme De L'artois</td>\n",
       "      <td>Plant-based foods and beverages,Plant-based fo...</td>\n",
       "      <td>0</td>\n",
       "      <td>0</td>\n",
       "      <td>5</td>\n",
       "      <td>5</td>\n",
       "      <td>2</td>\n",
       "      <td>0.5</td>\n",
       "      <td>32</td>\n",
       "      <td>0.2</td>\n",
       "      <td>0.08</td>\n",
       "      <td>-11</td>\n",
       "      <td>25</td>\n",
       "    </tr>\n",
       "    <tr>\n",
       "      <th>Total</th>\n",
       "      <td>0</td>\n",
       "      <td>0.0346904</td>\n",
       "      <td>0.302957</td>\n",
       "      <td>0.421298</td>\n",
       "      <td>0.2428</td>\n",
       "      <td>0.168235</td>\n",
       "      <td>0.174449</td>\n",
       "      <td>0.173235</td>\n",
       "      <td>0.174946</td>\n",
       "      <td>0.17268</td>\n",
       "      <td>0.17054</td>\n",
       "      <td>0.194266</td>\n",
       "      <td>0.194268</td>\n",
       "      <td>0.537193</td>\n",
       "      <td>0.741382</td>\n",
       "    </tr>\n",
       "  </tbody>\n",
       "</table>\n",
       "<p>74054 rows × 15 columns</p>\n",
       "</div>"
      ],
      "text/plain": [
       "                       Code                               Nom_du_produit  \\\n",
       "21            0000000001281                           Tarte noix de coco   \n",
       "31            0000000001885                             Compote de poire   \n",
       "66            0000000005470                             BAguette bressan   \n",
       "384              0000005016             Pesto à La Roquette Bio Kazidomi   \n",
       "385              0000005018               Crème d'Artichaut Bio Kazidomi   \n",
       "...                     ...                                          ...   \n",
       "1555145  990530101017343401                                    Barre bio   \n",
       "1555172  990530101029435828                                  Bio cookies   \n",
       "1555265       9938809161503  Jus de fruit Innocent pomme ,peche et poire   \n",
       "1555307       9950014911001                         Oignons jaunes 40/60   \n",
       "Total                     0                                    0.0346904   \n",
       "\n",
       "                     Marque  \\\n",
       "21       Crous Resto',Crous   \n",
       "31                    Crous   \n",
       "66              Crousresto'   \n",
       "384                Kazidomi   \n",
       "385                Kazidomi   \n",
       "...                     ...   \n",
       "1555145           Good Gout   \n",
       "1555172            Griesson   \n",
       "1555265            Innocent   \n",
       "1555307   Ferme De L'artois   \n",
       "Total              0.302957   \n",
       "\n",
       "                                                Categories Calorie_Kcal  \\\n",
       "21                            Pies,Sweet pies,Coconut pies          381   \n",
       "31       Plant-based foods and beverages,Plant-based fo...          157   \n",
       "66       Plant-based foods and beverages,Plant-based fo...          160   \n",
       "384                                Groceries,Sauces,Pestos          561   \n",
       "385               Spreads,Salted spreads,Artichoke spreads          268   \n",
       "...                                                    ...          ...   \n",
       "1555145  Plant-based foods and beverages,Plant-based fo...          509   \n",
       "1555172  Snacks,Sweet snacks,Biscuits and cakes,Biscuit...          477   \n",
       "1555265                              fr:jus-de-pomme-poire           45   \n",
       "1555307  Plant-based foods and beverages,Plant-based fo...            0   \n",
       "Total                                             0.421298       0.2428   \n",
       "\n",
       "        Energie_J  Graisses Graisses_saturés  Glucides   Sucres Proteines  \\\n",
       "21           1594        22             15.5      27.3     21.9       4.6   \n",
       "31            657         0                0        36       27       0.6   \n",
       "66            669       2.2              0.5      25.2      0.6       9.5   \n",
       "384          2318      53.2              9.6      11.7      0.5       8.2   \n",
       "385          1104      27.4              3.9       1.8        0       1.9   \n",
       "...           ...       ...              ...       ...      ...       ...   \n",
       "1555145      2130      32.1              2.8      37.8     29.2        14   \n",
       "1555172      1996        20              8.4        66       33       6.6   \n",
       "1555265       188       0.1              0.1       9.9      9.3       0.4   \n",
       "1555307         0         5                5         2      0.5        32   \n",
       "Total    0.168235  0.174449         0.173235  0.174946  0.17268   0.17054   \n",
       "\n",
       "              Sel    Sodium     Score    Fibres  \n",
       "21            0.1      0.04        14       4.4  \n",
       "31              0         0        -2       3.6  \n",
       "66          0.358    0.1432        -4       1.6  \n",
       "384           2.7      1.08        23       1.3  \n",
       "385           2.7      1.08        11       3.5  \n",
       "...           ...       ...       ...       ...  \n",
       "1555145       0.1      0.04         9       6.4  \n",
       "1555172       0.6      0.24        19       3.3  \n",
       "1555265      0.01     0.004         1       1.2  \n",
       "1555307       0.2      0.08       -11        25  \n",
       "Total    0.194266  0.194268  0.537193  0.741382  \n",
       "\n",
       "[74054 rows x 15 columns]"
      ]
     },
     "execution_count": 83,
     "metadata": {},
     "output_type": "execute_result"
    }
   ],
   "source": [
    "d_04"
   ]
  },
  {
   "cell_type": "code",
   "execution_count": 90,
   "metadata": {},
   "outputs": [
    {
     "name": "stdout",
     "output_type": "stream",
     "text": [
      "//////////////////////\n",
      "Cellules pleines :  Code 0 %\n",
      "//////////////////////\n"
     ]
    },
    {
     "data": {
      "image/png": "[encoded data removed]",
      "text/plain": [
       "<Figure size 432x432 with 1 Axes>"
      ]
     },
     "metadata": {},
     "output_type": "display_data"
    }
   ],
   "source": [
    "d_04_code = d_04[\"Code\"]\n",
    "\n",
    "d_04_code_1 = pd.DataFrame(data=d_04_code)\n",
    "\n",
    "d_04_code_1\n",
    "\n",
    "mEmptyCell_data = mEmptyCell(d_04_code_1)\n",
    "print(\"//////////////////////\")\n",
    "print('Cellules pleines :  Code', mEmptyCell_data ,\"%\")\n",
    "print(\"//////////////////////\")\n",
    "str = 'Schema 54.1 - Cellules pleines :  Code'\n",
    "a = mEmptyGraph(mEmptyCell_data,str)"
   ]
  },
  {
   "cell_type": "code",
   "execution_count": 111,
   "metadata": {},
   "outputs": [
    {
     "name": "stdout",
     "output_type": "stream",
     "text": [
      "(74054, 15)\n"
     ]
    },
    {
     "data": {
      "text/html": [
       "<div>\n",
       "<style scoped>\n",
       "    .dataframe tbody tr th:only-of-type {\n",
       "        vertical-align: middle;\n",
       "    }\n",
       "\n",
       "    .dataframe tbody tr th {\n",
       "        vertical-align: top;\n",
       "    }\n",
       "\n",
       "    .dataframe thead th {\n",
       "        text-align: right;\n",
       "    }\n",
       "</style>\n",
       "<table border=\"1\" class=\"dataframe\">\n",
       "  <thead>\n",
       "    <tr style=\"text-align: right;\">\n",
       "      <th></th>\n",
       "      <th>Code</th>\n",
       "      <th>Nom_du_produit</th>\n",
       "      <th>Marque</th>\n",
       "      <th>Categories</th>\n",
       "      <th>Calorie_Kcal</th>\n",
       "      <th>Energie_J</th>\n",
       "      <th>Graisses</th>\n",
       "      <th>Graisses_saturés</th>\n",
       "      <th>Glucides</th>\n",
       "      <th>Sucres</th>\n",
       "      <th>Proteines</th>\n",
       "      <th>Sel</th>\n",
       "      <th>Sodium</th>\n",
       "      <th>Score</th>\n",
       "      <th>Fibres</th>\n",
       "    </tr>\n",
       "  </thead>\n",
       "  <tbody>\n",
       "    <tr>\n",
       "      <th>21</th>\n",
       "      <td>0000000001281</td>\n",
       "      <td>Tarte noix de coco</td>\n",
       "      <td>Crous Resto',Crous</td>\n",
       "      <td>Pies,Sweet pies,Coconut pies</td>\n",
       "      <td>381</td>\n",
       "      <td>1594</td>\n",
       "      <td>22</td>\n",
       "      <td>15.5</td>\n",
       "      <td>27.3</td>\n",
       "      <td>21.9</td>\n",
       "      <td>4.6</td>\n",
       "      <td>0.1</td>\n",
       "      <td>0.04</td>\n",
       "      <td>14</td>\n",
       "      <td>4.4</td>\n",
       "    </tr>\n",
       "    <tr>\n",
       "      <th>31</th>\n",
       "      <td>0000000001885</td>\n",
       "      <td>Compote de poire</td>\n",
       "      <td>Crous</td>\n",
       "      <td>Plant-based foods and beverages,Plant-based fo...</td>\n",
       "      <td>157</td>\n",
       "      <td>657</td>\n",
       "      <td>0</td>\n",
       "      <td>0</td>\n",
       "      <td>36</td>\n",
       "      <td>27</td>\n",
       "      <td>0.6</td>\n",
       "      <td>0</td>\n",
       "      <td>0</td>\n",
       "      <td>-2</td>\n",
       "      <td>3.6</td>\n",
       "    </tr>\n",
       "    <tr>\n",
       "      <th>66</th>\n",
       "      <td>0000000005470</td>\n",
       "      <td>BAguette bressan</td>\n",
       "      <td>Crousresto'</td>\n",
       "      <td>Plant-based foods and beverages,Plant-based fo...</td>\n",
       "      <td>160</td>\n",
       "      <td>669</td>\n",
       "      <td>2.2</td>\n",
       "      <td>0.5</td>\n",
       "      <td>25.2</td>\n",
       "      <td>0.6</td>\n",
       "      <td>9.5</td>\n",
       "      <td>0.358</td>\n",
       "      <td>0.1432</td>\n",
       "      <td>-4</td>\n",
       "      <td>1.6</td>\n",
       "    </tr>\n",
       "    <tr>\n",
       "      <th>384</th>\n",
       "      <td>0000005016</td>\n",
       "      <td>Pesto à La Roquette Bio Kazidomi</td>\n",
       "      <td>Kazidomi</td>\n",
       "      <td>Groceries,Sauces,Pestos</td>\n",
       "      <td>561</td>\n",
       "      <td>2318</td>\n",
       "      <td>53.2</td>\n",
       "      <td>9.6</td>\n",
       "      <td>11.7</td>\n",
       "      <td>0.5</td>\n",
       "      <td>8.2</td>\n",
       "      <td>2.7</td>\n",
       "      <td>1.08</td>\n",
       "      <td>23</td>\n",
       "      <td>1.3</td>\n",
       "    </tr>\n",
       "    <tr>\n",
       "      <th>385</th>\n",
       "      <td>0000005018</td>\n",
       "      <td>Crème d'Artichaut Bio Kazidomi</td>\n",
       "      <td>Kazidomi</td>\n",
       "      <td>Spreads,Salted spreads,Artichoke spreads</td>\n",
       "      <td>268</td>\n",
       "      <td>1104</td>\n",
       "      <td>27.4</td>\n",
       "      <td>3.9</td>\n",
       "      <td>1.8</td>\n",
       "      <td>0</td>\n",
       "      <td>1.9</td>\n",
       "      <td>2.7</td>\n",
       "      <td>1.08</td>\n",
       "      <td>11</td>\n",
       "      <td>3.5</td>\n",
       "    </tr>\n",
       "    <tr>\n",
       "      <th>...</th>\n",
       "      <td>...</td>\n",
       "      <td>...</td>\n",
       "      <td>...</td>\n",
       "      <td>...</td>\n",
       "      <td>...</td>\n",
       "      <td>...</td>\n",
       "      <td>...</td>\n",
       "      <td>...</td>\n",
       "      <td>...</td>\n",
       "      <td>...</td>\n",
       "      <td>...</td>\n",
       "      <td>...</td>\n",
       "      <td>...</td>\n",
       "      <td>...</td>\n",
       "      <td>...</td>\n",
       "    </tr>\n",
       "    <tr>\n",
       "      <th>1555097</th>\n",
       "      <td>990530101006696528</td>\n",
       "      <td>Deli'light fromage blanc saveur vanille 0%</td>\n",
       "      <td>Délisse</td>\n",
       "      <td>Dairies,Desserts,Fermented foods,Fermented mil...</td>\n",
       "      <td>76</td>\n",
       "      <td>318</td>\n",
       "      <td>0</td>\n",
       "      <td>0</td>\n",
       "      <td>12</td>\n",
       "      <td>11.7</td>\n",
       "      <td>7.1</td>\n",
       "      <td>0.1</td>\n",
       "      <td>0.04</td>\n",
       "      <td>-2</td>\n",
       "      <td>0</td>\n",
       "    </tr>\n",
       "    <tr>\n",
       "      <th>1555145</th>\n",
       "      <td>990530101017343401</td>\n",
       "      <td>Barre bio</td>\n",
       "      <td>Good Gout</td>\n",
       "      <td>Plant-based foods and beverages,Plant-based fo...</td>\n",
       "      <td>509</td>\n",
       "      <td>2130</td>\n",
       "      <td>32.1</td>\n",
       "      <td>2.8</td>\n",
       "      <td>37.8</td>\n",
       "      <td>29.2</td>\n",
       "      <td>14</td>\n",
       "      <td>0.1</td>\n",
       "      <td>0.04</td>\n",
       "      <td>9</td>\n",
       "      <td>6.4</td>\n",
       "    </tr>\n",
       "    <tr>\n",
       "      <th>1555172</th>\n",
       "      <td>990530101029435828</td>\n",
       "      <td>Bio cookies</td>\n",
       "      <td>Griesson</td>\n",
       "      <td>Snacks,Sweet snacks,Biscuits and cakes,Biscuit...</td>\n",
       "      <td>477</td>\n",
       "      <td>1996</td>\n",
       "      <td>20</td>\n",
       "      <td>8.4</td>\n",
       "      <td>66</td>\n",
       "      <td>33</td>\n",
       "      <td>6.6</td>\n",
       "      <td>0.6</td>\n",
       "      <td>0.24</td>\n",
       "      <td>19</td>\n",
       "      <td>3.3</td>\n",
       "    </tr>\n",
       "    <tr>\n",
       "      <th>1555265</th>\n",
       "      <td>9938809161503</td>\n",
       "      <td>Jus de fruit Innocent pomme ,peche et poire</td>\n",
       "      <td>Innocent</td>\n",
       "      <td>fr:jus-de-pomme-poire</td>\n",
       "      <td>45</td>\n",
       "      <td>188</td>\n",
       "      <td>0.1</td>\n",
       "      <td>0.1</td>\n",
       "      <td>9.9</td>\n",
       "      <td>9.3</td>\n",
       "      <td>0.4</td>\n",
       "      <td>0.01</td>\n",
       "      <td>0.004</td>\n",
       "      <td>1</td>\n",
       "      <td>1.2</td>\n",
       "    </tr>\n",
       "    <tr>\n",
       "      <th>1555307</th>\n",
       "      <td>9950014911001</td>\n",
       "      <td>Oignons jaunes 40/60</td>\n",
       "      <td>Ferme De L'artois</td>\n",
       "      <td>Plant-based foods and beverages,Plant-based fo...</td>\n",
       "      <td>0</td>\n",
       "      <td>0</td>\n",
       "      <td>5</td>\n",
       "      <td>5</td>\n",
       "      <td>2</td>\n",
       "      <td>0.5</td>\n",
       "      <td>32</td>\n",
       "      <td>0.2</td>\n",
       "      <td>0.08</td>\n",
       "      <td>-11</td>\n",
       "      <td>25</td>\n",
       "    </tr>\n",
       "  </tbody>\n",
       "</table>\n",
       "<p>74053 rows × 15 columns</p>\n",
       "</div>"
      ],
      "text/plain": [
       "                       Code                               Nom_du_produit  \\\n",
       "21            0000000001281                           Tarte noix de coco   \n",
       "31            0000000001885                             Compote de poire   \n",
       "66            0000000005470                             BAguette bressan   \n",
       "384              0000005016             Pesto à La Roquette Bio Kazidomi   \n",
       "385              0000005018               Crème d'Artichaut Bio Kazidomi   \n",
       "...                     ...                                          ...   \n",
       "1555097  990530101006696528   Deli'light fromage blanc saveur vanille 0%   \n",
       "1555145  990530101017343401                                    Barre bio   \n",
       "1555172  990530101029435828                                  Bio cookies   \n",
       "1555265       9938809161503  Jus de fruit Innocent pomme ,peche et poire   \n",
       "1555307       9950014911001                         Oignons jaunes 40/60   \n",
       "\n",
       "                     Marque  \\\n",
       "21       Crous Resto',Crous   \n",
       "31                    Crous   \n",
       "66              Crousresto'   \n",
       "384                Kazidomi   \n",
       "385                Kazidomi   \n",
       "...                     ...   \n",
       "1555097             Délisse   \n",
       "1555145           Good Gout   \n",
       "1555172            Griesson   \n",
       "1555265            Innocent   \n",
       "1555307   Ferme De L'artois   \n",
       "\n",
       "                                                Categories Calorie_Kcal  \\\n",
       "21                            Pies,Sweet pies,Coconut pies          381   \n",
       "31       Plant-based foods and beverages,Plant-based fo...          157   \n",
       "66       Plant-based foods and beverages,Plant-based fo...          160   \n",
       "384                                Groceries,Sauces,Pestos          561   \n",
       "385               Spreads,Salted spreads,Artichoke spreads          268   \n",
       "...                                                    ...          ...   \n",
       "1555097  Dairies,Desserts,Fermented foods,Fermented mil...           76   \n",
       "1555145  Plant-based foods and beverages,Plant-based fo...          509   \n",
       "1555172  Snacks,Sweet snacks,Biscuits and cakes,Biscuit...          477   \n",
       "1555265                              fr:jus-de-pomme-poire           45   \n",
       "1555307  Plant-based foods and beverages,Plant-based fo...            0   \n",
       "\n",
       "        Energie_J Graisses Graisses_saturés Glucides Sucres Proteines    Sel  \\\n",
       "21           1594       22             15.5     27.3   21.9       4.6    0.1   \n",
       "31            657        0                0       36     27       0.6      0   \n",
       "66            669      2.2              0.5     25.2    0.6       9.5  0.358   \n",
       "384          2318     53.2              9.6     11.7    0.5       8.2    2.7   \n",
       "385          1104     27.4              3.9      1.8      0       1.9    2.7   \n",
       "...           ...      ...              ...      ...    ...       ...    ...   \n",
       "1555097       318        0                0       12   11.7       7.1    0.1   \n",
       "1555145      2130     32.1              2.8     37.8   29.2        14    0.1   \n",
       "1555172      1996       20              8.4       66     33       6.6    0.6   \n",
       "1555265       188      0.1              0.1      9.9    9.3       0.4   0.01   \n",
       "1555307         0        5                5        2    0.5        32    0.2   \n",
       "\n",
       "         Sodium Score Fibres  \n",
       "21         0.04    14    4.4  \n",
       "31            0    -2    3.6  \n",
       "66       0.1432    -4    1.6  \n",
       "384        1.08    23    1.3  \n",
       "385        1.08    11    3.5  \n",
       "...         ...   ...    ...  \n",
       "1555097    0.04    -2      0  \n",
       "1555145    0.04     9    6.4  \n",
       "1555172    0.24    19    3.3  \n",
       "1555265   0.004     1    1.2  \n",
       "1555307    0.08   -11     25  \n",
       "\n",
       "[74053 rows x 15 columns]"
      ]
     },
     "execution_count": 111,
     "metadata": {},
     "output_type": "execute_result"
    }
   ],
   "source": [
    "print(d_04.shape)\n",
    "\n",
    "d_05 = d_04[:-1] #drop bottom 3 \n",
    "d_05"
   ]
  },
  {
   "cell_type": "code",
   "execution_count": 114,
   "metadata": {},
   "outputs": [
    {
     "name": "stdout",
     "output_type": "stream",
     "text": [
      "<class 'pandas.core.frame.DataFrame'>\n",
      "Index: 74054 entries, 21 to Total\n",
      "Data columns (total 15 columns):\n",
      " #   Column            Non-Null Count  Dtype \n",
      "---  ------            --------------  ----- \n",
      " 0   Code              74054 non-null  object\n",
      " 1   Nom_du_produit    74054 non-null  object\n",
      " 2   Marque            74054 non-null  object\n",
      " 3   Categories        74054 non-null  object\n",
      " 4   Calorie_Kcal      74054 non-null  object\n",
      " 5   Energie_J         74054 non-null  object\n",
      " 6   Graisses          74054 non-null  object\n",
      " 7   Graisses_saturés  74054 non-null  object\n",
      " 8   Glucides          74054 non-null  object\n",
      " 9   Sucres            74054 non-null  object\n",
      " 10  Proteines         74054 non-null  object\n",
      " 11  Sel               74054 non-null  object\n",
      " 12  Sodium            74054 non-null  object\n",
      " 13  Score             74054 non-null  object\n",
      " 14  Fibres            74054 non-null  object\n",
      "dtypes: object(15)\n",
      "memory usage: 11.5+ MB\n"
     ]
    }
   ],
   "source": [
    "d_04.info()"
   ]
  },
  {
   "cell_type": "markdown",
   "metadata": {},
   "source": [
    "# SAVE DATA ===================="
   ]
  },
  {
   "cell_type": "code",
   "execution_count": null,
   "metadata": {},
   "outputs": [],
   "source": [
    "%store d_04"
   ]
  },
  {
   "cell_type": "code",
   "execution_count": null,
   "metadata": {},
   "outputs": [],
   "source": [
    "d_04.head(3)"
   ]
  },
  {
   "cell_type": "code",
   "execution_count": null,
   "metadata": {},
   "outputs": [],
   "source": [
    "d_04"
   ]
  },
  {
   "cell_type": "code",
   "execution_count": null,
   "metadata": {},
   "outputs": [],
   "source": []
  }
 ],
 "metadata": {
  "kernelspec": {
   "display_name": "Python 3",
   "language": "python",
   "name": "python3"
  },
  "language_info": {
   "codemirror_mode": {
    "name": "ipython",
    "version": 3
   },
   "file_extension": ".py",
   "mimetype": "text/x-python",
   "name": "python",
   "nbconvert_exporter": "python",
   "pygments_lexer": "ipython3",
   "version": "3.8.5"
  }
 },
 "nbformat": 4,
 "nbformat_minor": 4
}
