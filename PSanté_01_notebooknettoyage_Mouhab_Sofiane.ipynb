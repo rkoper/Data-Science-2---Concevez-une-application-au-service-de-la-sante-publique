{
 "cells": [
  {
   "cell_type": "code",
   "execution_count": 1,
   "metadata": {},
   "outputs": [],
   "source": [
    "import pandas as pd\n",
    "import matplotlib.pyplot as plt\n",
    "import numpy as npy\n",
    "import seaborn as sns\n",
    "import missingno as msno\n",
    "from quilt.data.ResidentMario import missingno_data\n",
    "from difflib import SequenceMatcher\n",
    "from sklearn.cluster import KMeans"
   ]
  },
  {
   "cell_type": "markdown",
   "metadata": {},
   "source": [
    "# 1 - Create fonction"
   ]
  },
  {
   "cell_type": "code",
   "execution_count": 2,
   "metadata": {},
   "outputs": [],
   "source": [
    "#Fonction Utile #1\n",
    "def mEmptyCell(data):\n",
    "    all_empty_cell = round((sum(data.isnull().sum()))*100/(len(data)*len(data.columns)))\n",
    "    return all_empty_cell "
   ]
  },
  {
   "cell_type": "code",
   "execution_count": 3,
   "metadata": {},
   "outputs": [],
   "source": [
    "#Fonction Utile #2\n",
    "def mEmptyMatrix(d):\n",
    "    %matplotlib inline\n",
    "    a = msno.bar(d.sample(0))\n",
    "    return a \n",
    "\n",
    "#Fonction Utile #3\n",
    "def mEmptyGraph(d,str):\n",
    "    d_1 = {'': [d, 100-d]}\n",
    "    d_2 = pd.DataFrame(data=d_1)\n",
    "    d_2.index = ['Cellules Vides', ' Cellules Pleines'] \n",
    "    plot = d_2.plot.pie(subplots=True, figsize=(10,10), fontsize=15)\n",
    "    plt.title(str, fontsize=15)\n",
    "    return plot\n",
    "\n",
    "#Fonction Utile #4\n",
    "def mDuplicateGraph(d):\n",
    "    d_1 = {'': [ 100-d, d]}\n",
    "    d_2 = pd.DataFrame(data=d_1)\n",
    "    d_2.index = ['Duplicate Cell', 'Unique Cell'] \n",
    "    plot = d_2.plot.pie(subplots=True, figsize=(10,10), fontsize=15)\n",
    "    return plot"
   ]
  },
  {
   "cell_type": "markdown",
   "metadata": {},
   "source": [
    "# 2 - Call CSV"
   ]
  },
  {
   "cell_type": "code",
   "execution_count": 4,
   "metadata": {},
   "outputs": [],
   "source": [
    "#Call CSV\n",
    "data=pd.read_csv('off_data.csv', sep='\\t',encoding = 'UTF-8',low_memory = False)"
   ]
  },
  {
   "cell_type": "markdown",
   "metadata": {},
   "source": [
    "# 3.Check Données"
   ]
  },
  {
   "cell_type": "code",
   "execution_count": 5,
   "metadata": {},
   "outputs": [
    {
     "data": {
      "text/html": [
       "<div>\n",
       "<style scoped>\n",
       "    .dataframe tbody tr th:only-of-type {\n",
       "        vertical-align: middle;\n",
       "    }\n",
       "\n",
       "    .dataframe tbody tr th {\n",
       "        vertical-align: top;\n",
       "    }\n",
       "\n",
       "    .dataframe thead th {\n",
       "        text-align: right;\n",
       "    }\n",
       "</style>\n",
       "<table border=\"1\" class=\"dataframe\">\n",
       "  <thead>\n",
       "    <tr style=\"text-align: right;\">\n",
       "      <th></th>\n",
       "      <th>code</th>\n",
       "      <th>url</th>\n",
       "      <th>creator</th>\n",
       "      <th>created_t</th>\n",
       "      <th>created_datetime</th>\n",
       "      <th>last_modified_t</th>\n",
       "      <th>last_modified_datetime</th>\n",
       "      <th>product_name</th>\n",
       "      <th>generic_name</th>\n",
       "      <th>quantity</th>\n",
       "      <th>...</th>\n",
       "      <th>carbon-footprint-from-meat-or-fish_100g</th>\n",
       "      <th>nutrition-score-fr_100g</th>\n",
       "      <th>nutrition-score-uk_100g</th>\n",
       "      <th>glycemic-index_100g</th>\n",
       "      <th>water-hardness_100g</th>\n",
       "      <th>choline_100g</th>\n",
       "      <th>phylloquinone_100g</th>\n",
       "      <th>beta-glucan_100g</th>\n",
       "      <th>inositol_100g</th>\n",
       "      <th>carnitine_100g</th>\n",
       "    </tr>\n",
       "  </thead>\n",
       "  <tbody>\n",
       "    <tr>\n",
       "      <th>0</th>\n",
       "      <td>0000000000017</td>\n",
       "      <td>http://world-en.openfoodfacts.org/product/0000...</td>\n",
       "      <td>kiliweb</td>\n",
       "      <td>1529059080</td>\n",
       "      <td>2018-06-15T10:38:00Z</td>\n",
       "      <td>1561463718</td>\n",
       "      <td>2019-06-25T11:55:18Z</td>\n",
       "      <td>Vitória crackers</td>\n",
       "      <td>NaN</td>\n",
       "      <td>NaN</td>\n",
       "      <td>...</td>\n",
       "      <td>NaN</td>\n",
       "      <td>NaN</td>\n",
       "      <td>NaN</td>\n",
       "      <td>NaN</td>\n",
       "      <td>NaN</td>\n",
       "      <td>NaN</td>\n",
       "      <td>NaN</td>\n",
       "      <td>NaN</td>\n",
       "      <td>NaN</td>\n",
       "      <td>NaN</td>\n",
       "    </tr>\n",
       "    <tr>\n",
       "      <th>1</th>\n",
       "      <td>0000000000031</td>\n",
       "      <td>http://world-en.openfoodfacts.org/product/0000...</td>\n",
       "      <td>isagoofy</td>\n",
       "      <td>1539464774</td>\n",
       "      <td>2018-10-13T21:06:14Z</td>\n",
       "      <td>1539464817</td>\n",
       "      <td>2018-10-13T21:06:57Z</td>\n",
       "      <td>Cacao</td>\n",
       "      <td>NaN</td>\n",
       "      <td>130 g</td>\n",
       "      <td>...</td>\n",
       "      <td>NaN</td>\n",
       "      <td>NaN</td>\n",
       "      <td>NaN</td>\n",
       "      <td>NaN</td>\n",
       "      <td>NaN</td>\n",
       "      <td>NaN</td>\n",
       "      <td>NaN</td>\n",
       "      <td>NaN</td>\n",
       "      <td>NaN</td>\n",
       "      <td>NaN</td>\n",
       "    </tr>\n",
       "    <tr>\n",
       "      <th>2</th>\n",
       "      <td>000000000003327986</td>\n",
       "      <td>http://world-en.openfoodfacts.org/product/0000...</td>\n",
       "      <td>kiliweb</td>\n",
       "      <td>1574175736</td>\n",
       "      <td>2019-11-19T15:02:16Z</td>\n",
       "      <td>1574175737</td>\n",
       "      <td>2019-11-19T15:02:17Z</td>\n",
       "      <td>Filetes de pollo empanado</td>\n",
       "      <td>NaN</td>\n",
       "      <td>NaN</td>\n",
       "      <td>...</td>\n",
       "      <td>NaN</td>\n",
       "      <td>NaN</td>\n",
       "      <td>NaN</td>\n",
       "      <td>NaN</td>\n",
       "      <td>NaN</td>\n",
       "      <td>NaN</td>\n",
       "      <td>NaN</td>\n",
       "      <td>NaN</td>\n",
       "      <td>NaN</td>\n",
       "      <td>NaN</td>\n",
       "    </tr>\n",
       "  </tbody>\n",
       "</table>\n",
       "<p>3 rows × 183 columns</p>\n",
       "</div>"
      ],
      "text/plain": [
       "                 code                                                url  \\\n",
       "0       0000000000017  http://world-en.openfoodfacts.org/product/0000...   \n",
       "1       0000000000031  http://world-en.openfoodfacts.org/product/0000...   \n",
       "2  000000000003327986  http://world-en.openfoodfacts.org/product/0000...   \n",
       "\n",
       "    creator   created_t      created_datetime  last_modified_t  \\\n",
       "0   kiliweb  1529059080  2018-06-15T10:38:00Z       1561463718   \n",
       "1  isagoofy  1539464774  2018-10-13T21:06:14Z       1539464817   \n",
       "2   kiliweb  1574175736  2019-11-19T15:02:16Z       1574175737   \n",
       "\n",
       "  last_modified_datetime               product_name generic_name quantity  \\\n",
       "0   2019-06-25T11:55:18Z           Vitória crackers          NaN      NaN   \n",
       "1   2018-10-13T21:06:57Z                      Cacao          NaN    130 g   \n",
       "2   2019-11-19T15:02:17Z  Filetes de pollo empanado          NaN      NaN   \n",
       "\n",
       "   ... carbon-footprint-from-meat-or-fish_100g nutrition-score-fr_100g  \\\n",
       "0  ...                                     NaN                     NaN   \n",
       "1  ...                                     NaN                     NaN   \n",
       "2  ...                                     NaN                     NaN   \n",
       "\n",
       "  nutrition-score-uk_100g glycemic-index_100g water-hardness_100g  \\\n",
       "0                     NaN                 NaN                 NaN   \n",
       "1                     NaN                 NaN                 NaN   \n",
       "2                     NaN                 NaN                 NaN   \n",
       "\n",
       "  choline_100g phylloquinone_100g beta-glucan_100g inositol_100g  \\\n",
       "0          NaN                NaN              NaN           NaN   \n",
       "1          NaN                NaN              NaN           NaN   \n",
       "2          NaN                NaN              NaN           NaN   \n",
       "\n",
       "  carnitine_100g  \n",
       "0            NaN  \n",
       "1            NaN  \n",
       "2            NaN  \n",
       "\n",
       "[3 rows x 183 columns]"
      ]
     },
     "execution_count": 5,
     "metadata": {},
     "output_type": "execute_result"
    }
   ],
   "source": [
    "data.head(3)"
   ]
  },
  {
   "cell_type": "code",
   "execution_count": 6,
   "metadata": {},
   "outputs": [
    {
     "name": "stdout",
     "output_type": "stream",
     "text": [
      "(1555491, 183)\n",
      "//////////////////////\n",
      "Empty Cell 1 :  79 %\n",
      "//////////////////////\n"
     ]
    },
    {
     "data": {
      "image/png": "[encoded data removed]",
      "text/plain": [
       "<Figure size 720x720 with 1 Axes>"
      ]
     },
     "metadata": {},
     "output_type": "display_data"
    }
   ],
   "source": [
    "print(data.shape)\n",
    "mEmptyCell_data = mEmptyCell(data)\n",
    "print(\"//////////////////////\")\n",
    "print(\"Empty Cell 1 : \", mEmptyCell_data ,\"%\")\n",
    "print(\"//////////////////////\")\n",
    "str = 'Schema 1 - TOTAL / Cellules Pleines : 21% / Cellules Vides : 79% '\n",
    "a = mEmptyGraph(mEmptyCell_data, str)"
   ]
  },
  {
   "cell_type": "markdown",
   "metadata": {},
   "source": [
    "# 4. 1er Nettoyage // Empty Col"
   ]
  },
  {
   "cell_type": "code",
   "execution_count": 7,
   "metadata": {
    "scrolled": true
   },
   "outputs": [
    {
     "name": "stdout",
     "output_type": "stream",
     "text": [
      "print all col ---> (1555491, 183)\n",
      "print new col ---> (1555491, 169)\n"
     ]
    },
    {
     "data": {
      "text/plain": [
       "Text(0.5, 1.0, 'Schema 3 - 1er passage : Colonnes Vides / Colonnes avec données  / Colonnes totalement Vides')"
      ]
     },
     "execution_count": 7,
     "metadata": {},
     "output_type": "execute_result"
    },
    {
     "data": {
      "image/png": "[encoded data removed]",
      "text/plain": [
       "<Figure size 720x720 with 1 Axes>"
      ]
     },
     "metadata": {
      "needs_background": "light"
     },
     "output_type": "display_data"
    }
   ],
   "source": [
    "#Colonne entierement vide\n",
    "d_1 = data.dropna(axis=1, how='all')\n",
    "print('print all col --->', data.shape)\n",
    "print('print new col --->', d_1.shape)\n",
    "plt.figure(figsize=(10, 10))\n",
    "sns.set(font_scale=1)\n",
    "d_1_1_1 = {'Col_Detail': [183, 183 - 169]}\n",
    "d_1_1 = pd.DataFrame(data=d_1_1_1)\n",
    "d_1_2 = d_1_1.rename(index={0: 'Non-Empty', 1: 'Empty'})\n",
    "\n",
    "ax = sns.barplot(x=d_1_2.index, y=\"Col_Detail\", data=d_1_2)\n",
    "str = 'Schema 3 - 1er passage : Colonnes Vides / Colonnes avec données  / Colonnes totalement Vides'\n",
    "plt.title(str, fontsize=15)"
   ]
  },
  {
   "cell_type": "code",
   "execution_count": 8,
   "metadata": {},
   "outputs": [
    {
     "name": "stdout",
     "output_type": "stream",
     "text": [
      "(1555491, 183)\n",
      "(183,)\n"
     ]
    },
    {
     "data": {
      "text/plain": [
       "Text(0.5, 1.0, 'Schema 2 - 1er passage  : Colonnes Vides - Barplot')"
      ]
     },
     "execution_count": 8,
     "metadata": {},
     "output_type": "execute_result"
    },
    {
     "data": {
      "image/png": "[encoded data removed]",
      "text/plain": [
       "<Figure size 1080x720 with 1 Axes>"
      ]
     },
     "metadata": {},
     "output_type": "display_data"
    }
   ],
   "source": [
    "print(data.shape)\n",
    "\n",
    "data.loc[\"Total\"] = data.isna().sum()\n",
    "data.loc[\"Total\"] = data.loc[\"Total\"]/1555491\n",
    "data_001 = data.T\n",
    "data_002 = pd.to_numeric(data_001['Total'])\n",
    "print(data_002.shape)\n",
    "#count    169.000000\n",
    "#mean       0.755714\n",
    "#std        0.355087\n",
    "#min        0.000000\n",
    "#25%        0.551574\n",
    "#50%        0.996222\n",
    "#75%        0.999908\n",
    "#max        1.000000\n",
    "data_003 = pd.DataFrame(data=data_002)\n",
    "data_004 = data_003.sort_values(by=['Total'], ascending=False)\n",
    "plt.figure(figsize=(15, 10))\n",
    "sns.set(font_scale=0.5)\n",
    "#sns.set_theme(style=\"whitegrid\")\n",
    "res = sns.barplot(x=data_004.index, y=\"Total\", data=data_004)\n",
    "res.set(xlim=(3),xticks=[],yticks=[])\n",
    "plt.xticks(rotation=90)\n",
    "str = \"Schema 2 - 1er passage  : Colonnes Vides - Barplot\"\n",
    "plt.title(str, fontsize=15)"
   ]
  },
  {
   "cell_type": "code",
   "execution_count": 9,
   "metadata": {},
   "outputs": [
    {
     "name": "stdout",
     "output_type": "stream",
     "text": [
      "//////////////////////\n",
      "Empty Cell 2 :  77 %\n",
      "//////////////////////\n"
     ]
    },
    {
     "data": {
      "image/png": "[encoded data removed]",
      "text/plain": [
       "<Figure size 720x720 with 1 Axes>"
      ]
     },
     "metadata": {},
     "output_type": "display_data"
    }
   ],
   "source": [
    "mEmptyCell_data = mEmptyCell(d_1)\n",
    "print(\"//////////////////////\")\n",
    "print(\"Empty Cell 2 : \", mEmptyCell_data ,\"%\")\n",
    "print(\"//////////////////////\")\n",
    "str = 'Schema 4 - Fin du 1er passage  : Colonnes Vides / Cellules Pleines : 23% / Cellules Vides : 77% '\n",
    "a = mEmptyGraph(mEmptyCell_data,str)"
   ]
  },
  {
   "cell_type": "markdown",
   "metadata": {},
   "source": [
    "# 5. 2eme Nettoyage // Keep Row France"
   ]
  },
  {
   "cell_type": "code",
   "execution_count": 10,
   "metadata": {},
   "outputs": [
    {
     "data": {
      "text/html": [
       "<div>\n",
       "<style scoped>\n",
       "    .dataframe tbody tr th:only-of-type {\n",
       "        vertical-align: middle;\n",
       "    }\n",
       "\n",
       "    .dataframe tbody tr th {\n",
       "        vertical-align: top;\n",
       "    }\n",
       "\n",
       "    .dataframe thead th {\n",
       "        text-align: right;\n",
       "    }\n",
       "</style>\n",
       "<table border=\"1\" class=\"dataframe\">\n",
       "  <thead>\n",
       "    <tr style=\"text-align: right;\">\n",
       "      <th></th>\n",
       "      <th>code</th>\n",
       "      <th>url</th>\n",
       "      <th>creator</th>\n",
       "      <th>created_t</th>\n",
       "      <th>created_datetime</th>\n",
       "      <th>last_modified_t</th>\n",
       "      <th>last_modified_datetime</th>\n",
       "      <th>product_name</th>\n",
       "      <th>generic_name</th>\n",
       "      <th>quantity</th>\n",
       "      <th>...</th>\n",
       "      <th>carbon-footprint_100g</th>\n",
       "      <th>carbon-footprint-from-meat-or-fish_100g</th>\n",
       "      <th>nutrition-score-fr_100g</th>\n",
       "      <th>nutrition-score-uk_100g</th>\n",
       "      <th>glycemic-index_100g</th>\n",
       "      <th>choline_100g</th>\n",
       "      <th>phylloquinone_100g</th>\n",
       "      <th>beta-glucan_100g</th>\n",
       "      <th>inositol_100g</th>\n",
       "      <th>carnitine_100g</th>\n",
       "    </tr>\n",
       "  </thead>\n",
       "  <tbody>\n",
       "    <tr>\n",
       "      <th>0</th>\n",
       "      <td>0000000000017</td>\n",
       "      <td>http://world-en.openfoodfacts.org/product/0000...</td>\n",
       "      <td>kiliweb</td>\n",
       "      <td>1529059080</td>\n",
       "      <td>2018-06-15T10:38:00Z</td>\n",
       "      <td>1561463718</td>\n",
       "      <td>2019-06-25T11:55:18Z</td>\n",
       "      <td>Vitória crackers</td>\n",
       "      <td>NaN</td>\n",
       "      <td>NaN</td>\n",
       "      <td>...</td>\n",
       "      <td>NaN</td>\n",
       "      <td>NaN</td>\n",
       "      <td>NaN</td>\n",
       "      <td>NaN</td>\n",
       "      <td>NaN</td>\n",
       "      <td>NaN</td>\n",
       "      <td>NaN</td>\n",
       "      <td>NaN</td>\n",
       "      <td>NaN</td>\n",
       "      <td>NaN</td>\n",
       "    </tr>\n",
       "    <tr>\n",
       "      <th>1</th>\n",
       "      <td>0000000000031</td>\n",
       "      <td>http://world-en.openfoodfacts.org/product/0000...</td>\n",
       "      <td>isagoofy</td>\n",
       "      <td>1539464774</td>\n",
       "      <td>2018-10-13T21:06:14Z</td>\n",
       "      <td>1539464817</td>\n",
       "      <td>2018-10-13T21:06:57Z</td>\n",
       "      <td>Cacao</td>\n",
       "      <td>NaN</td>\n",
       "      <td>130 g</td>\n",
       "      <td>...</td>\n",
       "      <td>NaN</td>\n",
       "      <td>NaN</td>\n",
       "      <td>NaN</td>\n",
       "      <td>NaN</td>\n",
       "      <td>NaN</td>\n",
       "      <td>NaN</td>\n",
       "      <td>NaN</td>\n",
       "      <td>NaN</td>\n",
       "      <td>NaN</td>\n",
       "      <td>NaN</td>\n",
       "    </tr>\n",
       "    <tr>\n",
       "      <th>2</th>\n",
       "      <td>000000000003327986</td>\n",
       "      <td>http://world-en.openfoodfacts.org/product/0000...</td>\n",
       "      <td>kiliweb</td>\n",
       "      <td>1574175736</td>\n",
       "      <td>2019-11-19T15:02:16Z</td>\n",
       "      <td>1574175737</td>\n",
       "      <td>2019-11-19T15:02:17Z</td>\n",
       "      <td>Filetes de pollo empanado</td>\n",
       "      <td>NaN</td>\n",
       "      <td>NaN</td>\n",
       "      <td>...</td>\n",
       "      <td>NaN</td>\n",
       "      <td>NaN</td>\n",
       "      <td>NaN</td>\n",
       "      <td>NaN</td>\n",
       "      <td>NaN</td>\n",
       "      <td>NaN</td>\n",
       "      <td>NaN</td>\n",
       "      <td>NaN</td>\n",
       "      <td>NaN</td>\n",
       "      <td>NaN</td>\n",
       "    </tr>\n",
       "    <tr>\n",
       "      <th>3</th>\n",
       "      <td>0000000000100</td>\n",
       "      <td>http://world-en.openfoodfacts.org/product/0000...</td>\n",
       "      <td>del51</td>\n",
       "      <td>1444572561</td>\n",
       "      <td>2015-10-11T14:09:21Z</td>\n",
       "      <td>1444659212</td>\n",
       "      <td>2015-10-12T14:13:32Z</td>\n",
       "      <td>moutarde au moût de raisin</td>\n",
       "      <td>NaN</td>\n",
       "      <td>100g</td>\n",
       "      <td>...</td>\n",
       "      <td>NaN</td>\n",
       "      <td>NaN</td>\n",
       "      <td>18.0</td>\n",
       "      <td>NaN</td>\n",
       "      <td>NaN</td>\n",
       "      <td>NaN</td>\n",
       "      <td>NaN</td>\n",
       "      <td>NaN</td>\n",
       "      <td>NaN</td>\n",
       "      <td>NaN</td>\n",
       "    </tr>\n",
       "  </tbody>\n",
       "</table>\n",
       "<p>4 rows × 169 columns</p>\n",
       "</div>"
      ],
      "text/plain": [
       "                 code                                                url  \\\n",
       "0       0000000000017  http://world-en.openfoodfacts.org/product/0000...   \n",
       "1       0000000000031  http://world-en.openfoodfacts.org/product/0000...   \n",
       "2  000000000003327986  http://world-en.openfoodfacts.org/product/0000...   \n",
       "3       0000000000100  http://world-en.openfoodfacts.org/product/0000...   \n",
       "\n",
       "    creator   created_t      created_datetime  last_modified_t  \\\n",
       "0   kiliweb  1529059080  2018-06-15T10:38:00Z       1561463718   \n",
       "1  isagoofy  1539464774  2018-10-13T21:06:14Z       1539464817   \n",
       "2   kiliweb  1574175736  2019-11-19T15:02:16Z       1574175737   \n",
       "3     del51  1444572561  2015-10-11T14:09:21Z       1444659212   \n",
       "\n",
       "  last_modified_datetime                  product_name generic_name quantity  \\\n",
       "0   2019-06-25T11:55:18Z              Vitória crackers          NaN      NaN   \n",
       "1   2018-10-13T21:06:57Z                         Cacao          NaN    130 g   \n",
       "2   2019-11-19T15:02:17Z     Filetes de pollo empanado          NaN      NaN   \n",
       "3   2015-10-12T14:13:32Z   moutarde au moût de raisin           NaN     100g   \n",
       "\n",
       "   ... carbon-footprint_100g carbon-footprint-from-meat-or-fish_100g  \\\n",
       "0  ...                   NaN                                     NaN   \n",
       "1  ...                   NaN                                     NaN   \n",
       "2  ...                   NaN                                     NaN   \n",
       "3  ...                   NaN                                     NaN   \n",
       "\n",
       "  nutrition-score-fr_100g nutrition-score-uk_100g glycemic-index_100g  \\\n",
       "0                     NaN                     NaN                 NaN   \n",
       "1                     NaN                     NaN                 NaN   \n",
       "2                     NaN                     NaN                 NaN   \n",
       "3                    18.0                     NaN                 NaN   \n",
       "\n",
       "  choline_100g phylloquinone_100g beta-glucan_100g inositol_100g  \\\n",
       "0          NaN                NaN              NaN           NaN   \n",
       "1          NaN                NaN              NaN           NaN   \n",
       "2          NaN                NaN              NaN           NaN   \n",
       "3          NaN                NaN              NaN           NaN   \n",
       "\n",
       "  carnitine_100g  \n",
       "0            NaN  \n",
       "1            NaN  \n",
       "2            NaN  \n",
       "3            NaN  \n",
       "\n",
       "[4 rows x 169 columns]"
      ]
     },
     "execution_count": 10,
     "metadata": {},
     "output_type": "execute_result"
    }
   ],
   "source": [
    "d_1.head(4)"
   ]
  },
  {
   "cell_type": "code",
   "execution_count": 11,
   "metadata": {},
   "outputs": [
    {
     "name": "stdout",
     "output_type": "stream",
     "text": [
      "print A row ---> (1555492,)\n"
     ]
    }
   ],
   "source": [
    "\n",
    "d_Count2 = data['countries']\n",
    "print('print A row --->', d_Count2.shape)"
   ]
  },
  {
   "cell_type": "code",
   "execution_count": 12,
   "metadata": {},
   "outputs": [
    {
     "name": "stdout",
     "output_type": "stream",
     "text": [
      "print A row ---> (510660, 1)\n"
     ]
    }
   ],
   "source": [
    "d_C2 = d_Count2.to_frame()\n",
    "d_C3 = d_C2.dropna()\n",
    "d_11 = d_C3[d_C3['countries'].str.contains(\"Fr\",na=False)]\n",
    "print('print A row --->', d_11.shape)\n"
   ]
  },
  {
   "cell_type": "code",
   "execution_count": 13,
   "metadata": {},
   "outputs": [
    {
     "data": {
      "text/html": [
       "<div>\n",
       "<style scoped>\n",
       "    .dataframe tbody tr th:only-of-type {\n",
       "        vertical-align: middle;\n",
       "    }\n",
       "\n",
       "    .dataframe tbody tr th {\n",
       "        vertical-align: top;\n",
       "    }\n",
       "\n",
       "    .dataframe thead th {\n",
       "        text-align: right;\n",
       "    }\n",
       "</style>\n",
       "<table border=\"1\" class=\"dataframe\">\n",
       "  <thead>\n",
       "    <tr style=\"text-align: right;\">\n",
       "      <th></th>\n",
       "      <th>Row_Detail</th>\n",
       "    </tr>\n",
       "  </thead>\n",
       "  <tbody>\n",
       "    <tr>\n",
       "      <th>All Row</th>\n",
       "      <td>1555491</td>\n",
       "    </tr>\n",
       "    <tr>\n",
       "      <th>France Row</th>\n",
       "      <td>1044831</td>\n",
       "    </tr>\n",
       "  </tbody>\n",
       "</table>\n",
       "</div>"
      ],
      "text/plain": [
       "            Row_Detail\n",
       "All Row        1555491\n",
       "France Row     1044831"
      ]
     },
     "execution_count": 13,
     "metadata": {},
     "output_type": "execute_result"
    }
   ],
   "source": [
    "d_2_1_1 = {\"Row_Detail\" : [1555491, 1555491 - 510660]}\n",
    "d_2_1 = pd.DataFrame(data=d_2_1_1)\n",
    "d_2_2 = d_2_1.rename(index={0: 'All Row', 1: 'France Row'})\n",
    "d_2_2"
   ]
  },
  {
   "cell_type": "code",
   "execution_count": null,
   "metadata": {},
   "outputs": [],
   "source": []
  },
  {
   "cell_type": "code",
   "execution_count": 14,
   "metadata": {},
   "outputs": [
    {
     "data": {
      "text/plain": [
       "Text(0.5, 1.0, 'Schema 5 - 2eme passage : Label France  /  Toutes Lignes /  Lignes France - Barplot')"
      ]
     },
     "execution_count": 14,
     "metadata": {},
     "output_type": "execute_result"
    },
    {
     "data": {
      "image/png": "[encoded data removed]",
      "text/plain": [
       "<Figure size 1080x720 with 1 Axes>"
      ]
     },
     "metadata": {},
     "output_type": "display_data"
    }
   ],
   "source": [
    "\n",
    "\n",
    "plt.figure(figsize=(15, 10))\n",
    "sns.set_theme(style=\"whitegrid\")\n",
    "ax = sns.barplot(x=d_2_2.index, y=\"Row_Detail\", data=d_2_2)\n",
    "str = \"Schema 5 - 2eme passage : Label France  /  Toutes Lignes /  Lignes France - Barplot\"\n",
    "plt.title(str, fontsize=15)"
   ]
  },
  {
   "cell_type": "code",
   "execution_count": null,
   "metadata": {},
   "outputs": [],
   "source": []
  },
  {
   "cell_type": "code",
   "execution_count": 15,
   "metadata": {},
   "outputs": [
    {
     "data": {
      "text/plain": [
       "(510660, 170)"
      ]
     },
     "execution_count": 15,
     "metadata": {},
     "output_type": "execute_result"
    }
   ],
   "source": [
    "d_1 = pd.merge(d_1, d_11, left_index=True, right_index=True)\n",
    "d_1.shape"
   ]
  },
  {
   "cell_type": "code",
   "execution_count": 16,
   "metadata": {},
   "outputs": [
    {
     "name": "stdout",
     "output_type": "stream",
     "text": [
      "//////////////////////\n",
      "Empty Cell 2 :  75 %\n",
      "//////////////////////\n"
     ]
    },
    {
     "data": {
      "image/png": "[encoded data removed]",
      "text/plain": [
       "<Figure size 720x720 with 1 Axes>"
      ]
     },
     "metadata": {},
     "output_type": "display_data"
    }
   ],
   "source": [
    "mEmptyCell_data = mEmptyCell(d_1)\n",
    "print(\"//////////////////////\")\n",
    "print(\"Empty Cell 2 : \", mEmptyCell_data ,\"%\")\n",
    "print(\"//////////////////////\")\n",
    "str = 'Schema 6 - Fin du 2eme passage : Label France / Cellules Pleines : 25% / Cellules Vides : 75%'\n",
    "a = mEmptyGraph(mEmptyCell_data, str)\n"
   ]
  },
  {
   "cell_type": "code",
   "execution_count": 17,
   "metadata": {},
   "outputs": [
    {
     "data": {
      "text/plain": [
       "3                Epicerie, Condiments, Sauces, Moutardes\n",
       "4                                                    Xsf\n",
       "13     Plats préparés, Légumes préparés, Carottes râp...\n",
       "21      Tartes, Tartes sucrées, Tartes à la noix de coco\n",
       "31     Aliments et boissons à base de végétaux, Alime...\n",
       "33     Viandes, Volailles, Poulets, Aiguillettes de p...\n",
       "35     Plats préparés, Légumes préparés, Entrées, Ent...\n",
       "59     Aliments et boissons à base de végétaux, Boiss...\n",
       "60     Produits laitiers, Produits fermentés, Produit...\n",
       "62        Viandes, Volailles, Poulets, Cuisses de poulet\n",
       "63     Aliments et boissons à base de végétaux, Alime...\n",
       "66     Aliments et boissons à base de végétaux, Alime...\n",
       "68     Produits de la mer, Poissons, Saumons, Poisson...\n",
       "70     Conserves, Viandes, Plats préparés, Produits à...\n",
       "89            Plats préparés, Salades, Salades composées\n",
       "124    Aliments et boissons à base de végétaux, Alime...\n",
       "157                             Compléments alimentaires\n",
       "162                                        Filet de bœuf\n",
       "262    Snacks, Snacks sucrés, Confiseries, Barres, Co...\n",
       "309                             Décorations alimentaires\n",
       "323    Plats préparés, Produits à la viande, Plats pr...\n",
       "324    Plats préparés, Plats préparés à réchauffer au...\n",
       "333                                     Gâteaux aux noix\n",
       "346    Produits laitiers, Desserts, Produits déshydra...\n",
       "366    Aliments et boissons à base de végétaux, Boiss...\n",
       "384                         Epicerie,Sauces,Sauces Pesto\n",
       "385    Produits à tartiner,Produits à tartiner salés,...\n",
       "388    Aliments et boissons à base de végétaux, Alime...\n",
       "389    Aliments et boissons à base de végétaux, Alime...\n",
       "390    Aliments et boissons à base de végétaux, Alime...\n",
       "394    Boissons, Boissons gazeuses, Sodas, Boissons a...\n",
       "398    Snacks, Snacks sucrés, Biscuits et gâteaux, Bi...\n",
       "400                                             Boissons\n",
       "407    Aliments et boissons à base de végétaux, Alime...\n",
       "408          Snacks, Snacks sucrés, Confiseries, Bonbons\n",
       "413                                             Boissons\n",
       "416    Aliments et boissons à base de végétaux, Boiss...\n",
       "417        Additifs alimentaires, Colorants alimentaires\n",
       "420                          Sirops, Sirops pour ganache\n",
       "421                             Décorations alimentaires\n",
       "Name: categories, dtype: object"
      ]
     },
     "execution_count": 17,
     "metadata": {},
     "output_type": "execute_result"
    }
   ],
   "source": [
    "dtest = d_1['categories']\n",
    "dtest1 = dtest.dropna()\n",
    "dtest1.head(40)"
   ]
  },
  {
   "cell_type": "markdown",
   "metadata": {},
   "source": [
    "# 6 //  3eme Nettoyage // Colonne avec peu de valeur"
   ]
  },
  {
   "cell_type": "code",
   "execution_count": 18,
   "metadata": {},
   "outputs": [
    {
     "data": {
      "text/plain": [
       "(510660, 170)"
      ]
     },
     "execution_count": 18,
     "metadata": {},
     "output_type": "execute_result"
    }
   ],
   "source": [
    "d_1.shape"
   ]
  },
  {
   "cell_type": "code",
   "execution_count": 19,
   "metadata": {},
   "outputs": [
    {
     "name": "stdout",
     "output_type": "stream",
     "text": [
      "            Total\n",
      "count  170.000000\n",
      "mean     0.752096\n",
      "std      0.355464\n",
      "min      0.000000\n",
      "25%      0.551645\n",
      "50%      0.993110\n",
      "75%      0.999757\n",
      "max      1.000000\n"
     ]
    }
   ],
   "source": [
    "d_1.loc[\"Total\"] = d_1.isna().sum()\n",
    "d_1.loc[\"Total\"] = d_1.loc[\"Total\"]/510660\n",
    "d_3 = d_1.T\n",
    "d_3_1 = pd.to_numeric(d_3['Total'])\n",
    "#count    169.000000\n",
    "#mean       0.755714\n",
    "#std        0.355087\n",
    "#min        0.000000\n",
    "#25%        0.551574\n",
    "#50%        0.996222\n",
    "#75%        0.999908\n",
    "#max        1.000000\n",
    "d_3_1_1 = pd.DataFrame(data=d_3_1)\n",
    "print(d_3_1_1.describe())\n",
    "d_3_1_2 = d_3_1_1.sort_values(by=['Total'], ascending=False)\n"
   ]
  },
  {
   "cell_type": "code",
   "execution_count": 20,
   "metadata": {},
   "outputs": [
    {
     "name": "stdout",
     "output_type": "stream",
     "text": [
      "1 (170, 1)\n",
      "('A', (98, 1))\n",
      "('c', (113, 1))\n",
      "('E', (117, 1))\n",
      "('h', (123, 1))\n",
      "('j', (133, 1))\n",
      "('k', (138, 1))\n",
      "('l', (140, 1))\n",
      "('m', (141, 1))\n",
      "('n', (153, 1))\n"
     ]
    },
    {
     "data": {
      "text/plain": [
       "Text(0.5, 1.0, 'Schema 7 - 3eme Passage : Colonne avec peu de valeur - Colonnes en fonction des cellules vides  - Barplot')"
      ]
     },
     "execution_count": 20,
     "metadata": {},
     "output_type": "execute_result"
    },
    {
     "data": {
      "image/png": "[encoded data removed]",
      "text/plain": [
       "<Figure size 720x360 with 1 Axes>"
      ]
     },
     "metadata": {},
     "output_type": "display_data"
    }
   ],
   "source": [
    "print(\"1\",d_3_1_2.shape)\n",
    "a = d_3_1_2[d_3_1_2['Total'] > 0.9]\n",
    "print((\"A\",a.shape))\n",
    "\n",
    "c = d_3_1_2[d_3_1_2['Total'] > 0.8]\n",
    "print((\"c\",c.shape))\n",
    "e = d_3_1_2[d_3_1_2['Total'] > 0.7]\n",
    "print((\"E\",e.shape))\n",
    "h = d_3_1_2[d_3_1_2['Total'] > 0.6]\n",
    "print((\"h\",h.shape))\n",
    "j = d_3_1_2[d_3_1_2['Total'] > 0.5]\n",
    "print((\"j\",j.shape))\n",
    "k = d_3_1_2[d_3_1_2['Total'] > 0.4]\n",
    "print((\"k\",k.shape))\n",
    "l = d_3_1_2[d_3_1_2['Total'] > 0.3]\n",
    "print((\"l\",l.shape))\n",
    "m = d_3_1_2[d_3_1_2['Total'] > 0.2]\n",
    "print((\"m\",m.shape))\n",
    "n = d_3_1_2[d_3_1_2['Total'] > 0.1]\n",
    "print((\"n\",n.shape))\n",
    "\n",
    "\n",
    "\n",
    "d_3_1_2_2 = {\"%_empty\" : [112, 127-112 , 133-127 , 137-127 , 147-137, 152-147,154-152, 1, 167-155 ]}\n",
    "d_3_1 = pd.DataFrame(data=d_3_1_2_2)\n",
    "sns.set(font_scale=1)\n",
    "d_3_2_1 = d_3_1.rename(index={0: '> 90%', 1: '> 80 % ', 2: '> 70 %', 3: '> 60 %', 4: '> 50 % ', 5: '> 40 %', 6: '> 30 %', 7: '> 20 %', 8: '> 10 %'})\n",
    "\n",
    "\n",
    "plt.figure(figsize=(10, 5))\n",
    "res = sns.barplot(x=d_3_2_1.index, y=\"%_empty\", data=d_3_2_1)\n",
    "res.set(xlim=(-1),xticks=[0,1,2,3,4,5,6,7,8],yticks=[])\n",
    "plt.xticks(rotation=0)\n",
    "str = \"Schema 7 - 3eme Passage : Colonne avec peu de valeur - Colonnes en fonction des cellules vides  - Barplot\"\n",
    "plt.title(str, fontsize=15)"
   ]
  },
  {
   "cell_type": "code",
   "execution_count": 21,
   "metadata": {},
   "outputs": [
    {
     "data": {
      "text/plain": [
       "Text(0.5, 1.0, 'Schema 8 - 3eme Passage : Colonne avec peu de valeur - BoxPlot')"
      ]
     },
     "execution_count": 21,
     "metadata": {},
     "output_type": "execute_result"
    },
    {
     "data": {
      "image/png": "[encoded data removed]",
      "text/plain": [
       "<Figure size 720x360 with 1 Axes>"
      ]
     },
     "metadata": {},
     "output_type": "display_data"
    }
   ],
   "source": [
    "plt.figure(figsize=(10, 5))\n",
    "boxplot = d_3_1_2.boxplot(column=['Total'])\n",
    "str = \"Schema 8 - 3eme Passage : Colonne avec peu de valeur - BoxPlot\"\n",
    "plt.title(str, fontsize=15)"
   ]
  },
  {
   "cell_type": "code",
   "execution_count": 22,
   "metadata": {
    "scrolled": true
   },
   "outputs": [
    {
     "name": "stdout",
     "output_type": "stream",
     "text": [
      "count    170.000000\n",
      "mean       0.017647\n",
      "std        0.132054\n",
      "min        0.000000\n",
      "25%        0.000000\n",
      "50%        0.000000\n",
      "75%        0.000000\n",
      "max        1.000000\n",
      "Name: Total, dtype: float64\n"
     ]
    }
   ],
   "source": [
    "\n",
    "print(d_3_1_2['Total'].astype(int).describe())"
   ]
  },
  {
   "cell_type": "code",
   "execution_count": 23,
   "metadata": {},
   "outputs": [
    {
     "data": {
      "text/html": [
       "<div>\n",
       "<style scoped>\n",
       "    .dataframe tbody tr th:only-of-type {\n",
       "        vertical-align: middle;\n",
       "    }\n",
       "\n",
       "    .dataframe tbody tr th {\n",
       "        vertical-align: top;\n",
       "    }\n",
       "\n",
       "    .dataframe thead th {\n",
       "        text-align: right;\n",
       "    }\n",
       "</style>\n",
       "<table border=\"1\" class=\"dataframe\">\n",
       "  <thead>\n",
       "    <tr style=\"text-align: right;\">\n",
       "      <th></th>\n",
       "      <th>Total</th>\n",
       "    </tr>\n",
       "  </thead>\n",
       "  <tbody>\n",
       "    <tr>\n",
       "      <th>count</th>\n",
       "      <td>170.000000</td>\n",
       "    </tr>\n",
       "    <tr>\n",
       "      <th>mean</th>\n",
       "      <td>0.752096</td>\n",
       "    </tr>\n",
       "    <tr>\n",
       "      <th>std</th>\n",
       "      <td>0.355464</td>\n",
       "    </tr>\n",
       "    <tr>\n",
       "      <th>min</th>\n",
       "      <td>0.000000</td>\n",
       "    </tr>\n",
       "    <tr>\n",
       "      <th>25%</th>\n",
       "      <td>0.551645</td>\n",
       "    </tr>\n",
       "    <tr>\n",
       "      <th>50%</th>\n",
       "      <td>0.993110</td>\n",
       "    </tr>\n",
       "    <tr>\n",
       "      <th>75%</th>\n",
       "      <td>0.999757</td>\n",
       "    </tr>\n",
       "    <tr>\n",
       "      <th>max</th>\n",
       "      <td>1.000000</td>\n",
       "    </tr>\n",
       "  </tbody>\n",
       "</table>\n",
       "</div>"
      ],
      "text/plain": [
       "            Total\n",
       "count  170.000000\n",
       "mean     0.752096\n",
       "std      0.355464\n",
       "min      0.000000\n",
       "25%      0.551645\n",
       "50%      0.993110\n",
       "75%      0.999757\n",
       "max      1.000000"
      ]
     },
     "execution_count": 23,
     "metadata": {},
     "output_type": "execute_result"
    }
   ],
   "source": [
    "d_3_1_2.describe()"
   ]
  },
  {
   "cell_type": "code",
   "execution_count": 24,
   "metadata": {},
   "outputs": [
    {
     "name": "stdout",
     "output_type": "stream",
     "text": [
      "count    170.000000\n",
      "mean       0.017647\n",
      "std        0.132054\n",
      "min        0.000000\n",
      "25%        0.000000\n",
      "50%        0.000000\n",
      "75%        0.000000\n",
      "max        1.000000\n",
      "Name: Total, dtype: float64\n"
     ]
    }
   ],
   "source": [
    "d_2 = d_1.T\n",
    "d_3 = d_2[\"Total\"]\n",
    "print(d_3.astype(int).describe())\n"
   ]
  },
  {
   "cell_type": "code",
   "execution_count": 25,
   "metadata": {},
   "outputs": [],
   "source": [
    "d_4 = d_2[d_2.Total < 0.752096]\n"
   ]
  },
  {
   "cell_type": "code",
   "execution_count": 26,
   "metadata": {},
   "outputs": [
    {
     "name": "stdout",
     "output_type": "stream",
     "text": [
      "//////////////////////\n",
      "Empty Cell 3 :  29 %\n",
      "//////////////////////\n"
     ]
    },
    {
     "data": {
      "image/png": "[encoded data removed]",
      "text/plain": [
       "<Figure size 720x720 with 1 Axes>"
      ]
     },
     "metadata": {},
     "output_type": "display_data"
    }
   ],
   "source": [
    "mEmptyCell_data = mEmptyCell(d_4)\n",
    "print(\"//////////////////////\")\n",
    "print(\"Empty Cell 3 : \", mEmptyCell_data ,\"%\")\n",
    "print(\"//////////////////////\")\n",
    "str = 'Schema 9  - Fin du 3eme passage : Colonne avec peu de valeur  / Cellules Pleines : 71% / Cellules Vides : 29%'\n",
    "a = mEmptyGraph(mEmptyCell_data ,str)"
   ]
  },
  {
   "cell_type": "markdown",
   "metadata": {},
   "source": [
    "    \n",
    "   # 7 //  4eme Nettoyage // Variable interessante"
   ]
  },
  {
   "cell_type": "code",
   "execution_count": 27,
   "metadata": {},
   "outputs": [
    {
     "name": "stderr",
     "output_type": "stream",
     "text": [
      "/Users/rogerrabbit/opt/anaconda3/lib/python3.8/site-packages/pandas/core/indexing.py:670: SettingWithCopyWarning: \n",
      "A value is trying to be set on a copy of a slice from a DataFrame\n",
      "\n",
      "See the caveats in the documentation: https://pandas.pydata.org/pandas-docs/stable/user_guide/indexing.html#returning-a-view-versus-a-copy\n",
      "  iloc._setitem_with_indexer(indexer, value)\n",
      "<ipython-input-27-2cb245f6dc22>:3: SettingWithCopyWarning: \n",
      "A value is trying to be set on a copy of a slice from a DataFrame\n",
      "\n",
      "See the caveats in the documentation: https://pandas.pydata.org/pandas-docs/stable/user_guide/indexing.html#returning-a-view-versus-a-copy\n",
      "  d_4.loc[\"Empty\"] = d_4.loc[\"Empty\"]/424308\n"
     ]
    },
    {
     "data": {
      "text/html": [
       "<div>\n",
       "<style scoped>\n",
       "    .dataframe tbody tr th:only-of-type {\n",
       "        vertical-align: middle;\n",
       "    }\n",
       "\n",
       "    .dataframe tbody tr th {\n",
       "        vertical-align: top;\n",
       "    }\n",
       "\n",
       "    .dataframe thead th {\n",
       "        text-align: right;\n",
       "    }\n",
       "</style>\n",
       "<table border=\"1\" class=\"dataframe\">\n",
       "  <thead>\n",
       "    <tr style=\"text-align: right;\">\n",
       "      <th></th>\n",
       "      <th>Empty</th>\n",
       "    </tr>\n",
       "  </thead>\n",
       "  <tbody>\n",
       "    <tr>\n",
       "      <th>767338</th>\n",
       "      <td>9.66279e-05</td>\n",
       "    </tr>\n",
       "    <tr>\n",
       "      <th>451774</th>\n",
       "      <td>9.66279e-05</td>\n",
       "    </tr>\n",
       "    <tr>\n",
       "      <th>451557</th>\n",
       "      <td>9.66279e-05</td>\n",
       "    </tr>\n",
       "    <tr>\n",
       "      <th>451578</th>\n",
       "      <td>9.66279e-05</td>\n",
       "    </tr>\n",
       "    <tr>\n",
       "      <th>451593</th>\n",
       "      <td>9.66279e-05</td>\n",
       "    </tr>\n",
       "  </tbody>\n",
       "</table>\n",
       "</div>"
      ],
      "text/plain": [
       "              Empty\n",
       "767338  9.66279e-05\n",
       "451774  9.66279e-05\n",
       "451557  9.66279e-05\n",
       "451578  9.66279e-05\n",
       "451593  9.66279e-05"
      ]
     },
     "execution_count": 27,
     "metadata": {},
     "output_type": "execute_result"
    }
   ],
   "source": [
    "#Pour info\n",
    "d_4.loc[\"Empty\"] = d_4.isna().sum() \n",
    "d_4.loc[\"Empty\"] = d_4.loc[\"Empty\"]/424308\n",
    "d_4_1 = d_4.T\n",
    "d_4_2 = d_4_1[\"Empty\"]\n",
    "d_4_5 = pd.DataFrame(data=d_4_2)\n",
    "d_4_6 = d_4_5.sort_values(by=['Empty'], ascending=False)\n",
    "d_4_6.head(5)\n",
    "#Pour info"
   ]
  },
  {
   "cell_type": "code",
   "execution_count": 28,
   "metadata": {},
   "outputs": [],
   "source": [
    "# TRES LONG A RELANCER \n",
    "\n",
    "#plt.figure(figsize=(15, 10))\n",
    "#sns.set(font_scale=0.5)\n",
    "#ax = sns.barplot(x=d_4_6.index, y=\"Empty\", data=d_4_6)\n",
    "#res.set(xlim=(3),xticks=[],yticks=[])\n",
    "#plt.xticks(rotation=90)\n",
    "#plt.title(\"Schema 10  - 4eme passage : variable intéréssante\", fontsize=15)\n"
   ]
  },
  {
   "cell_type": "code",
   "execution_count": 29,
   "metadata": {
    "scrolled": false
   },
   "outputs": [],
   "source": [
    "d_41 = d_4.T\n",
    "keep_label= ['code',      \n",
    "'product_name'    ,  \n",
    "'brands' ,        \n",
    "'categories_en'     ,  \n",
    "'energy-kcal_100g' ,\n",
    "'energy_100g',\n",
    "'fat_100g',\n",
    "'saturated-fat_100g' ,\n",
    "'carbohydrates_100g',\n",
    "'sugars_100g' ,\n",
    "'proteins_100g' ,\n",
    "'salt_100g'  ,\n",
    "'sodium_100g',\n",
    "'nutrition-score-fr_100g' ,\n",
    "'fiber_100g' ]\n",
    "\n",
    "\n",
    "d_5 = d_41[keep_label]\n"
   ]
  },
  {
   "cell_type": "code",
   "execution_count": 30,
   "metadata": {},
   "outputs": [
    {
     "name": "stdout",
     "output_type": "stream",
     "text": [
      "//////////////////////\n",
      "Empty Cell 4 :  25 %\n",
      "//////////////////////\n"
     ]
    },
    {
     "data": {
      "image/png": "[encoded data removed]",
      "text/plain": [
       "<Figure size 720x720 with 1 Axes>"
      ]
     },
     "metadata": {},
     "output_type": "display_data"
    }
   ],
   "source": [
    "mEmptyCell_data = mEmptyCell(d_5)\n",
    "print(\"//////////////////////\")\n",
    "print(\"Empty Cell 4 : \", mEmptyCell_data ,\"%\")\n",
    "print(\"//////////////////////\")\n",
    "str = 'Schema 11  Fin du 4eme passage : variable intéréssante / Cellules Pleines : 75% / Cellules Vides : 25%'\n",
    "a = mEmptyGraph(mEmptyCell_data,str)"
   ]
  },
  {
   "cell_type": "markdown",
   "metadata": {},
   "source": [
    "# 7 //  5eme Nettoyage // check Row"
   ]
  },
  {
   "cell_type": "code",
   "execution_count": 31,
   "metadata": {},
   "outputs": [
    {
     "data": {
      "text/plain": [
       "count    510661.000000\n",
       "mean          0.246862\n",
       "std           0.271914\n",
       "min           0.000000\n",
       "25%           0.066667\n",
       "50%           0.133333\n",
       "75%           0.266667\n",
       "max           0.933333\n",
       "Name: Total_R, dtype: float64"
      ]
     },
     "execution_count": 31,
     "metadata": {},
     "output_type": "execute_result"
    }
   ],
   "source": [
    "d_6 = d_5.T\n",
    "d_6.loc[\"Total_R\"] = d_6.isna().sum()/15\n",
    "d_7 = d_6.T\n",
    "d_7_1 = pd.to_numeric(d_7['Total_R'])\n",
    "d_7_1.describe()\n"
   ]
  },
  {
   "cell_type": "code",
   "execution_count": 32,
   "metadata": {},
   "outputs": [
    {
     "name": "stdout",
     "output_type": "stream",
     "text": [
      "count    510661.000000\n",
      "mean          0.246862\n",
      "std           0.271914\n",
      "min           0.000000\n",
      "25%           0.066667\n",
      "50%           0.133333\n",
      "75%           0.266667\n",
      "max           0.933333\n",
      "Name: Total_R, dtype: float64\n"
     ]
    },
    {
     "data": {
      "text/html": [
       "<div>\n",
       "<style scoped>\n",
       "    .dataframe tbody tr th:only-of-type {\n",
       "        vertical-align: middle;\n",
       "    }\n",
       "\n",
       "    .dataframe tbody tr th {\n",
       "        vertical-align: top;\n",
       "    }\n",
       "\n",
       "    .dataframe thead th {\n",
       "        text-align: right;\n",
       "    }\n",
       "</style>\n",
       "<table border=\"1\" class=\"dataframe\">\n",
       "  <thead>\n",
       "    <tr style=\"text-align: right;\">\n",
       "      <th></th>\n",
       "      <th>code</th>\n",
       "      <th>product_name</th>\n",
       "      <th>brands</th>\n",
       "      <th>categories_en</th>\n",
       "      <th>energy-kcal_100g</th>\n",
       "      <th>energy_100g</th>\n",
       "      <th>fat_100g</th>\n",
       "      <th>saturated-fat_100g</th>\n",
       "      <th>carbohydrates_100g</th>\n",
       "      <th>sugars_100g</th>\n",
       "      <th>proteins_100g</th>\n",
       "      <th>salt_100g</th>\n",
       "      <th>sodium_100g</th>\n",
       "      <th>nutrition-score-fr_100g</th>\n",
       "      <th>fiber_100g</th>\n",
       "      <th>Total_R</th>\n",
       "    </tr>\n",
       "  </thead>\n",
       "  <tbody>\n",
       "    <tr>\n",
       "      <th>0</th>\n",
       "      <td>0000000000017</td>\n",
       "      <td>Vitória crackers</td>\n",
       "      <td>NaN</td>\n",
       "      <td>NaN</td>\n",
       "      <td>375</td>\n",
       "      <td>1569</td>\n",
       "      <td>7</td>\n",
       "      <td>3.08</td>\n",
       "      <td>70.1</td>\n",
       "      <td>15</td>\n",
       "      <td>7.8</td>\n",
       "      <td>1.4</td>\n",
       "      <td>0.56</td>\n",
       "      <td>NaN</td>\n",
       "      <td>NaN</td>\n",
       "      <td>0.266667</td>\n",
       "    </tr>\n",
       "    <tr>\n",
       "      <th>3</th>\n",
       "      <td>0000000000100</td>\n",
       "      <td>moutarde au moût de raisin</td>\n",
       "      <td>courte paille</td>\n",
       "      <td>Groceries,Condiments,Sauces,Mustards</td>\n",
       "      <td>NaN</td>\n",
       "      <td>936</td>\n",
       "      <td>8.2</td>\n",
       "      <td>2.2</td>\n",
       "      <td>29</td>\n",
       "      <td>22</td>\n",
       "      <td>5.1</td>\n",
       "      <td>4.6</td>\n",
       "      <td>1.84</td>\n",
       "      <td>18</td>\n",
       "      <td>0</td>\n",
       "      <td>0.0666667</td>\n",
       "    </tr>\n",
       "    <tr>\n",
       "      <th>5</th>\n",
       "      <td>0000000000123</td>\n",
       "      <td>Sauce Sweety chili 0%</td>\n",
       "      <td>NaN</td>\n",
       "      <td>NaN</td>\n",
       "      <td>21</td>\n",
       "      <td>88</td>\n",
       "      <td>0</td>\n",
       "      <td>0</td>\n",
       "      <td>4.8</td>\n",
       "      <td>0.4</td>\n",
       "      <td>0.2</td>\n",
       "      <td>2.04</td>\n",
       "      <td>0.816</td>\n",
       "      <td>NaN</td>\n",
       "      <td>NaN</td>\n",
       "      <td>0.266667</td>\n",
       "    </tr>\n",
       "    <tr>\n",
       "      <th>6</th>\n",
       "      <td>0000000000178</td>\n",
       "      <td>Mini coco</td>\n",
       "      <td>NaN</td>\n",
       "      <td>NaN</td>\n",
       "      <td>60</td>\n",
       "      <td>251</td>\n",
       "      <td>3</td>\n",
       "      <td>1</td>\n",
       "      <td>10</td>\n",
       "      <td>3</td>\n",
       "      <td>2</td>\n",
       "      <td>1.15</td>\n",
       "      <td>0.46</td>\n",
       "      <td>NaN</td>\n",
       "      <td>NaN</td>\n",
       "      <td>0.266667</td>\n",
       "    </tr>\n",
       "    <tr>\n",
       "      <th>13</th>\n",
       "      <td>0000000000949</td>\n",
       "      <td>Salade de carottes râpées</td>\n",
       "      <td>NaN</td>\n",
       "      <td>Meals,Prepared vegetables,Grated carrots,Seaso...</td>\n",
       "      <td>32</td>\n",
       "      <td>134</td>\n",
       "      <td>0.3</td>\n",
       "      <td>0.1</td>\n",
       "      <td>5.3</td>\n",
       "      <td>3.9</td>\n",
       "      <td>0.9</td>\n",
       "      <td>0.42</td>\n",
       "      <td>0.168</td>\n",
       "      <td>1</td>\n",
       "      <td>NaN</td>\n",
       "      <td>0.133333</td>\n",
       "    </tr>\n",
       "    <tr>\n",
       "      <th>...</th>\n",
       "      <td>...</td>\n",
       "      <td>...</td>\n",
       "      <td>...</td>\n",
       "      <td>...</td>\n",
       "      <td>...</td>\n",
       "      <td>...</td>\n",
       "      <td>...</td>\n",
       "      <td>...</td>\n",
       "      <td>...</td>\n",
       "      <td>...</td>\n",
       "      <td>...</td>\n",
       "      <td>...</td>\n",
       "      <td>...</td>\n",
       "      <td>...</td>\n",
       "      <td>...</td>\n",
       "      <td>...</td>\n",
       "    </tr>\n",
       "    <tr>\n",
       "      <th>1555476</th>\n",
       "      <td>9999991042742</td>\n",
       "      <td>Mousse au chocolat noir</td>\n",
       "      <td>NaN</td>\n",
       "      <td>Desserts,Chocolate desserts,Chocolate mousses</td>\n",
       "      <td>346</td>\n",
       "      <td>1448</td>\n",
       "      <td>27</td>\n",
       "      <td>17</td>\n",
       "      <td>19</td>\n",
       "      <td>18</td>\n",
       "      <td>6</td>\n",
       "      <td>0.19</td>\n",
       "      <td>0.076</td>\n",
       "      <td>17</td>\n",
       "      <td>NaN</td>\n",
       "      <td>0.133333</td>\n",
       "    </tr>\n",
       "    <tr>\n",
       "      <th>1555478</th>\n",
       "      <td>9999991149090</td>\n",
       "      <td>Riz parfumé</td>\n",
       "      <td>King Elephant</td>\n",
       "      <td>Plant-based foods and beverages,Plant-based fo...</td>\n",
       "      <td>351</td>\n",
       "      <td>1469</td>\n",
       "      <td>0.5</td>\n",
       "      <td>0</td>\n",
       "      <td>80</td>\n",
       "      <td>0</td>\n",
       "      <td>7</td>\n",
       "      <td>0</td>\n",
       "      <td>0</td>\n",
       "      <td>0</td>\n",
       "      <td>NaN</td>\n",
       "      <td>0.0666667</td>\n",
       "    </tr>\n",
       "    <tr>\n",
       "      <th>1555482</th>\n",
       "      <td>9999999004360</td>\n",
       "      <td>Minis beignets</td>\n",
       "      <td>NaN</td>\n",
       "      <td>Snacks,Sweet snacks,Sweet Fritters</td>\n",
       "      <td>333</td>\n",
       "      <td>1393</td>\n",
       "      <td>20.2</td>\n",
       "      <td>6</td>\n",
       "      <td>30.9</td>\n",
       "      <td>10.4</td>\n",
       "      <td>7.4</td>\n",
       "      <td>1.1</td>\n",
       "      <td>0.44</td>\n",
       "      <td>15</td>\n",
       "      <td>NaN</td>\n",
       "      <td>0.133333</td>\n",
       "    </tr>\n",
       "    <tr>\n",
       "      <th>1555484</th>\n",
       "      <td>99999995</td>\n",
       "      <td>Steak haché pur boeuf</td>\n",
       "      <td>NaN</td>\n",
       "      <td>Meats,Beef,Steaks,Beef steaks,Ground steaks,Gr...</td>\n",
       "      <td>131</td>\n",
       "      <td>548</td>\n",
       "      <td>5</td>\n",
       "      <td>2.3</td>\n",
       "      <td>0</td>\n",
       "      <td>0</td>\n",
       "      <td>21.5</td>\n",
       "      <td>0.18</td>\n",
       "      <td>0.072</td>\n",
       "      <td>-2</td>\n",
       "      <td>NaN</td>\n",
       "      <td>0.133333</td>\n",
       "    </tr>\n",
       "    <tr>\n",
       "      <th>Total</th>\n",
       "      <td>0</td>\n",
       "      <td>0.0346904</td>\n",
       "      <td>0.302957</td>\n",
       "      <td>0.421298</td>\n",
       "      <td>0.2428</td>\n",
       "      <td>0.168235</td>\n",
       "      <td>0.174449</td>\n",
       "      <td>0.173235</td>\n",
       "      <td>0.174946</td>\n",
       "      <td>0.17268</td>\n",
       "      <td>0.17054</td>\n",
       "      <td>0.194266</td>\n",
       "      <td>0.194268</td>\n",
       "      <td>0.537193</td>\n",
       "      <td>0.741382</td>\n",
       "      <td>0</td>\n",
       "    </tr>\n",
       "  </tbody>\n",
       "</table>\n",
       "<p>412537 rows × 16 columns</p>\n",
       "</div>"
      ],
      "text/plain": [
       "                  code                  product_name         brands  \\\n",
       "0        0000000000017              Vitória crackers            NaN   \n",
       "3        0000000000100   moutarde au moût de raisin   courte paille   \n",
       "5        0000000000123         Sauce Sweety chili 0%            NaN   \n",
       "6        0000000000178                     Mini coco            NaN   \n",
       "13       0000000000949     Salade de carottes râpées            NaN   \n",
       "...                ...                           ...            ...   \n",
       "1555476  9999991042742       Mousse au chocolat noir            NaN   \n",
       "1555478  9999991149090                   Riz parfumé  King Elephant   \n",
       "1555482  9999999004360                Minis beignets            NaN   \n",
       "1555484       99999995         Steak haché pur boeuf            NaN   \n",
       "Total                0                     0.0346904       0.302957   \n",
       "\n",
       "                                             categories_en energy-kcal_100g  \\\n",
       "0                                                      NaN              375   \n",
       "3                     Groceries,Condiments,Sauces,Mustards              NaN   \n",
       "5                                                      NaN               21   \n",
       "6                                                      NaN               60   \n",
       "13       Meals,Prepared vegetables,Grated carrots,Seaso...               32   \n",
       "...                                                    ...              ...   \n",
       "1555476      Desserts,Chocolate desserts,Chocolate mousses              346   \n",
       "1555478  Plant-based foods and beverages,Plant-based fo...              351   \n",
       "1555482                 Snacks,Sweet snacks,Sweet Fritters              333   \n",
       "1555484  Meats,Beef,Steaks,Beef steaks,Ground steaks,Gr...              131   \n",
       "Total                                             0.421298           0.2428   \n",
       "\n",
       "        energy_100g  fat_100g saturated-fat_100g carbohydrates_100g  \\\n",
       "0              1569         7               3.08               70.1   \n",
       "3               936       8.2                2.2                 29   \n",
       "5                88         0                  0                4.8   \n",
       "6               251         3                  1                 10   \n",
       "13              134       0.3                0.1                5.3   \n",
       "...             ...       ...                ...                ...   \n",
       "1555476        1448        27                 17                 19   \n",
       "1555478        1469       0.5                  0                 80   \n",
       "1555482        1393      20.2                  6               30.9   \n",
       "1555484         548         5                2.3                  0   \n",
       "Total      0.168235  0.174449           0.173235           0.174946   \n",
       "\n",
       "        sugars_100g proteins_100g salt_100g sodium_100g  \\\n",
       "0                15           7.8       1.4        0.56   \n",
       "3                22           5.1       4.6        1.84   \n",
       "5               0.4           0.2      2.04       0.816   \n",
       "6                 3             2      1.15        0.46   \n",
       "13              3.9           0.9      0.42       0.168   \n",
       "...             ...           ...       ...         ...   \n",
       "1555476          18             6      0.19       0.076   \n",
       "1555478           0             7         0           0   \n",
       "1555482        10.4           7.4       1.1        0.44   \n",
       "1555484           0          21.5      0.18       0.072   \n",
       "Total       0.17268       0.17054  0.194266    0.194268   \n",
       "\n",
       "        nutrition-score-fr_100g fiber_100g    Total_R  \n",
       "0                           NaN        NaN   0.266667  \n",
       "3                            18          0  0.0666667  \n",
       "5                           NaN        NaN   0.266667  \n",
       "6                           NaN        NaN   0.266667  \n",
       "13                            1        NaN   0.133333  \n",
       "...                         ...        ...        ...  \n",
       "1555476                      17        NaN   0.133333  \n",
       "1555478                       0        NaN  0.0666667  \n",
       "1555482                      15        NaN   0.133333  \n",
       "1555484                      -2        NaN   0.133333  \n",
       "Total                  0.537193   0.741382          0  \n",
       "\n",
       "[412537 rows x 16 columns]"
      ]
     },
     "execution_count": 32,
     "metadata": {},
     "output_type": "execute_result"
    }
   ],
   "source": [
    "d_7_1_1 = pd.DataFrame(data=d_7_1)\n",
    "print(d_7_1.describe())\n",
    "d_7_1_2 = d_7_1_1.sort_values(by=['Total_R'], ascending=False)\n",
    "d_7 = d_6.T\n",
    "d_7.drop(d_7[d_7.Total_R > 0.266667].index, inplace=True)\n",
    "d_7"
   ]
  },
  {
   "cell_type": "code",
   "execution_count": 33,
   "metadata": {},
   "outputs": [
    {
     "data": {
      "text/plain": [
       "Text(0.5, 1.0, 'Schema 12  - 5eme passage : Lignes avec peu de valeur ')"
      ]
     },
     "execution_count": 33,
     "metadata": {},
     "output_type": "execute_result"
    },
    {
     "data": {
      "image/png": "[encoded data removed]",
      "text/plain": [
       "<Figure size 432x288 with 1 Axes>"
      ]
     },
     "metadata": {},
     "output_type": "display_data"
    }
   ],
   "source": [
    "boxplot = d_7_1_2.boxplot(column=['Total_R'])\n",
    "plt.title(\"Schema 12  - 5eme passage : Lignes avec peu de valeur \")"
   ]
  },
  {
   "cell_type": "code",
   "execution_count": 34,
   "metadata": {},
   "outputs": [],
   "source": [
    "#plt.figure(figsize=(15, 10))\n",
    "#sns.set(font_scale=0.5)\n",
    "#sns.set_theme(style=\"whitegrid\")\n",
    "#ax = sns.barplot(x=d_7_1_2.index, y=\"Total_R\", data=d_7_1_2)\n",
    "#res.set(xlim=(3),xticks=[],yticks=[])\n",
    "#plt.xticks(rotation=90)\n",
    "#plt.title(\"Schema 12  - 5eme passage : Lignes avec peu de valeur\", fontsize=15)\n"
   ]
  },
  {
   "cell_type": "code",
   "execution_count": 35,
   "metadata": {},
   "outputs": [
    {
     "name": "stdout",
     "output_type": "stream",
     "text": [
      "//////////////////////\n",
      "Empty Cell 5 :  12 %\n",
      "//////////////////////\n"
     ]
    },
    {
     "data": {
      "image/png": "[encoded data removed]",
      "text/plain": [
       "<Figure size 720x720 with 1 Axes>"
      ]
     },
     "metadata": {},
     "output_type": "display_data"
    }
   ],
   "source": [
    "mEmptyCell_data = mEmptyCell(d_7)\n",
    "print(\"//////////////////////\")\n",
    "print(\"Empty Cell 5 : \", mEmptyCell_data ,\"%\")\n",
    "print(\"//////////////////////\")\n",
    "\n",
    "str = \"Schema 13 Fin du 5eme passage : Lignes avec peu de valeur / Cellules Pleines : 88% / Cellules Vides : 12%\"\n",
    "a = mEmptyGraph(mEmptyCell_data,str)"
   ]
  },
  {
   "cell_type": "markdown",
   "metadata": {},
   "source": [
    "# 8 Last Drop"
   ]
  },
  {
   "cell_type": "code",
   "execution_count": 36,
   "metadata": {
    "scrolled": false
   },
   "outputs": [
    {
     "data": {
      "text/html": [
       "<div>\n",
       "<style scoped>\n",
       "    .dataframe tbody tr th:only-of-type {\n",
       "        vertical-align: middle;\n",
       "    }\n",
       "\n",
       "    .dataframe tbody tr th {\n",
       "        vertical-align: top;\n",
       "    }\n",
       "\n",
       "    .dataframe thead th {\n",
       "        text-align: right;\n",
       "    }\n",
       "</style>\n",
       "<table border=\"1\" class=\"dataframe\">\n",
       "  <thead>\n",
       "    <tr style=\"text-align: right;\">\n",
       "      <th></th>\n",
       "      <th>code</th>\n",
       "      <th>product_name</th>\n",
       "      <th>brands</th>\n",
       "      <th>categories_en</th>\n",
       "      <th>energy-kcal_100g</th>\n",
       "      <th>energy_100g</th>\n",
       "      <th>fat_100g</th>\n",
       "      <th>saturated-fat_100g</th>\n",
       "      <th>carbohydrates_100g</th>\n",
       "      <th>sugars_100g</th>\n",
       "      <th>proteins_100g</th>\n",
       "      <th>salt_100g</th>\n",
       "      <th>sodium_100g</th>\n",
       "      <th>nutrition-score-fr_100g</th>\n",
       "      <th>fiber_100g</th>\n",
       "    </tr>\n",
       "  </thead>\n",
       "  <tbody>\n",
       "    <tr>\n",
       "      <th>0</th>\n",
       "      <td>0000000000017</td>\n",
       "      <td>Vitória crackers</td>\n",
       "      <td>NaN</td>\n",
       "      <td>NaN</td>\n",
       "      <td>375</td>\n",
       "      <td>1569</td>\n",
       "      <td>7</td>\n",
       "      <td>3.08</td>\n",
       "      <td>70.1</td>\n",
       "      <td>15</td>\n",
       "      <td>7.8</td>\n",
       "      <td>1.4</td>\n",
       "      <td>0.56</td>\n",
       "      <td>NaN</td>\n",
       "      <td>NaN</td>\n",
       "    </tr>\n",
       "    <tr>\n",
       "      <th>3</th>\n",
       "      <td>0000000000100</td>\n",
       "      <td>moutarde au moût de raisin</td>\n",
       "      <td>courte paille</td>\n",
       "      <td>Groceries,Condiments,Sauces,Mustards</td>\n",
       "      <td>NaN</td>\n",
       "      <td>936</td>\n",
       "      <td>8.2</td>\n",
       "      <td>2.2</td>\n",
       "      <td>29</td>\n",
       "      <td>22</td>\n",
       "      <td>5.1</td>\n",
       "      <td>4.6</td>\n",
       "      <td>1.84</td>\n",
       "      <td>18</td>\n",
       "      <td>0</td>\n",
       "    </tr>\n",
       "    <tr>\n",
       "      <th>5</th>\n",
       "      <td>0000000000123</td>\n",
       "      <td>Sauce Sweety chili 0%</td>\n",
       "      <td>NaN</td>\n",
       "      <td>NaN</td>\n",
       "      <td>21</td>\n",
       "      <td>88</td>\n",
       "      <td>0</td>\n",
       "      <td>0</td>\n",
       "      <td>4.8</td>\n",
       "      <td>0.4</td>\n",
       "      <td>0.2</td>\n",
       "      <td>2.04</td>\n",
       "      <td>0.816</td>\n",
       "      <td>NaN</td>\n",
       "      <td>NaN</td>\n",
       "    </tr>\n",
       "    <tr>\n",
       "      <th>6</th>\n",
       "      <td>0000000000178</td>\n",
       "      <td>Mini coco</td>\n",
       "      <td>NaN</td>\n",
       "      <td>NaN</td>\n",
       "      <td>60</td>\n",
       "      <td>251</td>\n",
       "      <td>3</td>\n",
       "      <td>1</td>\n",
       "      <td>10</td>\n",
       "      <td>3</td>\n",
       "      <td>2</td>\n",
       "      <td>1.15</td>\n",
       "      <td>0.46</td>\n",
       "      <td>NaN</td>\n",
       "      <td>NaN</td>\n",
       "    </tr>\n",
       "    <tr>\n",
       "      <th>13</th>\n",
       "      <td>0000000000949</td>\n",
       "      <td>Salade de carottes râpées</td>\n",
       "      <td>NaN</td>\n",
       "      <td>Meals,Prepared vegetables,Grated carrots,Seaso...</td>\n",
       "      <td>32</td>\n",
       "      <td>134</td>\n",
       "      <td>0.3</td>\n",
       "      <td>0.1</td>\n",
       "      <td>5.3</td>\n",
       "      <td>3.9</td>\n",
       "      <td>0.9</td>\n",
       "      <td>0.42</td>\n",
       "      <td>0.168</td>\n",
       "      <td>1</td>\n",
       "      <td>NaN</td>\n",
       "    </tr>\n",
       "    <tr>\n",
       "      <th>...</th>\n",
       "      <td>...</td>\n",
       "      <td>...</td>\n",
       "      <td>...</td>\n",
       "      <td>...</td>\n",
       "      <td>...</td>\n",
       "      <td>...</td>\n",
       "      <td>...</td>\n",
       "      <td>...</td>\n",
       "      <td>...</td>\n",
       "      <td>...</td>\n",
       "      <td>...</td>\n",
       "      <td>...</td>\n",
       "      <td>...</td>\n",
       "      <td>...</td>\n",
       "      <td>...</td>\n",
       "    </tr>\n",
       "    <tr>\n",
       "      <th>1555476</th>\n",
       "      <td>9999991042742</td>\n",
       "      <td>Mousse au chocolat noir</td>\n",
       "      <td>NaN</td>\n",
       "      <td>Desserts,Chocolate desserts,Chocolate mousses</td>\n",
       "      <td>346</td>\n",
       "      <td>1448</td>\n",
       "      <td>27</td>\n",
       "      <td>17</td>\n",
       "      <td>19</td>\n",
       "      <td>18</td>\n",
       "      <td>6</td>\n",
       "      <td>0.19</td>\n",
       "      <td>0.076</td>\n",
       "      <td>17</td>\n",
       "      <td>NaN</td>\n",
       "    </tr>\n",
       "    <tr>\n",
       "      <th>1555478</th>\n",
       "      <td>9999991149090</td>\n",
       "      <td>Riz parfumé</td>\n",
       "      <td>King Elephant</td>\n",
       "      <td>Plant-based foods and beverages,Plant-based fo...</td>\n",
       "      <td>351</td>\n",
       "      <td>1469</td>\n",
       "      <td>0.5</td>\n",
       "      <td>0</td>\n",
       "      <td>80</td>\n",
       "      <td>0</td>\n",
       "      <td>7</td>\n",
       "      <td>0</td>\n",
       "      <td>0</td>\n",
       "      <td>0</td>\n",
       "      <td>NaN</td>\n",
       "    </tr>\n",
       "    <tr>\n",
       "      <th>1555482</th>\n",
       "      <td>9999999004360</td>\n",
       "      <td>Minis beignets</td>\n",
       "      <td>NaN</td>\n",
       "      <td>Snacks,Sweet snacks,Sweet Fritters</td>\n",
       "      <td>333</td>\n",
       "      <td>1393</td>\n",
       "      <td>20.2</td>\n",
       "      <td>6</td>\n",
       "      <td>30.9</td>\n",
       "      <td>10.4</td>\n",
       "      <td>7.4</td>\n",
       "      <td>1.1</td>\n",
       "      <td>0.44</td>\n",
       "      <td>15</td>\n",
       "      <td>NaN</td>\n",
       "    </tr>\n",
       "    <tr>\n",
       "      <th>1555484</th>\n",
       "      <td>99999995</td>\n",
       "      <td>Steak haché pur boeuf</td>\n",
       "      <td>NaN</td>\n",
       "      <td>Meats,Beef,Steaks,Beef steaks,Ground steaks,Gr...</td>\n",
       "      <td>131</td>\n",
       "      <td>548</td>\n",
       "      <td>5</td>\n",
       "      <td>2.3</td>\n",
       "      <td>0</td>\n",
       "      <td>0</td>\n",
       "      <td>21.5</td>\n",
       "      <td>0.18</td>\n",
       "      <td>0.072</td>\n",
       "      <td>-2</td>\n",
       "      <td>NaN</td>\n",
       "    </tr>\n",
       "    <tr>\n",
       "      <th>Total</th>\n",
       "      <td>0</td>\n",
       "      <td>0.0346904</td>\n",
       "      <td>0.302957</td>\n",
       "      <td>0.421298</td>\n",
       "      <td>0.2428</td>\n",
       "      <td>0.168235</td>\n",
       "      <td>0.174449</td>\n",
       "      <td>0.173235</td>\n",
       "      <td>0.174946</td>\n",
       "      <td>0.17268</td>\n",
       "      <td>0.17054</td>\n",
       "      <td>0.194266</td>\n",
       "      <td>0.194268</td>\n",
       "      <td>0.537193</td>\n",
       "      <td>0.741382</td>\n",
       "    </tr>\n",
       "  </tbody>\n",
       "</table>\n",
       "<p>412537 rows × 15 columns</p>\n",
       "</div>"
      ],
      "text/plain": [
       "                  code                  product_name         brands  \\\n",
       "0        0000000000017              Vitória crackers            NaN   \n",
       "3        0000000000100   moutarde au moût de raisin   courte paille   \n",
       "5        0000000000123         Sauce Sweety chili 0%            NaN   \n",
       "6        0000000000178                     Mini coco            NaN   \n",
       "13       0000000000949     Salade de carottes râpées            NaN   \n",
       "...                ...                           ...            ...   \n",
       "1555476  9999991042742       Mousse au chocolat noir            NaN   \n",
       "1555478  9999991149090                   Riz parfumé  King Elephant   \n",
       "1555482  9999999004360                Minis beignets            NaN   \n",
       "1555484       99999995         Steak haché pur boeuf            NaN   \n",
       "Total                0                     0.0346904       0.302957   \n",
       "\n",
       "                                             categories_en energy-kcal_100g  \\\n",
       "0                                                      NaN              375   \n",
       "3                     Groceries,Condiments,Sauces,Mustards              NaN   \n",
       "5                                                      NaN               21   \n",
       "6                                                      NaN               60   \n",
       "13       Meals,Prepared vegetables,Grated carrots,Seaso...               32   \n",
       "...                                                    ...              ...   \n",
       "1555476      Desserts,Chocolate desserts,Chocolate mousses              346   \n",
       "1555478  Plant-based foods and beverages,Plant-based fo...              351   \n",
       "1555482                 Snacks,Sweet snacks,Sweet Fritters              333   \n",
       "1555484  Meats,Beef,Steaks,Beef steaks,Ground steaks,Gr...              131   \n",
       "Total                                             0.421298           0.2428   \n",
       "\n",
       "        energy_100g  fat_100g saturated-fat_100g carbohydrates_100g  \\\n",
       "0              1569         7               3.08               70.1   \n",
       "3               936       8.2                2.2                 29   \n",
       "5                88         0                  0                4.8   \n",
       "6               251         3                  1                 10   \n",
       "13              134       0.3                0.1                5.3   \n",
       "...             ...       ...                ...                ...   \n",
       "1555476        1448        27                 17                 19   \n",
       "1555478        1469       0.5                  0                 80   \n",
       "1555482        1393      20.2                  6               30.9   \n",
       "1555484         548         5                2.3                  0   \n",
       "Total      0.168235  0.174449           0.173235           0.174946   \n",
       "\n",
       "        sugars_100g proteins_100g salt_100g sodium_100g  \\\n",
       "0                15           7.8       1.4        0.56   \n",
       "3                22           5.1       4.6        1.84   \n",
       "5               0.4           0.2      2.04       0.816   \n",
       "6                 3             2      1.15        0.46   \n",
       "13              3.9           0.9      0.42       0.168   \n",
       "...             ...           ...       ...         ...   \n",
       "1555476          18             6      0.19       0.076   \n",
       "1555478           0             7         0           0   \n",
       "1555482        10.4           7.4       1.1        0.44   \n",
       "1555484           0          21.5      0.18       0.072   \n",
       "Total       0.17268       0.17054  0.194266    0.194268   \n",
       "\n",
       "        nutrition-score-fr_100g fiber_100g  \n",
       "0                           NaN        NaN  \n",
       "3                            18          0  \n",
       "5                           NaN        NaN  \n",
       "6                           NaN        NaN  \n",
       "13                            1        NaN  \n",
       "...                         ...        ...  \n",
       "1555476                      17        NaN  \n",
       "1555478                       0        NaN  \n",
       "1555482                      15        NaN  \n",
       "1555484                      -2        NaN  \n",
       "Total                  0.537193   0.741382  \n",
       "\n",
       "[412537 rows x 15 columns]"
      ]
     },
     "execution_count": 36,
     "metadata": {},
     "output_type": "execute_result"
    }
   ],
   "source": [
    "d_7.drop('Total_R', inplace=True, axis=1)\n",
    "d_7"
   ]
  },
  {
   "cell_type": "code",
   "execution_count": 37,
   "metadata": {},
   "outputs": [
    {
     "name": "stdout",
     "output_type": "stream",
     "text": [
      "//////////////////////\n",
      "Empty Cell 6 :  13 %\n",
      "//////////////////////\n"
     ]
    },
    {
     "data": {
      "image/png": "[encoded data removed]",
      "text/plain": [
       "<Figure size 720x720 with 1 Axes>"
      ]
     },
     "metadata": {},
     "output_type": "display_data"
    }
   ],
   "source": [
    "mEmptyCell_data = mEmptyCell(d_7)\n",
    "print(\"//////////////////////\")\n",
    "print(\"Empty Cell 6 : \", mEmptyCell_data ,\"%\")\n",
    "print(\"//////////////////////\")\n",
    "\n",
    "str = \"Schema 14  - Fin du 6eme passage : Nettoyage / Cellules Pleines : 88% / Cellules Vides : 12%\"\n",
    "a = mEmptyGraph(mEmptyCell_data,str)"
   ]
  },
  {
   "cell_type": "markdown",
   "metadata": {},
   "source": [
    "# Send Data"
   ]
  },
  {
   "cell_type": "code",
   "execution_count": 38,
   "metadata": {},
   "outputs": [
    {
     "name": "stdout",
     "output_type": "stream",
     "text": [
      "Stored 'data' (DataFrame)\n",
      "            code                  product_name         brands  \\\n",
      "0  0000000000017              Vitória crackers            NaN   \n",
      "3  0000000000100   moutarde au moût de raisin   courte paille   \n",
      "\n",
      "                          categories_en energy-kcal_100g energy_100g fat_100g  \\\n",
      "0                                   NaN              375        1569        7   \n",
      "3  Groceries,Condiments,Sauces,Mustards              NaN         936      8.2   \n",
      "\n",
      "  saturated-fat_100g carbohydrates_100g sugars_100g proteins_100g salt_100g  \\\n",
      "0               3.08               70.1          15           7.8       1.4   \n",
      "3                2.2                 29          22           5.1       4.6   \n",
      "\n",
      "  sodium_100g nutrition-score-fr_100g fiber_100g  \n",
      "0        0.56                     NaN        NaN  \n",
      "3        1.84                      18          0  \n"
     ]
    }
   ],
   "source": [
    "data = d_7\n",
    "%store data\n",
    "print(d_7.head(2))\n",
    "del data"
   ]
  },
  {
   "cell_type": "code",
   "execution_count": null,
   "metadata": {},
   "outputs": [],
   "source": []
  },
  {
   "cell_type": "code",
   "execution_count": null,
   "metadata": {},
   "outputs": [],
   "source": []
  },
  {
   "cell_type": "code",
   "execution_count": null,
   "metadata": {},
   "outputs": [],
   "source": []
  },
  {
   "cell_type": "code",
   "execution_count": null,
   "metadata": {},
   "outputs": [],
   "source": []
  }
 ],
 "metadata": {
  "kernelspec": {
   "display_name": "Python 3",
   "language": "python",
   "name": "python3"
  },
  "language_info": {
   "codemirror_mode": {
    "name": "ipython",
    "version": 3
   },
   "file_extension": ".py",
   "mimetype": "text/x-python",
   "name": "python",
   "nbconvert_exporter": "python",
   "pygments_lexer": "ipython3",
   "version": "3.8.5"
  }
 },
 "nbformat": 4,
 "nbformat_minor": 4
}
